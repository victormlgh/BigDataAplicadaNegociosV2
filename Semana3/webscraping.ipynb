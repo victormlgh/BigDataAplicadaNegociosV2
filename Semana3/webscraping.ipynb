{
 "cells": [
  {
   "cell_type": "markdown",
   "metadata": {},
   "source": [
    "<h1>Explorando la Reputación Corporativa: Parte de Web Scraping</h1>\n",
    "Por Víctor González"
   ]
  },
  {
   "cell_type": "markdown",
   "metadata": {},
   "source": [
    "<h1>Introducción</h1>\n",
    "En la era digital, la reputación corporativa se ha convertido en un activo invaluable para las empresas, ya que influye en la percepción de los consumidores, las decisiones de inversión y la confianza del público en general. En este contexto, el acceso a datos en línea se ha vuelto fundamental para comprender y gestionar eficazmente la reputación de una empresa.\n",
    "\n",
    "El web scraping, una técnica que permite extraer datos de sitios web de manera automatizada, emerge como una herramienta poderosa para explorar y analizar la reputación corporativa en el vasto panorama de Internet. Al recopilar información de fuentes públicas como redes sociales, sitios de reseñas, noticias y blogs, el web scraping ofrece una visión completa y actualizada de cómo una empresa es percibida en línea.\n",
    "\n",
    "En esta primera parte, nos enfocaremos en los fundamentos del web scraping y su aplicación en la recopilación de datos relacionados con la reputación corporativa. \n",
    "\n",
    "<h1>Contexto</h1>\n",
    "\n",
    "\n",
    "El contexto del web scraping se encuentra en el vasto mundo digital de internet, donde una gran cantidad de información se encuentra disponible en forma de páginas web. Estas páginas web contienen datos valiosos que pueden ser útiles para una variedad de propósitos, desde la investigación académica hasta el análisis de mercado y la monitorización de la reputación corporativa.\n",
    "\n",
    "\n",
    "<h1>Web Scraping: teoría e implementación </h1>\n",
    "\n",
    "La práctica del web scraping implica la extracción automatizada de datos de páginas web utilizando herramientas y técnicas especializadas. Teóricamente, el proceso consiste en enviar solicitudes HTTP a un sitio web, analizar la estructura del HTML recibido y extraer los datos relevantes según ciertos criterios predefinidos, como etiquetas HTML específicas, clases o identificadores.\n",
    "\n",
    "En la implementación práctica, se utilizan diversas bibliotecas y frameworks de programación, como Beautiful Soup en Python, para realizar estas tareas de forma eficiente. Estas herramientas permiten a los desarrolladores escribir scripts que navegan por el contenido web, identifican patrones y extraen la información deseada.\n",
    "\n",
    "Sin embargo, la implementación efectiva del web scraping no se limita solo a la extracción de datos, sino que también implica el manejo de desafíos como la gestión de la tasa de solicitud para evitar bloqueos por parte del servidor, el tratamiento de datos inconsistentes o incompletos, y el cumplimiento de las políticas de uso del sitio web objetivo.\n",
    "\n",
    "<h2>Código en Python</h2>\n",
    "\n",
    "Para trabajar en Python debemos importar las librerias que vamos a utilizar para cargar los datos y poder analizarlos.\n"
   ]
  },
  {
   "cell_type": "code",
   "execution_count": null,
   "metadata": {},
   "outputs": [],
   "source": [
    "import numpy as np\n",
    "import scipy\n",
    "import pandas as pd\n",
    "import math\n",
    "import random\n",
    "import sklearn\n",
    "from nltk.corpus import stopwords\n",
    "from scipy.sparse import csr_matrix\n",
    "from sklearn.model_selection import train_test_split\n",
    "from sklearn.feature_extraction.text import TfidfVectorizer\n",
    "from sklearn.metrics.pairwise import cosine_similarity\n",
    "from scipy.sparse.linalg import svds\n",
    "import seaborn as sns\n",
    "from matplotlib import pyplot as plt\n",
    "import re"
   ]
  }
 ],
 "metadata": {
  "kernelspec": {
   "display_name": "Python 3",
   "language": "python",
   "name": "python3"
  },
  "language_info": {
   "name": "python",
   "version": "3.8.2"
  }
 },
 "nbformat": 4,
 "nbformat_minor": 2
}
