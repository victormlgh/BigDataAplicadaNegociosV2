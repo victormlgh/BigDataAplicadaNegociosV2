{
 "cells": [
  {
   "cell_type": "markdown",
   "metadata": {},
   "source": [
    "<h1>Explorando la Reputación Corporativa: Parte de Web Scraping</h1>\n",
    "Por Víctor González"
   ]
  },
  {
   "cell_type": "markdown",
   "metadata": {},
   "source": [
    "<h1>Introducción</h1>\n",
    "En el panorama actual de las empresas, la colaboración efectiva y el intercambio de conocimientos son piedras angulares para el éxito organizacional. En este contexto, plataformas como Deskdrop emergen como herramientas indispensables, facilitando la comunicación interna y el intercambio de información relevante entre los empleados de una empresa.\n",
    "\n",
    "Deskdrop, una plataforma desarrollada por una empresa líder en tecnología, ofrece un entorno dinámico donde los profesionales pueden compartir artículos, noticias y recursos de interés con sus colegas. Esta plataforma no solo fomenta la difusión de información pertinente, sino que también promueve la colaboración y el diálogo entre equipos, impulsando así la innovación y el crecimiento dentro de la organización.\n",
    "\n",
    "En este contexto, surge la necesidad de optimizar la experiencia de usuario y potenciar la utilidad de Deskdrop a través de un sistema de recomendación de artículos inteligente. Este sistema, basado en algoritmos avanzados de análisis de contenido y comportamiento de usuario, tiene como objetivo principal proporcionar recomendaciones personalizadas y relevantes a cada empleado, enriqueciendo así su experiencia en la plataforma y aumentando su participación activa.\n",
    "\n",
    "En este artículo, exploraremos el diseño y la implementación de dicho sistema de recomendación, así como su impacto en la dinámica de interacción y colaboración dentro de Deskdrop. Analizaremos cómo las interacciones entre los usuarios, combinadas con técnicas de aprendizaje automático y procesamiento de lenguaje natural, impulsan la generación de recomendaciones precisas y contextualizadas, adaptadas a las necesidades e intereses de cada individuo.\n",
    "\n",
    "<h1>Contexto</h1>\n",
    "\n",
    "A través de este estudio, esperamos ofrecer una visión detallada de cómo las interacciones en plataformas de comunicación interna pueden transformarse en recomendaciones valiosas, promoviendo el intercambio de conocimientos y facilitando la toma de decisiones informadas en el entorno empresarial moderno.\n",
    "\n",
    "Los datos que emplearemos contiene un período de 12 meses de la plataforma de comunicación interna DeskDrop. El conjunto de datos comprende alrededor de 73,000 interacciones de usuarios, involucrados en la plataforma al compartir más de 3,000 artículos públicos. Este conjunto de datos se destaca por sus atributos de artículo detallados, incluyendo URL, título y texto en dos idiomas, así como información contextual como fecha/hora, cliente utilizado y geolocalización. En DeskDrop, todos los usuarios deben iniciar sesión, permitiendo un seguimiento a largo plazo de preferencias sin depender de cookies. Además, registra varios tipos de interacciones de usuarios, como comentarios, me gusta y vistas, y rastrea estas interacciones en múltiples plataformas, incluyendo navegadores web y aplicaciones móviles, mostrando la diversidad de los hábitos de uso.\n",
    "\n",
    "Este entorno de datos ofrece una oportunidad única para explorar y comprender las dinámicas de interacción en una plataforma de comunicación interna, así como para desarrollar y evaluar sistemas de recomendación que puedan mejorar la experiencia del usuario y la relevancia de los contenidos compartidos.\n",
    "\n",
    "<h1>Sistemas de Recomendación: teoría e implementación </h1>\n",
    "\n",
    "Los sistemas de recomendación constituyen una parte fundamental de la inteligencia artificial y el análisis de datos, con aplicaciones que van desde plataformas de streaming hasta comercio electrónico y más allá. En teoría, estos sistemas emplean algoritmos avanzados para predecir las preferencias de los usuarios y recomendarles elementos relevantes. Esto se logra mediante el análisis de datos de usuario, como historiales de navegación, compras anteriores y patrones de comportamiento. La implementación práctica de los sistemas de recomendación implica la selección y adaptación de algoritmos adecuados para el contexto específico, así como la optimización continua a medida que se recopilan más datos y se refinan los modelos. Además, la evaluación rigurosa de la efectividad y precisión de las recomendaciones es crucial para garantizar una experiencia de usuario satisfactoria y mejorar la calidad del servicio ofrecido.\n",
    "\n",
    "<h2>Código en Python</h2>\n",
    "\n",
    "Para trabajar en Python debemos importar las librerias que vamos a utilizar para cargar los datos y poder analizarlos.\n"
   ]
  },
  {
   "cell_type": "code",
   "execution_count": null,
   "metadata": {},
   "outputs": [],
   "source": [
    "import numpy as np\n",
    "import scipy\n",
    "import pandas as pd\n",
    "import math\n",
    "import random\n",
    "import sklearn\n",
    "from nltk.corpus import stopwords\n",
    "from scipy.sparse import csr_matrix\n",
    "from sklearn.model_selection import train_test_split\n",
    "from sklearn.feature_extraction.text import TfidfVectorizer\n",
    "from sklearn.metrics.pairwise import cosine_similarity\n",
    "from scipy.sparse.linalg import svds\n",
    "import seaborn as sns\n",
    "from matplotlib import pyplot as plt\n",
    "import re"
   ]
  }
 ],
 "metadata": {
  "kernelspec": {
   "display_name": "Python 3",
   "language": "python",
   "name": "python3"
  },
  "language_info": {
   "name": "python",
   "version": "3.8.2"
  }
 },
 "nbformat": 4,
 "nbformat_minor": 2
}
