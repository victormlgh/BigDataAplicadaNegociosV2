{
 "cells": [
  {
   "cell_type": "markdown",
   "metadata": {},
   "source": [
    "<h1>Tarea</h1>\n",
    "<h3>Optimización y Pronóstico en Estrategias de Inversión Macro Cuantitativa mediante Análisis de Series Temporales</h3>"
   ]
  },
  {
   "cell_type": "markdown",
   "metadata": {},
   "source": [
    "<h1>Contexto</h1>\n",
    "\n",
    "Las estrategias de inversión macro cuantitativa se basan en el análisis exhaustivo de datos macroeconómicos y financieros a gran escala para informar decisiones de inversión. Utilizan modelos matemáticos y algoritmos para identificar patrones y oportunidades en los mercados financieros, centrándose en factores como tasas de interés, inflación y políticas gubernamentales. Estas estrategias forman parte de la inversión cuantitativa y buscan aprovechar las tendencias y desequilibrios en los mercados para obtener rendimientos positivos.\n",
    "\n",
    "Sin embargo, históricamente, la información cuantamental ha sido difícil de manejar debido a formatos desordenados, sellos de tiempo faltantes y errores en los datos. En respuesta, aplicamos modelos de regresión de panel a conjuntos de datos macro-cuantitativos, utilizando técnicas estadísticas para analizar relaciones entre múltiples variables a lo largo del tiempo.\n",
    "\n",
    "En nuestro análisis, nos concentramos en la aplicación de diversos modelos de forecasting a conjuntos de datos macro-cuantitativos, que abarcan indicadores clave para una variedad de áreas monetarias, desde el dólar australiano hasta el rand sudafricano. Este enfoque detallado nos permite explorar las dinámicas de cada mercado y detectar tendencias y patrones comunes, fundamentales para nuestras estrategias de inversión y toma de decisiones."
   ]
  },
  {
   "cell_type": "markdown",
   "metadata": {},
   "source": [
    "<h1>Asignación</h1>\n",
    "\n",
    "Después de revisar el cuaderno titulado \"Optimización y Pronóstico en Estrategias de Inversión Macro Cuantitativa mediante Análisis de Series Temporales\", tu tarea es replicar el estudio utilizando tres monedas diferentes a las del estudio original. Puedes elegir entre cualquiera de las 21 monedas restantes disponibles en el conjunto de datos. Esta amplia selección te brinda la oportunidad de explorar la dinámica de diferentes mercados monetarios y evaluar la efectividad de las estrategias de inversión en distintos contextos económicos y geográficos.\n",
    "\n",
    "Una vez que hayas seleccionado las tres monedas adicionales para tu estudio, deberás seguir los pasos detallados en el cuaderno de tarea para llevar a cabo el análisis y la optimización de las estrategias de inversión. Esto incluye la recolección y preparación de datos, la aplicación de técnicas de análisis de series temporales y la optimización de parámetros utilizando modelos matemáticos y algoritmos adecuados.\n",
    "\n",
    "Al replicar el estudio con nuevas monedas, tendrás la oportunidad de profundizar en tu comprensión de las estrategias de inversión macro cuantitativa y explorar cómo se aplican en diferentes contextos de mercado. Además, podrás comparar los resultados obtenidos con los del estudio original y evaluar la robustez y la generalización de las estrategias en una variedad de situaciones. Este proceso te permitirá adquirir experiencia práctica en el análisis de datos financieros y fortalecer tus habilidades en el campo de la inversión cuantitativa."
   ]
  },
  {
   "cell_type": "markdown",
   "metadata": {},
   "source": [
    "<h2>Código en Python</h2>\n",
    "\n",
    "En esta sección, es fundamental cargar las diferentes bibliotecas que se utilizarán en el estudio para garantizar un análisis efectivo y eficiente de los datos. A continuación, se proporciona un ejemplo de cómo podrías cargar estas bibliotecas en Python"
   ]
  },
  {
   "cell_type": "code",
   "execution_count": null,
   "metadata": {},
   "outputs": [],
   "source": [
    "import pandas as pd\n",
    "import seaborn as sns\n",
    "import matplotlib as mpl\n",
    "from matplotlib import pyplot as plt\n",
    "import numpy as np\n",
    "\n"
   ]
  },
  {
   "cell_type": "markdown",
   "metadata": {},
   "source": [
    "Después, procedemos a cargar los datos utilizando la biblioteca Pandas. Puedes descargar los datos desde el aula virtual o el repositorio de <a href='https://github.com/victormlgh/BigDataAplicadaNegociosV2/blob/main/Semana1/JPMaQS_Quantamental_Indicators.csv'>Github</a>, dependiendo de tu preferencia. "
   ]
  },
  {
   "cell_type": "code",
   "execution_count": null,
   "metadata": {},
   "outputs": [],
   "source": [
    "df = pd.read_csv('')\n"
   ]
  },
  {
   "cell_type": "markdown",
   "metadata": {},
   "source": [
    "Después de cargar los datos, es importante verificar su calidad y realizar cualquier limpieza necesaria para garantizar la precisión de nuestro análisis. Aquí tienes algunos pasos comunes que podríamos realizar para verificar y limpiar los datos:\n",
    "\n",
    "Verificar la estructura de los datos: Revisar la forma del DataFrame, el tipo de datos de cada columna y la presencia de valores faltantes.\n",
    "\n",
    "Manejo de valores faltantes: Decidir cómo manejar los valores faltantes, ya sea eliminándolos, imputándolos con algún valor, o utilizando técnicas más avanzadas como el imputado mediante modelos.\n",
    "\n",
    "Eliminar duplicados: Verificar y eliminar filas duplicadas en caso de que existan.\n",
    "\n",
    "Corrección de tipos de datos: Convertir los tipos de datos según sea necesario para el análisis."
   ]
  },
  {
   "cell_type": "code",
   "execution_count": null,
   "metadata": {},
   "outputs": [],
   "source": [
    "#df = df.drop(['Unnamed: 0'],axis=1) permite borrar una columna\n"
   ]
  },
  {
   "cell_type": "markdown",
   "metadata": {},
   "source": [
    "Antes de proceder con el análisis, es crucial confirmar que las monedas seleccionadas tengan el mismo rango de tiempo en los datos disponibles. Esto es fundamental para garantizar la comparabilidad y la coherencia en nuestro estudio. "
   ]
  },
  {
   "cell_type": "code",
   "execution_count": null,
   "metadata": {},
   "outputs": [],
   "source": [
    "#currency = df.groupby('cid').agg({'real_date': ['min','max']})\n"
   ]
  },
  {
   "cell_type": "markdown",
   "metadata": {},
   "source": [
    "Debes revisar la sección de \"Indicadores Quantamental\" del notebook original para comprender las categorías del conjunto de datos."
   ]
  },
  {
   "cell_type": "markdown",
   "metadata": {},
   "source": [
    "En una exploración inicial, deseamos hacer un pairplot y un heatmap de las siguientes variables: value, grading, eop_lag y mop_lag."
   ]
  },
  {
   "cell_type": "code",
   "execution_count": null,
   "metadata": {},
   "outputs": [],
   "source": [
    "sns.pairplot(     )\n",
    "plt.show()"
   ]
  },
  {
   "cell_type": "code",
   "execution_count": null,
   "metadata": {},
   "outputs": [],
   "source": [
    "sns.heatmap(     )\n",
    "plt.show()"
   ]
  },
  {
   "cell_type": "markdown",
   "metadata": {},
   "source": [
    "<h1>Análisis exploratorio de datos</h1>\n",
    "\n",
    "Resulta útil añadir una columna de teletipo como una concatenación de cid y xcat. Esto acorta el código para referencias a series temporales individuales."
   ]
  },
  {
   "cell_type": "code",
   "execution_count": null,
   "metadata": {},
   "outputs": [],
   "source": [
    "df['ticker'] = "
   ]
  },
  {
   "cell_type": "markdown",
   "metadata": {},
   "source": [
    "Nos gustaría mostrar un histograma que represente las rentabilidades futuras del índice bursátil para cada moneda seleccionada en tu investigación.\n",
    "\n",
    "Por favor, explicar lo que puedes interpretar del gráfico."
   ]
  },
  {
   "cell_type": "code",
   "execution_count": null,
   "metadata": {},
   "outputs": [],
   "source": [
    "dfw = df.pivot_table(index='real_date', columns='ticker', values='value').replace(0, np.nan)  # llevar df a formato ancho\n",
    "var = \n",
    "\n",
    "col='teal'\n",
    "sns.set_theme(style='whitegrid', rc={'figure.figsize':(6, 4)})  #  elige la apariencia\n",
    "sns.histplot(x = var, data=dfw, bins=20, kde=True, color=col)  # histograma con número de contenedor personalizado y superposición de kde\n",
    "plt.axvline(x= np.mean(dfw[var]), color=col, linestyle='--')  # añadir línea vertical para la media\n",
    "\n",
    "plt.title('Rentabilidades futuras del índice bursátil de XXX: media y distribución', fontsize=18)\n",
    "plt.xlabel('% anualizado', fontsize=12)\n",
    "plt.ylabel('días observados', fontsize=12)\n",
    "plt.show()\n"
   ]
  },
  {
   "cell_type": "markdown",
   "metadata": {},
   "source": [
    "Nos gustaría presentar un histograma que ilustre la inflación general anual estándar de precios al consumidor para cada moneda seleccionada en tu investigación.\n",
    "\n",
    "¿Podrías explicar lo que entiendes del gráfico?"
   ]
  },
  {
   "cell_type": "code",
   "execution_count": null,
   "metadata": {},
   "outputs": [],
   "source": [
    "var = \n",
    "\n",
    "col='royalblue'\n",
    "sns.set_theme(style='darkgrid', rc={'figure.figsize':(6, 4)})  \n",
    "sns.histplot(x = var, data=dfw, binwidth=0.2, stat = 'probability') #histograma de probabilidad y ancho de contenedor preestablecidas\n",
    "plt.axvline(x= np.mean(dfw[var]), color=col, linestyle='--')  #añadir línea vertical para la media\n",
    "plt.axvline(x= dfw[var].dropna().iloc[-1], color='red', linestyle='--')\n",
    "\n",
    "plt.title('Inflación general anual estándar de precios al consumidor de XXX, observada diariamente', fontsize=13)\n",
    "plt.xlabel('% anualizado', fontsize=11)\n",
    "plt.ylabel('probabilidad histórica (desde 2000)', fontsize=11) \n",
    "plt.show()"
   ]
  },
  {
   "cell_type": "markdown",
   "metadata": {},
   "source": [
    "Nos gustaría presentar un gráfico que compare las distribuciones reales de carry forward de divisas entre las monedas seleccionadas en tu investigación.\n",
    "\n",
    "Nos gustaría mostrar un gráfico que represente la distribución real del carry forward de divisas entre las monedas seleccionadas en tu investigación.\n",
    "\n",
    "¿Podrías explicar qué interpretas del gráfico?"
   ]
  },
  {
   "cell_type": "code",
   "execution_count": null,
   "metadata": {},
   "outputs": [],
   "source": [
    "cids_sel =  \n",
    "filt1 = df['xcat'] == \n",
    "filt2 = df['cid'].isin(cids_sel)  # elegir secciones transversales\n",
    "filt3 = df['real_date'] >= pd.to_datetime('2010-01-01') \n",
    "dfx = df[filt1 & filt2 & filt3][['value', 'cid']].replace(0, np.nan)\n",
    "\n",
    "colors = 'pastel'  # choose color palette\n",
    "sns.set_theme(style='whitegrid', rc={'figure.figsize':(8, 4)})\n",
    "ax = sns.histplot(x='value', data=dfx,  \n",
    "             hue='cid', element='poly', multiple='layer', \n",
    "             binrange=(-10, 20), binwidth = 1, stat='density', palette=colors)\n",
    "plt.title('Comparación de las distribuciones reales de carry forward de divisas', fontsize=13)\n",
    "plt.xlabel('% anualizado', fontsize=11)  \n",
    "plt.ylabel('densidad histórica', fontsize=11)\n",
    "leg = ax.axes.get_legend()\n",
    "leg.set_title('Monedas')\n",
    "plt.show()"
   ]
  },
  {
   "cell_type": "code",
   "execution_count": null,
   "metadata": {},
   "outputs": [],
   "source": [
    "colors = 'bone'\n",
    "sns.set_theme(style='whitegrid', rc={'figure.figsize':(8, 4)})\n",
    "ax = sns.histplot(x='value', data=dfx,  \n",
    "             hue='cid', element='bars', multiple='stack', \n",
    "             binrange=(-10, 20), binwidth = 0.5, stat='count', palette=colors)\n",
    "\n",
    "plt.title('Distribución real del carry forward de divisas: contribución de las divisas', fontsize=13)\n",
    "plt.xlabel('% anualizado', fontsize=11)  # set x-axis label\n",
    "plt.ylabel('días observados', fontsize=11)  # set y-axis label\n",
    "leg = ax.axes.get_legend()  # add legend box to plot to identify cross-sections\n",
    "leg.set_title('Currencies')  # give title to legend box\n",
    "plt.show()"
   ]
  },
  {
   "cell_type": "markdown",
   "metadata": {},
   "source": [
    "Nos gustaría presentar un gráfico que ilustre la expansión del crédito privado de los bancos, ajustada al salto, como porcentaje del PIB en un año, entre las monedas seleccionadas en tu investigación.\n",
    "\n",
    "Por favor, ¿puedes explicar qué interpretas del gráfico?"
   ]
  },
  {
   "cell_type": "code",
   "execution_count": null,
   "metadata": {},
   "outputs": [],
   "source": [
    "cids_sel = \n",
    "filt1 = df['xcat'] == \n",
    "filt2 = df['cid'].isin(cids_sel)  # elegir secciones transversales\n",
    "filt3 = df['real_date'] >= pd.to_datetime('2010-01-01')  # establecer fecha de inicio\n",
    "dfx = df[filt1 & filt2 & filt3]\n",
    "dfw = dfx.pivot(index=['real_date'], columns='cid', values='value')  # pivotar el marco de datos a la escala de tiempo común\n",
    "\n",
    "colors='tab10'\n",
    "sns.set_theme(style='whitegrid', rc={'figure.figsize':(6, 4)})\n",
    "ax = sns.lineplot(data=dfw, estimator=None, palette=colors, linewidth=1) \n",
    "\n",
    "plt.axhline(y=0, color='black', linestyle='--', lw=1)\n",
    "plt.title('Expansión del crédito privado de los bancos, ajustada al salto, como % del PIB en 1 año', fontsize=13) \n",
    "plt.xlabel('')  # set x-axis label\n",
    "plt.ylabel('% 6 meses sobre 6 meses, anualizado', fontsize=11) \n",
    "\n",
    "leg = ax.axes.get_legend() \n",
    "leg.set_title('Áreas monetarias')  \n",
    "\n",
    "plt.show()"
   ]
  },
  {
   "cell_type": "markdown",
   "metadata": {},
   "source": [
    "Nos gustaría presentar un gráfico que represente la carry real de divisas en los mercados emergentes: media mensual y 95 % de confianza entre las monedas seleccionadas en tu investigación.\n",
    "\n",
    "Por favor, ¿podrías explicar qué interpretas del gráfico?"
   ]
  },
  {
   "cell_type": "code",
   "execution_count": null,
   "metadata": {},
   "outputs": [],
   "source": [
    "cids_sel = \n",
    "filt1 = df['xcat'] ==\n",
    "filt2 = df['cid'].isin(cids_sel)  # elegir secciones transversales\n",
    "filt3 = df['real_date'] >= pd.to_datetime('2010-01-01')  # establecer fecha de inicio\n",
    "\n",
    "dfx = df[filt1 & filt2 & filt3]\n",
    "dfm = dfx.groupby(['cid', 'xcat']).resample('M', on='real_date').mean()['value'].reset_index()  # convertir a promedios mensuales\n",
    "dfw = dfm.pivot(index=['cid', 'real_date'], columns='xcat', values='value').reset_index()  # pivotar al índice apropiado\n",
    "\n",
    "colors='Paired'\n",
    "sns.set_theme(style='whitegrid', rc={'figure.figsize':(6, 4)})\n",
    "sns.lineplot(data=dfw, x='real_date', y='FXCRR_NSA', estimator='mean', errorbar=('ci', 95))  #trazar la media y su intervalo de confianza del 95%\n",
    "\n",
    "plt.axhline(y=0, color='black', linestyle='--', lw=1)\n",
    "plt.title('Carry real de divisas en los mercados emergentes: media mensual y 95 % de confianza', fontsize=13)\n",
    "plt.xlabel('')  # set x-axis label\n",
    "plt.ylabel('% anualizado', fontsize=11)  # set y-axis label\n",
    "\n",
    "plt.show()"
   ]
  },
  {
   "cell_type": "markdown",
   "metadata": {},
   "source": [
    "Nos gustaría presentar un gráfico que represente la rentabilidad de las divisas de mercados emergentes a lo largo de los meses, mostrando la media y el 95 % de confianza entre las monedas seleccionadas en tu investigación.\n",
    "\n",
    "Por favor, ¿podrías explicar qué interpretas del gráfico?"
   ]
  },
  {
   "cell_type": "code",
   "execution_count": null,
   "metadata": {},
   "outputs": [],
   "source": [
    "\n",
    "xcat_sel = \n",
    "\n",
    "filt1 = df['xcat'] == xcat_sel\n",
    "filt2 = df['cid'].isin(cids_sel) \n",
    "filt3 = df['real_date'] >= pd.to_datetime('2010-01-01')  # establecer fecha de inicio\n",
    "dfx = df[filt1 & filt2 & filt3]\n",
    "\n",
    "dfm = dfx.groupby(['cid', 'xcat']).resample('M', on='real_date').sum()['value'].reset_index()  # medios mensuales\n",
    "dfw = dfm.pivot(index=['cid', 'real_date'], columns='xcat', values='value').reset_index()\n",
    "dfw['month'] = dfw['real_date'].dt.month\n",
    "dfw['period'] = 'Antes 2013'\n",
    "dfw.loc[dfw['real_date'].dt.year > 2013, 'period'] = 'Despues 2013'\n",
    "\n",
    "colors='Set2' \n",
    "sns.set_theme(style='whitegrid', rc={'figure.figsize':(6, 4)}) \n",
    "ax = sns.lineplot(data=dfw, x='month', y=xcat_sel, hue='period', \n",
    "                  estimator='mean', errorbar=('ci', 95), palette=colors) \n",
    "\n",
    "plt.axhline(y=0, color='black', linestyle='--', lw=1) \n",
    "plt.title('Rentabilidad de las divisas de mercados emergentes a lo largo de los meses: media y 95% de confianza', fontsize=13) \n",
    "plt.xlabel('') \n",
    "plt.ylabel('%', fontsize=11) \n",
    "leg = ax.axes.get_legend() \n",
    "leg.set_title('Periodos')  \n",
    "\n",
    "plt.show()"
   ]
  },
  {
   "cell_type": "markdown",
   "metadata": {},
   "source": [
    "Nos gustaría presentar un gráfico que represente el crecimiento intuitivo del PIB real, expresado como el porcentaje de acarreo de oya y divisas entre las monedas seleccionadas en tu investigación.\n",
    "\n",
    "¿Podrías explicar qué interpretas del gráfico?"
   ]
  },
  {
   "cell_type": "code",
   "execution_count": null,
   "metadata": {},
   "outputs": [],
   "source": [
    "xcats_sel = \n",
    "filt1 = df['xcat'].isin(xcats_sel)\n",
    "filt2 = df['cid'].isin(cids_sel)\n",
    "filt3 = df['real_date'] >= pd.to_datetime('2005-01-01')  \n",
    "dfx = df[filt1 & filt2 & filt3]\n",
    "\n",
    "colors=['steelblue', 'black']  \n",
    "sns.set_theme(style='whitegrid', palette=colors) \n",
    "fg = sns.FacetGrid(dfx, col='cid', col_wrap=3, \n",
    "                   palette=colors, hue='xcat', hue_order=xcats_sel,  \n",
    "                   height=3, aspect=1.5,  \n",
    "                   sharey=False)  \n",
    "fg.map_dataframe(sns.lineplot, x='real_date', y='value', errorbar=None, lw=1)  \n",
    "fg.map(plt.axhline, y=0, c=\".5\", lw=0.75) \n",
    "\n",
    "fg.set_axis_labels('', '% ar')  \n",
    "fg.set_titles(col_template='{col_name}')  \n",
    "fg.fig.suptitle('Crecimiento intuitivo del PIB real: % de acarreo de oya y divisas', y=1)\n",
    "\n",
    "name_to_color = {' Crecimiento intuitivo del PIB real: % oya': colors[0], 'transporte de divisas': colors[1]} \n",
    "patches = [mpl.patches.Patch(color=v, label=k) for k,v in name_to_color.items()] \n",
    "labels = name_to_color.keys() # series labels for legend box\n",
    "fg.fig.legend(handles=patches, labels=labels, loc='lower center', ncol=2)\n",
    "\n",
    "plt.show()"
   ]
  },
  {
   "cell_type": "markdown",
   "metadata": {},
   "source": [
    "<h1>Modelo de Forecast</h1>"
   ]
  },
  {
   "cell_type": "markdown",
   "metadata": {},
   "source": [
    "Nos gustaría presentar un gráfico que represente la inflación subyacente y la rentabilidad de los índices bursátiles (trimestral) para las monedas seleccionadas en tu investigación.\n",
    "\n",
    "¿Podrías explicar qué interpretas del gráfico?"
   ]
  },
  {
   "cell_type": "code",
   "execution_count": null,
   "metadata": {},
   "outputs": [],
   "source": [
    "xcats_sel = \n",
    "filt1 = df['xcat'].isin(xcats_sel)\n",
    "filt2 = df['cid'].isin(cids_sel)\n",
    "filt3 = df['real_date'] >= pd.to_datetime('2000-01-01')\n",
    "dfx = df[filt1 & filt2 & filt3]\n",
    "dff = dfx.groupby(['cid', 'xcat']).resample('Q', on='real_date').mean()['value'].reset_index()\n",
    "dfw = dff.pivot(index=['cid', 'real_date'], columns='xcat', values='value').reset_index()\n",
    "\n",
    "sns.set_theme(style='whitegrid', rc={'figure.figsize':(6, 4)}) \n",
    "sns.regplot(x=xcats_sel[0], y=xcats_sel[1], data=dfw, ci=98, order=1, \n",
    "            robust=False,  \n",
    "            scatter_kws={'s': 20, 'alpha': 0.3, 'color':'lightgray'},\n",
    "            line_kws={'lw' : 2, 'linestyle': '-.', 'color': 'salmon'}) \n",
    "\n",
    "plt.axhline(y=0, color='black', linestyle='--', lw=1) \n",
    "plt.axvline(x=0, color='black', linestyle='--', lw=1) \n",
    "\n",
    "plt.title('Inflación subyacente y rentabilidad de los índices bursátiles (trimestral)', fontsize=13)\n",
    "plt.xlabel('IPC subyacente, %6/6m ar', fontsize=11)\n",
    "plt.ylabel('Rentabilidad promedio diaria del índice de acciones, %', fontsize=11)\n",
    "\n",
    "plt.show()"
   ]
  },
  {
   "cell_type": "markdown",
   "metadata": {},
   "source": [
    "Nos gustaría presentar un gráfico que represente el carry forward de divisas y los rendimientos posteriores (promedios trimestrales) para las monedas seleccionadas en tu investigación.\n",
    "\n",
    "¿Podrías explicar qué interpretas del gráfico?"
   ]
  },
  {
   "cell_type": "code",
   "execution_count": null,
   "metadata": {},
   "outputs": [],
   "source": [
    "\n",
    "xcats_sel = \n",
    "filt1 = df['xcat'].isin(xcats_sel)\n",
    "dfx = df[filt1 & filt2 & filt3] \n",
    "dff = dfx.groupby(['cid', 'xcat']).resample('Q', on='real_date').mean()['value'].reset_index() \n",
    "filt4 = dff['xcat']==xcats_sel[0]\n",
    "dff.loc[filt4, 'value'] = dff[filt4].groupby(['cid', 'xcat'])['value'].shift(1)\n",
    "dfw = dff.pivot(index=['cid', 'real_date'], columns='xcat', values='value').reset_index()\n",
    "\n",
    "sns.set_theme(style='darkgrid', rc={'figure.figsize':(6, 4)})\n",
    "sns.regplot(x=xcats_sel[0], y=xcats_sel[1], data=dfw, ci=95,  \n",
    "            order=2, \n",
    "            scatter_kws={'s': 20, 'alpha': 0.3, 'color':'goldenrod'}, \n",
    "            line_kws={'lw' : 1, 'linestyle': '-', 'color': 'tab:blue'}) \n",
    "\n",
    "plt.axhline(y=0, color='tab:blue', linestyle='--', lw=1)\n",
    "plt.axvline(x=0, color='tab:blue', linestyle='--', lw=1)\n",
    "\n",
    "plt.title('Carry forward de divisas y rendimientos posteriores (promedios trimestrales)', fontsize=13)\n",
    "plt.xlabel('Real forward carry, % ar', fontsize=11)\n",
    "plt.ylabel('Rentabilidades a plazo de divisas, % ar', fontsize=11)\n",
    "\n",
    "plt.show()"
   ]
  },
  {
   "cell_type": "markdown",
   "metadata": {},
   "source": [
    "Nos gustaría presentar un gráfico que represente el carry forward real de divisas (promedios mensuales) y el rendimiento real del IRS para las monedas seleccionadas en tu investigación.\n",
    "\n",
    "Por favor, ¿podrías explicar qué interpretas del gráfico?"
   ]
  },
  {
   "cell_type": "code",
   "execution_count": null,
   "metadata": {},
   "outputs": [],
   "source": [
    "\n",
    "xcats_sel = \n",
    "filt1 = df['xcat'].isin(xcats_sel)\n",
    "\n",
    "dfx = df[filt1 & filt2 & filt3]\n",
    "dff = dfx.groupby(['cid', 'xcat']).resample('M', on='real_date').mean()['value'].reset_index()\n",
    "dfw = dff.pivot(index=['cid', 'real_date'], columns='xcat', values='value').reset_index()\n",
    "\n",
    "sns.set_theme(style='whitegrid', rc={'figure.figsize':(6, 4)})\n",
    "sns.regplot(x=xcats_sel[0], y=xcats_sel[1], data=dfw, \n",
    "            lowess=True,  \n",
    "            marker='d', \n",
    "            scatter_kws={'s': 50, 'alpha': 0.2, 'color':'gray'},\n",
    "            line_kws={'lw' : 1.5, 'color': 'black'}) \n",
    "\n",
    "plt.axhline(y=0, color='red', linestyle='--', lw=1)\n",
    "plt.axvline(x=0, color='red', linestyle='--', lw=1)\n",
    "\n",
    "plt.title('Carry forward real de divisas (promedios mensuales) y rendimiento real del IRS', fontsize=13)\n",
    "plt.xlabel('Carry forward de divisas reales', fontsize=11)\n",
    "plt.ylabel('Rendimiento real del IRS', fontsize=11)\n",
    "\n",
    "plt.show()"
   ]
  },
  {
   "cell_type": "markdown",
   "metadata": {},
   "source": [
    "Nos gustaría presentar un gráfico que muestre el Suavizado Exponencial Simple en tres modelos para las monedas seleccionadas en tu investigación.\n",
    "\n",
    "¿Podrías explicar qué interpretas del gráfico?"
   ]
  },
  {
   "cell_type": "code",
   "execution_count": null,
   "metadata": {},
   "outputs": [],
   "source": [
    "cids_sel = \n",
    "xcat_sel = \n",
    "\n",
    "filt1 = df['xcat'] == xcat_sel\n",
    "filt2 = df['cid'].isin(cids_sel) \n",
    "filt3 = df['real_date'] >= pd.to_datetime('2002-01-01')\n",
    "\n",
    "dfx = df[filt1 & filt2 & filt3]\n"
   ]
  },
  {
   "cell_type": "code",
   "execution_count": null,
   "metadata": {},
   "outputs": [],
   "source": [
    "alpha_003 = 0.03\n",
    "alpha_013 = 0.13\n",
    "\n",
    "dfw = dfx.pivot_table(index=\"real_date\", columns=\"cid\", values=\"value\").replace(\n",
    "    0, np.nan\n",
    ")  # amplia serie temporal df\n",
    "\n",
    "dfema = pd.DataFrame(columns=[\"cid\", \"xcat\", \"real_date\", \"value\"])\n",
    "\n",
    "for cid in cids_sel:\n",
    "\n",
    "    ema003 = SimpleExpSmoothing(\n",
    "        dfw[cid].dropna(), initialization_method=\"heuristic\"\n",
    "    ).fit(smoothing_level=alpha_003, optimized=False)\n",
    "\n",
    "    ema013 = SimpleExpSmoothing(\n",
    "        dfw[cid].dropna(), initialization_method=\"heuristic\"\n",
    "    ).fit(smoothing_level=alpha_013, optimized=False)\n",
    "\n",
    "    emaop = SimpleExpSmoothing(\n",
    "        dfw[cid].dropna(), initialization_method=\"estimated\"\n",
    "    ).fit()\n",
    "\n",
    "    df003 = ema003.fittedvalues.to_frame().reset_index().rename(columns={0: \"value\"})\n",
    "    df003[\"xcat\"] = xcat_sel + \"_EMA003\"\n",
    "\n",
    "    df013 = ema013.fittedvalues.to_frame().reset_index().rename(columns={0: \"value\"})\n",
    "    df013[\"xcat\"] = xcat_sel + \"_EMA013\"\n",
    "\n",
    "    dfop = emaop.fittedvalues.to_frame().reset_index().rename(columns={0: \"value\"})\n",
    "    dfop[\"xcat\"] = xcat_sel + \"_EMAOP\"\n",
    "    Opt_alpha = emaop.params[\"smoothing_level\"].round(4)\n",
    "\n",
    "    dfc = pd.concat([df003, df013, dfop])\n",
    "\n",
    "    dfc[\"cid\"] = cid\n",
    "    dfc = dfc[list(dfema.columns)]\n",
    "    dfema = dfema.append(dfc)\n",
    "\n",
    "\n",
    "dfx[\"xcat\"] = xcat_sel\n",
    "dfema = dfema.append(dfx[list(dfema.columns)])\n",
    "\n",
    "dfemx = dfema[dfema[\"real_date\"] >= pd.to_datetime(\"2021-01-01\")]\n",
    "\n",
    "xcats_ema = [xcat_sel + x for x in [\"\", \"_EMA003\", \"_EMA013\", \"_EMAOP\"]]\n",
    "colors = [\"black\", \"steelblue\", \"red\", \"yellow\"]\n",
    "\n",
    "\n",
    "sns.set_theme(style=\"whitegrid\", palette=colors)\n",
    "fg = sns.FacetGrid(\n",
    "    dfemx,\n",
    "    col=\"cid\",\n",
    "    col_wrap=1,\n",
    "    palette=colors,\n",
    "    hue=\"xcat\",\n",
    "    hue_order=xcats_ema,\n",
    "    height=4,\n",
    "    aspect=2.5, \n",
    "    sharey=False,\n",
    ") \n",
    "\n",
    "fg.map_dataframe(\n",
    "    sns.lineplot, x=\"real_date\", y=\"value\", errorbar=None, lw=1\n",
    ") \n",
    "\n",
    "fg.set_axis_labels(\"\", \"% \")  \n",
    "fg.set_titles(col_template=\"{col_name}\") \n",
    "fg.fig.suptitle(\n",
    "    f\"Suavizado exponencial simple {xcat_sel}\", y=1.02\n",
    ")  \n",
    "\n",
    "name_to_color = {\n",
    "    \"tasa de interés real a 5 años\": colors[0],\n",
    "    f\"alpha= {alpha_003}\": colors[1],\n",
    "    f\"alpha= {alpha_013}\": colors[2],\n",
    "    \"alfa optimizado\": colors[3],\n",
    "}\n",
    "\n",
    "patches = [\n",
    "    mpl.patches.Patch(color=v, label=k) for k, v in name_to_color.items()\n",
    "] \n",
    "labels = name_to_color.keys()  \n",
    "fg.fig.legend(\n",
    "    handles=patches, labels=labels, loc=\"lower center\", ncol=2\n",
    ")  \n",
    "\n",
    "fg.fig.subplots_adjust(bottom=0.15) \n",
    "plt.show()"
   ]
  },
  {
   "cell_type": "markdown",
   "metadata": {},
   "source": [
    "Nos gustaría presentar un gráfico que represente las rentabilidades futuras del índice bursátil, junto con series antiguas optimizadas y suavizadas para las monedas seleccionadas en tu investigación.\n",
    "\n",
    "¿Podrías explicar qué interpretas del gráfico?"
   ]
  },
  {
   "cell_type": "code",
   "execution_count": null,
   "metadata": {},
   "outputs": [],
   "source": [
    "filt1 = df[\"xcat\"] == \n",
    "filt2 = df[\"cid\"] == \n",
    "dfx = (\n",
    "    df[filt1 & filt2].loc[:, [\"real_date\", \"value\"]].dropna().set_index(\"real_date\")\n",
    ").rename(\n",
    "    columns={\"value\": \"EQXR_VT10\"}\n",
    ")  # serie temporal df\n",
    "dfx.index = pd.to_datetime(dfx.index)\n",
    "dfx = dfx[pd.Timestamp(\"2020-01-01\") :]\n",
    "\n",
    "\n",
    "np.diff(np.array(dfx.index.month))\n",
    "\n",
    "month_end = list(np.diff(np.array(dfx.index.month)) != 0) + [True]\n",
    "\n",
    "# contar cuántos fines de mes tenemos en el marco de datos diario\n",
    "count_month_end = sum(month_end)\n",
    "dfxo = dfx.copy().replace(to_replace=0, method=\"bfill\")\n",
    "\n",
    "# 1. definir el período de tiempo diario inicial hasta el final del segundo mes completo\n",
    "dfema = dfx.loc[\n",
    "    : dfx.loc[\n",
    "        month_end,\n",
    "    ].index[1]\n",
    "]\n",
    "\n",
    "# 2. aplicar suavizado de exp simple optimizado al período de tiempo inicial\n",
    "emaop = SimpleExpSmoothing(dfema.dropna(), initialization_method=\"estimated\").fit()\n",
    "Opt_alpha = emaop.params[\"smoothing_level\"]\n",
    "\n",
    "# 3. rellenar el marco de datos del marcador de posición con nuevos valores\n",
    "dfxo[\"smoothened_value\"] = emaop.fittedvalues.to_frame()\n",
    "\n",
    "# 4. Aplicar una lógica similar al resto de la serie de datos mediante un bucle.:\n",
    "\n",
    "\n",
    "for i in range(1, count_month_end - 1):\n",
    "    dfema1 = dfxo[\"EQXR_VT10\"].loc[\n",
    "        dfx.loc[\n",
    "            month_end,\n",
    "        ]\n",
    "        .index[i - 1] : dfx.loc[\n",
    "            month_end,\n",
    "        ]\n",
    "        .index[i]\n",
    "    ]\n",
    "\n",
    "    emaop1 = SimpleExpSmoothing(dfema1, initialization_method=\"heuristic\").fit(\n",
    "        smoothing_level=Opt_alpha, optimized=False\n",
    "    )\n",
    "\n",
    "    dfop1 = emaop1.fittedvalues.to_frame()\n",
    "\n",
    "    dfxo.loc[dfxo.index.isin(dfop1.index), [\"smoothened_value\"]] = dfop1[[0]].values\n",
    "\n",
    "    dfema2 = dfxo[\"EQXR_VT10\"].loc[\n",
    "        : dfx.loc[\n",
    "            month_end,\n",
    "        ].index[i - 1]\n",
    "    ]\n",
    "\n",
    "    emaop1 = SimpleExpSmoothing(dfema2, initialization_method=\"estimated\").fit()\n",
    "    Opt_alpha = emaop1.params[\"smoothing_level\"]\n",
    "\n",
    "\n",
    "sns.set(rc={\"figure.figsize\": (15, 5)})\n",
    "\n",
    "fig, ax = plt.subplots(figsize=(15, 5))\n",
    "\n",
    "sns.lineplot(\n",
    "    data=dfxo,\n",
    "    x=\"real_date\",\n",
    "    y=\"EQXR_VT10\",\n",
    "    label=\"Rendimientos futuros del índice de acciones, diario\",\n",
    "    ax=ax,\n",
    ")\n",
    "sns.lineplot(\n",
    "    data=dfxo,\n",
    "    x=\"real_date\",\n",
    "    y=\"smoothened_value\",\n",
    "    label=\"Suavizado vintage: utilizando alfa optimizado de meses anteriores\",\n",
    "    ax=ax,\n",
    ")\n",
    "plt.title(\"Rentabilidades futuras del índice bursátil y series antiguas optimizadas y suavizadas \")\n",
    "\n",
    "plt.plot(dfxo)\n"
   ]
  },
  {
   "cell_type": "markdown",
   "metadata": {},
   "source": [
    "<h1>Discusión y Conclusión</h1>\n",
    "\n",
    "Presenta tus conclusiones sobre el trabajo llevado a cabo"
   ]
  },
  {
   "cell_type": "markdown",
   "metadata": {},
   "source": [
    "<h1>Referencia</h1>\n"
   ]
  }
 ],
 "metadata": {
  "kernelspec": {
   "display_name": "Python 3",
   "language": "python",
   "name": "python3"
  },
  "language_info": {
   "codemirror_mode": {
    "name": "ipython",
    "version": 3
   },
   "file_extension": ".py",
   "mimetype": "text/x-python",
   "name": "python",
   "nbconvert_exporter": "python",
   "pygments_lexer": "ipython3",
   "version": "3.7.2"
  }
 },
 "nbformat": 4,
 "nbformat_minor": 2
}
