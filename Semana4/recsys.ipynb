{
 "cells": [
  {
   "cell_type": "markdown",
   "metadata": {},
   "source": [
    "<h1>Interacciones que Conducen a Recomendaciones: Un Sistema de Recomendación de Artículos</h1>\n",
    "Por Víctor González"
   ]
  },
  {
   "cell_type": "markdown",
   "metadata": {},
   "source": [
    "<h1>Introducción</h1>\n",
    "En el panorama actual de las empresas, la colaboración efectiva y el intercambio de conocimientos son piedras angulares para el éxito organizacional. En este contexto, plataformas como Deskdrop emergen como herramientas indispensables, facilitando la comunicación interna y el intercambio de información relevante entre los empleados de una empresa.\n",
    "\n",
    "Deskdrop, una plataforma desarrollada por una empresa líder en tecnología, ofrece un entorno dinámico donde los profesionales pueden compartir artículos, noticias y recursos de interés con sus colegas. Esta plataforma no solo fomenta la difusión de información pertinente, sino que también promueve la colaboración y el diálogo entre equipos, impulsando así la innovación y el crecimiento dentro de la organización.\n",
    "\n",
    "En este contexto, surge la necesidad de optimizar la experiencia de usuario y potenciar la utilidad de Deskdrop a través de un sistema de recomendación de artículos inteligente. Este sistema, basado en algoritmos avanzados de análisis de contenido y comportamiento de usuario, tiene como objetivo principal proporcionar recomendaciones personalizadas y relevantes a cada empleado, enriqueciendo así su experiencia en la plataforma y aumentando su participación activa.\n",
    "\n",
    "En este artículo, exploraremos el diseño y la implementación de dicho sistema de recomendación, así como su impacto en la dinámica de interacción y colaboración dentro de Deskdrop. Analizaremos cómo las interacciones entre los usuarios, combinadas con técnicas de aprendizaje automático y procesamiento de lenguaje natural, impulsan la generación de recomendaciones precisas y contextualizadas, adaptadas a las necesidades e intereses de cada individuo.\n",
    "\n",
    "<h1>Contexto</h1>\n",
    "\n",
    "A través de este estudio, esperamos ofrecer una visión detallada de cómo las interacciones en plataformas de comunicación interna pueden transformarse en recomendaciones valiosas, promoviendo el intercambio de conocimientos y facilitando la toma de decisiones informadas en el entorno empresarial moderno.\n",
    "\n",
    "Los datos que emplearemos contiene un período de 12 meses de la plataforma de comunicación interna DeskDrop. El conjunto de datos comprende alrededor de 73,000 interacciones de usuarios, involucrados en la plataforma al compartir más de 3,000 artículos públicos. Este conjunto de datos se destaca por sus atributos de artículo detallados, incluyendo URL, título y texto en dos idiomas, así como información contextual como fecha/hora, cliente utilizado y geolocalización. En DeskDrop, todos los usuarios deben iniciar sesión, permitiendo un seguimiento a largo plazo de preferencias sin depender de cookies. Además, registra varios tipos de interacciones de usuarios, como comentarios, me gusta y vistas, y rastrea estas interacciones en múltiples plataformas, incluyendo navegadores web y aplicaciones móviles, mostrando la diversidad de los hábitos de uso.\n",
    "\n",
    "Este entorno de datos ofrece una oportunidad única para explorar y comprender las dinámicas de interacción en una plataforma de comunicación interna, así como para desarrollar y evaluar sistemas de recomendación que puedan mejorar la experiencia del usuario y la relevancia de los contenidos compartidos.\n",
    "\n",
    "<h1>Sistemas de Recomendación: teoría e implementación </h1>\n",
    "\n",
    "Los sistemas de recomendación constituyen una parte fundamental de la inteligencia artificial y el análisis de datos, con aplicaciones que van desde plataformas de streaming hasta comercio electrónico y más allá. En teoría, estos sistemas emplean algoritmos avanzados para predecir las preferencias de los usuarios y recomendarles elementos relevantes. Esto se logra mediante el análisis de datos de usuario, como historiales de navegación, compras anteriores y patrones de comportamiento. La implementación práctica de los sistemas de recomendación implica la selección y adaptación de algoritmos adecuados para el contexto específico, así como la optimización continua a medida que se recopilan más datos y se refinan los modelos. Además, la evaluación rigurosa de la efectividad y precisión de las recomendaciones es crucial para garantizar una experiencia de usuario satisfactoria y mejorar la calidad del servicio ofrecido.\n",
    "\n",
    "<h2>Código en Python</h2>\n",
    "\n",
    "Para trabajar en Python debemos importar las librerias que vamos a utilizar para cargar los datos y poder analizarlos."
   ]
  },
  {
   "cell_type": "code",
   "execution_count": 59,
   "metadata": {},
   "outputs": [],
   "source": [
    "import numpy as np\n",
    "import scipy\n",
    "import pandas as pd\n",
    "import math\n",
    "import random\n",
    "import sklearn\n",
    "from nltk.corpus import stopwords\n",
    "from scipy.sparse import csr_matrix\n",
    "from sklearn.model_selection import train_test_split\n",
    "from sklearn.feature_extraction.text import TfidfVectorizer\n",
    "from sklearn.metrics.pairwise import cosine_similarity\n",
    "from scipy.sparse.linalg import svds\n",
    "import seaborn as sns\n",
    "from matplotlib import pyplot as plt\n",
    "import re"
   ]
  },
  {
   "cell_type": "markdown",
   "metadata": {},
   "source": [
    "Primero cargamos el conjunto de datos que contiene información sobre los artículos compartidos en la plataforma. Cada artículo incluye la fecha de compartición (marca de tiempo), la URL original, el título, el contenido en texto plano, el idioma del artículo (portugués: pt o inglés: en) e información sobre el usuario que compartió el artículo (autor). Hay dos tipos de eventos posibles en una marca de tiempo dada: \"CONTENT SHARED\" (contenido compartido), donde el artículo está disponible para los usuarios, y \"CONTENT REMOVED\" (contenido eliminado), donde el artículo ya no está disponible."
   ]
  },
  {
   "cell_type": "code",
   "execution_count": 60,
   "metadata": {},
   "outputs": [
    {
     "data": {
      "text/plain": [
       "(3122, 13)"
      ]
     },
     "metadata": {},
     "output_type": "display_data"
    },
    {
     "data": {
      "text/html": [
       "<div>\n",
       "<style scoped>\n",
       "    .dataframe tbody tr th:only-of-type {\n",
       "        vertical-align: middle;\n",
       "    }\n",
       "\n",
       "    .dataframe tbody tr th {\n",
       "        vertical-align: top;\n",
       "    }\n",
       "\n",
       "    .dataframe thead th {\n",
       "        text-align: right;\n",
       "    }\n",
       "</style>\n",
       "<table border=\"1\" class=\"dataframe\">\n",
       "  <thead>\n",
       "    <tr style=\"text-align: right;\">\n",
       "      <th></th>\n",
       "      <th>timestamp</th>\n",
       "      <th>eventType</th>\n",
       "      <th>contentId</th>\n",
       "      <th>authorPersonId</th>\n",
       "      <th>authorSessionId</th>\n",
       "      <th>authorUserAgent</th>\n",
       "      <th>authorRegion</th>\n",
       "      <th>authorCountry</th>\n",
       "      <th>contentType</th>\n",
       "      <th>url</th>\n",
       "      <th>title</th>\n",
       "      <th>text</th>\n",
       "      <th>lang</th>\n",
       "    </tr>\n",
       "  </thead>\n",
       "  <tbody>\n",
       "    <tr>\n",
       "      <th>0</th>\n",
       "      <td>1459192779</td>\n",
       "      <td>CONTENT REMOVED</td>\n",
       "      <td>-6451309518266745024</td>\n",
       "      <td>4340306774493623681</td>\n",
       "      <td>8940341205206233829</td>\n",
       "      <td>NaN</td>\n",
       "      <td>NaN</td>\n",
       "      <td>NaN</td>\n",
       "      <td>HTML</td>\n",
       "      <td>http://www.nytimes.com/2016/03/28/business/dea...</td>\n",
       "      <td>Ethereum, a Virtual Currency, Enables Transact...</td>\n",
       "      <td>All of this work is still very early. The firs...</td>\n",
       "      <td>en</td>\n",
       "    </tr>\n",
       "    <tr>\n",
       "      <th>1</th>\n",
       "      <td>1459193988</td>\n",
       "      <td>CONTENT SHARED</td>\n",
       "      <td>-4110354420726924665</td>\n",
       "      <td>4340306774493623681</td>\n",
       "      <td>8940341205206233829</td>\n",
       "      <td>NaN</td>\n",
       "      <td>NaN</td>\n",
       "      <td>NaN</td>\n",
       "      <td>HTML</td>\n",
       "      <td>http://www.nytimes.com/2016/03/28/business/dea...</td>\n",
       "      <td>Ethereum, a Virtual Currency, Enables Transact...</td>\n",
       "      <td>All of this work is still very early. The firs...</td>\n",
       "      <td>en</td>\n",
       "    </tr>\n",
       "    <tr>\n",
       "      <th>2</th>\n",
       "      <td>1459194146</td>\n",
       "      <td>CONTENT SHARED</td>\n",
       "      <td>-7292285110016212249</td>\n",
       "      <td>4340306774493623681</td>\n",
       "      <td>8940341205206233829</td>\n",
       "      <td>NaN</td>\n",
       "      <td>NaN</td>\n",
       "      <td>NaN</td>\n",
       "      <td>HTML</td>\n",
       "      <td>http://cointelegraph.com/news/bitcoin-future-w...</td>\n",
       "      <td>Bitcoin Future: When GBPcoin of Branson Wins O...</td>\n",
       "      <td>The alarm clock wakes me at 8:00 with stream o...</td>\n",
       "      <td>en</td>\n",
       "    </tr>\n",
       "    <tr>\n",
       "      <th>3</th>\n",
       "      <td>1459194474</td>\n",
       "      <td>CONTENT SHARED</td>\n",
       "      <td>-6151852268067518688</td>\n",
       "      <td>3891637997717104548</td>\n",
       "      <td>-1457532940883382585</td>\n",
       "      <td>NaN</td>\n",
       "      <td>NaN</td>\n",
       "      <td>NaN</td>\n",
       "      <td>HTML</td>\n",
       "      <td>https://cloudplatform.googleblog.com/2016/03/G...</td>\n",
       "      <td>Google Data Center 360° Tour</td>\n",
       "      <td>We're excited to share the Google Data Center ...</td>\n",
       "      <td>en</td>\n",
       "    </tr>\n",
       "    <tr>\n",
       "      <th>4</th>\n",
       "      <td>1459194497</td>\n",
       "      <td>CONTENT SHARED</td>\n",
       "      <td>2448026894306402386</td>\n",
       "      <td>4340306774493623681</td>\n",
       "      <td>8940341205206233829</td>\n",
       "      <td>NaN</td>\n",
       "      <td>NaN</td>\n",
       "      <td>NaN</td>\n",
       "      <td>HTML</td>\n",
       "      <td>https://bitcoinmagazine.com/articles/ibm-wants...</td>\n",
       "      <td>IBM Wants to \"Evolve the Internet\" With Blockc...</td>\n",
       "      <td>The Aite Group projects the blockchain market ...</td>\n",
       "      <td>en</td>\n",
       "    </tr>\n",
       "  </tbody>\n",
       "</table>\n",
       "</div>"
      ],
      "text/plain": [
       "    timestamp        eventType            contentId       authorPersonId  \\\n",
       "0  1459192779  CONTENT REMOVED -6451309518266745024  4340306774493623681   \n",
       "1  1459193988   CONTENT SHARED -4110354420726924665  4340306774493623681   \n",
       "2  1459194146   CONTENT SHARED -7292285110016212249  4340306774493623681   \n",
       "3  1459194474   CONTENT SHARED -6151852268067518688  3891637997717104548   \n",
       "4  1459194497   CONTENT SHARED  2448026894306402386  4340306774493623681   \n",
       "\n",
       "       authorSessionId authorUserAgent authorRegion authorCountry contentType  \\\n",
       "0  8940341205206233829             NaN          NaN           NaN        HTML   \n",
       "1  8940341205206233829             NaN          NaN           NaN        HTML   \n",
       "2  8940341205206233829             NaN          NaN           NaN        HTML   \n",
       "3 -1457532940883382585             NaN          NaN           NaN        HTML   \n",
       "4  8940341205206233829             NaN          NaN           NaN        HTML   \n",
       "\n",
       "                                                 url  \\\n",
       "0  http://www.nytimes.com/2016/03/28/business/dea...   \n",
       "1  http://www.nytimes.com/2016/03/28/business/dea...   \n",
       "2  http://cointelegraph.com/news/bitcoin-future-w...   \n",
       "3  https://cloudplatform.googleblog.com/2016/03/G...   \n",
       "4  https://bitcoinmagazine.com/articles/ibm-wants...   \n",
       "\n",
       "                                               title  \\\n",
       "0  Ethereum, a Virtual Currency, Enables Transact...   \n",
       "1  Ethereum, a Virtual Currency, Enables Transact...   \n",
       "2  Bitcoin Future: When GBPcoin of Branson Wins O...   \n",
       "3                       Google Data Center 360° Tour   \n",
       "4  IBM Wants to \"Evolve the Internet\" With Blockc...   \n",
       "\n",
       "                                                text lang  \n",
       "0  All of this work is still very early. The firs...   en  \n",
       "1  All of this work is still very early. The firs...   en  \n",
       "2  The alarm clock wakes me at 8:00 with stream o...   en  \n",
       "3  We're excited to share the Google Data Center ...   en  \n",
       "4  The Aite Group projects the blockchain market ...   en  "
      ]
     },
     "metadata": {},
     "output_type": "display_data"
    }
   ],
   "source": [
    "RANDOMSEED=56\n",
    "\n",
    "adf = pd.read_csv('shared_articles.csv')\n",
    "display(adf.shape)\n",
    "display(adf.head())\n"
   ]
  },
  {
   "cell_type": "code",
   "execution_count": 61,
   "metadata": {},
   "outputs": [
    {
     "data": {
      "text/plain": [
       "array(['CONTENT REMOVED', 'CONTENT SHARED'], dtype=object)"
      ]
     },
     "metadata": {},
     "output_type": "display_data"
    },
    {
     "data": {
      "text/plain": [
       "eventType\n",
       "CONTENT REMOVED      75\n",
       "CONTENT SHARED     3047\n",
       "dtype: int64"
      ]
     },
     "metadata": {},
     "output_type": "display_data"
    },
    {
     "data": {
      "text/plain": [
       "<Axes: xlabel='eventType', ylabel='count'>"
      ]
     },
     "execution_count": 61,
     "metadata": {},
     "output_type": "execute_result"
    },
    {
     "data": {
      "image/png": "[encoded data removed]",
      "text/plain": [
       "<Figure size 600x400 with 1 Axes>"
      ]
     },
     "metadata": {},
     "output_type": "display_data"
    }
   ],
   "source": [
    "display(adf['eventType'].unique())\n",
    "display(adf.groupby(['eventType']).size())\n",
    "\n",
    "sns.set_theme(style='whitegrid', rc={'figure.figsize':(6, 4)})\n",
    "sns.countplot(data=adf, x=\"eventType\", hue='eventType', palette='bone')"
   ]
  },
  {
   "cell_type": "code",
   "execution_count": 62,
   "metadata": {},
   "outputs": [
    {
     "data": {
      "text/plain": [
       "lang\n",
       "en    2264\n",
       "es       2\n",
       "ja       2\n",
       "la       4\n",
       "pt     850\n",
       "dtype: int64"
      ]
     },
     "metadata": {},
     "output_type": "display_data"
    },
    {
     "data": {
      "text/plain": [
       "<Axes: xlabel='lang', ylabel='count'>"
      ]
     },
     "execution_count": 62,
     "metadata": {},
     "output_type": "execute_result"
    },
    {
     "data": {
      "image/png": "[encoded data removed]",
      "text/plain": [
       "<Figure size 600x400 with 1 Axes>"
      ]
     },
     "metadata": {},
     "output_type": "display_data"
    }
   ],
   "source": [
    "display(adf.groupby(['lang']).size())\n",
    "\n",
    "sns.set_theme(style='whitegrid', rc={'figure.figsize':(6, 4)})\n",
    "sns.countplot(data=adf, x=\"lang\", hue='lang', palette='bone')"
   ]
  },
  {
   "cell_type": "markdown",
   "metadata": {},
   "source": [
    "Para simplificar, solo se considera el tipo de evento \"CONTENT SHARED\", asumiendo ingenuamente que todos los artículos estuvieron disponibles durante todo el período de un año. Sin embargo, para una evaluación más precisa, solo se deberían recomendar los artículos disponibles en un momento dado."
   ]
  },
  {
   "cell_type": "code",
   "execution_count": 63,
   "metadata": {},
   "outputs": [
    {
     "data": {
      "text/plain": [
       "(3047, 13)"
      ]
     },
     "metadata": {},
     "output_type": "display_data"
    }
   ],
   "source": [
    "adf = adf[adf['eventType'] == 'CONTENT SHARED']\n",
    "display(adf.shape)"
   ]
  },
  {
   "cell_type": "markdown",
   "metadata": {},
   "source": [
    "Luego cargamos el conjunto de datos de users_interactions que contiene registros de interacciones de usuarios en artículos compartidos. Se puede relacionar con articles_shared.csv mediante la columna contentId."
   ]
  },
  {
   "cell_type": "code",
   "execution_count": 64,
   "metadata": {},
   "outputs": [
    {
     "data": {
      "text/plain": [
       "(72312, 8)"
      ]
     },
     "metadata": {},
     "output_type": "display_data"
    },
    {
     "data": {
      "text/html": [
       "<div>\n",
       "<style scoped>\n",
       "    .dataframe tbody tr th:only-of-type {\n",
       "        vertical-align: middle;\n",
       "    }\n",
       "\n",
       "    .dataframe tbody tr th {\n",
       "        vertical-align: top;\n",
       "    }\n",
       "\n",
       "    .dataframe thead th {\n",
       "        text-align: right;\n",
       "    }\n",
       "</style>\n",
       "<table border=\"1\" class=\"dataframe\">\n",
       "  <thead>\n",
       "    <tr style=\"text-align: right;\">\n",
       "      <th></th>\n",
       "      <th>timestamp</th>\n",
       "      <th>eventType</th>\n",
       "      <th>contentId</th>\n",
       "      <th>personId</th>\n",
       "      <th>sessionId</th>\n",
       "      <th>userAgent</th>\n",
       "      <th>userRegion</th>\n",
       "      <th>userCountry</th>\n",
       "    </tr>\n",
       "  </thead>\n",
       "  <tbody>\n",
       "    <tr>\n",
       "      <th>0</th>\n",
       "      <td>1465413032</td>\n",
       "      <td>VIEW</td>\n",
       "      <td>-3499919498720038879</td>\n",
       "      <td>-8845298781299428018</td>\n",
       "      <td>1264196770339959068</td>\n",
       "      <td>NaN</td>\n",
       "      <td>NaN</td>\n",
       "      <td>NaN</td>\n",
       "    </tr>\n",
       "    <tr>\n",
       "      <th>1</th>\n",
       "      <td>1465412560</td>\n",
       "      <td>VIEW</td>\n",
       "      <td>8890720798209849691</td>\n",
       "      <td>-1032019229384696495</td>\n",
       "      <td>3621737643587579081</td>\n",
       "      <td>Mozilla/5.0 (Macintosh; Intel Mac OS X 10_11_2...</td>\n",
       "      <td>NY</td>\n",
       "      <td>US</td>\n",
       "    </tr>\n",
       "    <tr>\n",
       "      <th>2</th>\n",
       "      <td>1465416190</td>\n",
       "      <td>VIEW</td>\n",
       "      <td>310515487419366995</td>\n",
       "      <td>-1130272294246983140</td>\n",
       "      <td>2631864456530402479</td>\n",
       "      <td>NaN</td>\n",
       "      <td>NaN</td>\n",
       "      <td>NaN</td>\n",
       "    </tr>\n",
       "    <tr>\n",
       "      <th>3</th>\n",
       "      <td>1465413895</td>\n",
       "      <td>FOLLOW</td>\n",
       "      <td>310515487419366995</td>\n",
       "      <td>344280948527967603</td>\n",
       "      <td>-3167637573980064150</td>\n",
       "      <td>NaN</td>\n",
       "      <td>NaN</td>\n",
       "      <td>NaN</td>\n",
       "    </tr>\n",
       "    <tr>\n",
       "      <th>4</th>\n",
       "      <td>1465412290</td>\n",
       "      <td>VIEW</td>\n",
       "      <td>-7820640624231356730</td>\n",
       "      <td>-445337111692715325</td>\n",
       "      <td>5611481178424124714</td>\n",
       "      <td>NaN</td>\n",
       "      <td>NaN</td>\n",
       "      <td>NaN</td>\n",
       "    </tr>\n",
       "  </tbody>\n",
       "</table>\n",
       "</div>"
      ],
      "text/plain": [
       "    timestamp eventType            contentId             personId  \\\n",
       "0  1465413032      VIEW -3499919498720038879 -8845298781299428018   \n",
       "1  1465412560      VIEW  8890720798209849691 -1032019229384696495   \n",
       "2  1465416190      VIEW   310515487419366995 -1130272294246983140   \n",
       "3  1465413895    FOLLOW   310515487419366995   344280948527967603   \n",
       "4  1465412290      VIEW -7820640624231356730  -445337111692715325   \n",
       "\n",
       "             sessionId                                          userAgent  \\\n",
       "0  1264196770339959068                                                NaN   \n",
       "1  3621737643587579081  Mozilla/5.0 (Macintosh; Intel Mac OS X 10_11_2...   \n",
       "2  2631864456530402479                                                NaN   \n",
       "3 -3167637573980064150                                                NaN   \n",
       "4  5611481178424124714                                                NaN   \n",
       "\n",
       "  userRegion userCountry  \n",
       "0        NaN         NaN  \n",
       "1         NY          US  \n",
       "2        NaN         NaN  \n",
       "3        NaN         NaN  \n",
       "4        NaN         NaN  "
      ]
     },
     "metadata": {},
     "output_type": "display_data"
    }
   ],
   "source": [
    "uidf = pd.read_csv('users_interactions.csv')\n",
    "display(uidf.shape)\n",
    "display(uidf.head())"
   ]
  },
  {
   "cell_type": "markdown",
   "metadata": {},
   "source": [
    "<h2>Indicadores</h2>\n",
    "<h4> adf: Conjunto de datos de artículos</h4>\n",
    "\n",
    "- timestamp: Marca de tiempo que indica el momento en que ocurrió el evento.\n",
    "- eventType: En una marca de tiempo específica, los eventos pueden ser o bien el contenido compartido, lo que indica que el artículo está disponible para los usuarios, o bien el contenido eliminado, lo que indica que el artículo fue retirado de la plataforma y ya no está disponible para futuras recomendaciones.\n",
    "- contentId: Identificador del artículo en la plataforma.\n",
    "- authorPersonId: Identificador del usuario.\n",
    "- authorSessionId: Identificador de la sesión.\n",
    "- authorUserAgent: Información del agente (cadena de texto que identifica el navegador web o la aplicación utilizada para acceder al contenido) de usuario del usuario que publicó inicialmente el artículo.\n",
    "- authorRegion: La ubicación geográfica del usuario que publicó inicialmente el artículo.\n",
    "- authorCountry: El país del usuario que publicó inicialmente el artículo.\n",
    "- contentType: Formato del artículo.\n",
    "- url: Enlace directo del artículo.\n",
    "- title: Titulo del artículo.\n",
    "- text: Texto completo del artículo.\n",
    "- lang: Lenguaje del artículo.\n",
    "\n",
    "\n",
    "<h4> uidf: Conjunto de datos de interacciones de usuarios con los artículos.</h4>\n",
    "\n",
    "- timestamp: marca de tiempo que indica el momento en que ocurrió el evento.\n",
    "- eventType: Los valores de eventType son: VIEW (vista), LIKE (me gusta), COMMENT CREATED (comentario creado), FOLLOW (seguir) y BOOKMARK (marcador).\n",
    "- contentId: Identificador del artículo en la plataforma.\n",
    "- personId: Identificador del usuario.\n",
    "- sessionId: Identificador de la sesión.\n",
    "- userAgent: Información del agente (cadena de texto que identifica el navegador web o la aplicación utilizada para acceder al contenido) de usuario del usuario que interactua con el artículo.\n",
    "- userRegion: La ubicación geográfica del usuario que interactua con el artículo.\n",
    "- userCountry: El país del usuario que interactua con el artículo.\n",
    "\n",
    "<h1>Análisis exploratorio de datos</h1>\n",
    "\n",
    "\n"
   ]
  },
  {
   "cell_type": "code",
   "execution_count": 65,
   "metadata": {},
   "outputs": [],
   "source": [
    "uidf['datetime'] = pd.to_datetime(uidf['timestamp'], unit='s')\n",
    "\n"
   ]
  },
  {
   "cell_type": "code",
   "execution_count": 66,
   "metadata": {},
   "outputs": [
    {
     "data": {
      "text/plain": [
       "<Axes: title={'center': 'Número de interacciones por día'}, xlabel='Fecha', ylabel='Cantidad de Interacciones'>"
      ]
     },
     "execution_count": 66,
     "metadata": {},
     "output_type": "execute_result"
    },
    {
     "data": {
      "image/png": "[encoded data removed]",
      "text/plain": [
       "<Figure size 600x400 with 1 Axes>"
      ]
     },
     "metadata": {},
     "output_type": "display_data"
    }
   ],
   "source": [
    "gdf = uidf.groupby([pd.Grouper(key='datetime', freq='D')]).agg({'eventType':'count'}).reset_index()\n",
    "\n",
    "sns.set_theme(style='whitegrid', rc={'figure.figsize':(6, 4)})\n",
    "plt.title('Número de interacciones por día', fontsize=13)\n",
    "plt.xlabel('Fecha', fontsize=11)\n",
    "plt.ylabel('Cantidad de Interacciones', fontsize=11)\n",
    "sns.lineplot(data=gdf, y=\"eventType\", x='datetime')"
   ]
  },
  {
   "cell_type": "markdown",
   "metadata": {},
   "source": [
    "La grafica muestra la cantidad total de interacciones que ocurrieron en la plataforma durante cada día en el período de tiempo del conjunto de datos. Esta gráfica proporciona una visualización de la actividad diaria en la plataforma, lo que permitiría identificar patrones de uso, picos de actividad y tendencias a lo largo del tiempo. Además, ayuda a detectar cambios significativos en la participación de los usuarios o en la popularidad de la plataforma en diferentes momentos."
   ]
  },
  {
   "cell_type": "code",
   "execution_count": 67,
   "metadata": {},
   "outputs": [
    {
     "data": {
      "text/plain": [
       "<Axes: title={'center': 'Histograma de interacción de usuario y contenido'}, xlabel='Cantidad de usuario', ylabel='Cantidad de interacción por usuario'>"
      ]
     },
     "execution_count": 67,
     "metadata": {},
     "output_type": "execute_result"
    },
    {
     "data": {
      "image/png": "[encoded data removed]",
      "text/plain": [
       "<Figure size 1500x500 with 1 Axes>"
      ]
     },
     "metadata": {},
     "output_type": "display_data"
    }
   ],
   "source": [
    "plt.title('Histograma de interacción de usuario y contenido', fontsize=13)\n",
    "plt.xlabel('Cantidad de usuario', fontsize=11)\n",
    "plt.ylabel('Cantidad de interacción por usuario', fontsize=11)\n",
    "uidf.groupby('personId')['contentId'].size().hist(bins=200, figsize=(15,5))"
   ]
  },
  {
   "cell_type": "markdown",
   "metadata": {},
   "source": [
    "El histograma de interacción de usuario y contenido mostra la distribución de las interacciones entre usuarios y contenido en la plataforma. En el eje horizontal, tenemos diferentes rangos o categorías que representan la cantidad de interacciones realizadas por los usuarios. En el eje vertical, tenemos la frecuencia o el número de usuarios que realizaron esa cantidad de interacciones. Este histograma nos permite tener una idea de cómo se distribuyen las interacciones entre los usuarios y el contenido, lo que puede ayudar a identificar patrones de comportamiento, como la cantidad de usuarios que son muy activos en la plataforma en comparación con aquellos que tienen una participación más baja. También podría revelar si hay ciertos contenidos que generan más interacciones que otros, lo que sería útil para comprender qué tipo de contenido es más popular entre los usuarios."
   ]
  },
  {
   "cell_type": "code",
   "execution_count": 68,
   "metadata": {},
   "outputs": [
    {
     "data": {
      "text/plain": [
       "<Axes: title={'center': 'Número de artículos compartidos por día'}, xlabel='Fecha', ylabel='Cantidad de Artículos'>"
      ]
     },
     "execution_count": 68,
     "metadata": {},
     "output_type": "execute_result"
    },
    {
     "data": {
      "image/png": "[encoded data removed]",
      "text/plain": [
       "<Figure size 600x400 with 1 Axes>"
      ]
     },
     "metadata": {},
     "output_type": "display_data"
    }
   ],
   "source": [
    "adf['datetime'] = pd.to_datetime(adf['timestamp'], unit='s')\n",
    "gdf = adf.groupby([pd.Grouper(key='datetime', freq='D')]).agg({'eventType':'count'}).reset_index()\n",
    "\n",
    "sns.set_theme(style='whitegrid', rc={'figure.figsize':(6, 4)})\n",
    "plt.title('Número de artículos compartidos por día', fontsize=13)\n",
    "plt.xlabel('Fecha', fontsize=11)\n",
    "plt.ylabel('Cantidad de Artículos', fontsize=11)\n",
    "sns.lineplot(data=gdf, y=\"eventType\", x='datetime')"
   ]
  },
  {
   "cell_type": "markdown",
   "metadata": {},
   "source": [
    "La grafica muestra la distribución de la cantidad de artículos compartidos en la plataforma a lo largo del tiempo. En el eje horizontal, tenemos los días del período analizado, y en el eje vertical, el número de artículos compartidos en cada día. Este gráfico nos proporcionaría una visualización de cómo varía la actividad de compartir artículos a lo largo del tiempo."
   ]
  },
  {
   "cell_type": "code",
   "execution_count": 69,
   "metadata": {},
   "outputs": [
    {
     "data": {
      "text/plain": [
       "<Axes: title={'center': 'Dominios principales en artículos compartidos'}, ylabel='urlDomain'>"
      ]
     },
     "execution_count": 69,
     "metadata": {},
     "output_type": "execute_result"
    },
    {
     "data": {
      "image/png": "[encoded data removed]",
      "text/plain": [
       "<Figure size 1000x1000 with 1 Axes>"
      ]
     },
     "metadata": {},
     "output_type": "display_data"
    }
   ],
   "source": [
    "adf['urlDomain'] = adf['url'].apply(lambda x: re.sub(r'^http[s]*:\\/\\/', '', re.search(r'^http[s]*:\\/\\/[\\w\\.]*', x, re.IGNORECASE).group(0)))\n",
    "domain = pd.DataFrame(adf[adf['lang'] == 'en'].groupby('urlDomain').size().sort_values(ascending=True))[-20:].reset_index()\n",
    "domain.columns = ['urlDomain','count']\n",
    "domain.plot(kind='barh', x='urlDomain', y='count', figsize=(10,10), title='Dominios principales en artículos compartidos')"
   ]
  },
  {
   "cell_type": "markdown",
   "metadata": {},
   "source": [
    "El grafico muestra los dominios de los sitios web más frecuentemente compartidos en la plataforma. Cada barra representa un dominio específico. Este gráfico nos da una idea clara de cuáles son los sitios web más populares cuyos artículos son compartidos en la plataforma. Podemos identificar los dominios más relevantes o populares entre los usuarios, lo que  ayuda a comprender mejor los intereses y preferencias de la audiencia. \n",
    "\n",
    "<h2>Categorización de los datos</h2>\n",
    "\n",
    "Dado que hay diversos tipos de interacciones, asignamos a cada una un peso o fuerza, suponiendo que, por ejemplo, un comentario en un artículo refleja un mayor interés por parte del usuario que un \"me gusta\" o una simple vista."
   ]
  },
  {
   "cell_type": "code",
   "execution_count": 70,
   "metadata": {},
   "outputs": [
    {
     "data": {
      "text/html": [
       "<div>\n",
       "<style scoped>\n",
       "    .dataframe tbody tr th:only-of-type {\n",
       "        vertical-align: middle;\n",
       "    }\n",
       "\n",
       "    .dataframe tbody tr th {\n",
       "        vertical-align: top;\n",
       "    }\n",
       "\n",
       "    .dataframe thead th {\n",
       "        text-align: right;\n",
       "    }\n",
       "</style>\n",
       "<table border=\"1\" class=\"dataframe\">\n",
       "  <thead>\n",
       "    <tr style=\"text-align: right;\">\n",
       "      <th></th>\n",
       "      <th>timestamp</th>\n",
       "      <th>eventType</th>\n",
       "      <th>contentId</th>\n",
       "      <th>personId</th>\n",
       "      <th>sessionId</th>\n",
       "      <th>userAgent</th>\n",
       "      <th>userRegion</th>\n",
       "      <th>userCountry</th>\n",
       "      <th>datetime</th>\n",
       "      <th>eventStrength</th>\n",
       "    </tr>\n",
       "  </thead>\n",
       "  <tbody>\n",
       "    <tr>\n",
       "      <th>0</th>\n",
       "      <td>1465413032</td>\n",
       "      <td>VIEW</td>\n",
       "      <td>-3499919498720038879</td>\n",
       "      <td>-8845298781299428018</td>\n",
       "      <td>1264196770339959068</td>\n",
       "      <td>NaN</td>\n",
       "      <td>NaN</td>\n",
       "      <td>NaN</td>\n",
       "      <td>2016-06-08 19:10:32</td>\n",
       "      <td>1</td>\n",
       "    </tr>\n",
       "    <tr>\n",
       "      <th>1</th>\n",
       "      <td>1465412560</td>\n",
       "      <td>VIEW</td>\n",
       "      <td>8890720798209849691</td>\n",
       "      <td>-1032019229384696495</td>\n",
       "      <td>3621737643587579081</td>\n",
       "      <td>Mozilla/5.0 (Macintosh; Intel Mac OS X 10_11_2...</td>\n",
       "      <td>NY</td>\n",
       "      <td>US</td>\n",
       "      <td>2016-06-08 19:02:40</td>\n",
       "      <td>1</td>\n",
       "    </tr>\n",
       "    <tr>\n",
       "      <th>2</th>\n",
       "      <td>1465416190</td>\n",
       "      <td>VIEW</td>\n",
       "      <td>310515487419366995</td>\n",
       "      <td>-1130272294246983140</td>\n",
       "      <td>2631864456530402479</td>\n",
       "      <td>NaN</td>\n",
       "      <td>NaN</td>\n",
       "      <td>NaN</td>\n",
       "      <td>2016-06-08 20:03:10</td>\n",
       "      <td>1</td>\n",
       "    </tr>\n",
       "    <tr>\n",
       "      <th>3</th>\n",
       "      <td>1465413895</td>\n",
       "      <td>FOLLOW</td>\n",
       "      <td>310515487419366995</td>\n",
       "      <td>344280948527967603</td>\n",
       "      <td>-3167637573980064150</td>\n",
       "      <td>NaN</td>\n",
       "      <td>NaN</td>\n",
       "      <td>NaN</td>\n",
       "      <td>2016-06-08 19:24:55</td>\n",
       "      <td>4</td>\n",
       "    </tr>\n",
       "    <tr>\n",
       "      <th>4</th>\n",
       "      <td>1465412290</td>\n",
       "      <td>VIEW</td>\n",
       "      <td>-7820640624231356730</td>\n",
       "      <td>-445337111692715325</td>\n",
       "      <td>5611481178424124714</td>\n",
       "      <td>NaN</td>\n",
       "      <td>NaN</td>\n",
       "      <td>NaN</td>\n",
       "      <td>2016-06-08 18:58:10</td>\n",
       "      <td>1</td>\n",
       "    </tr>\n",
       "  </tbody>\n",
       "</table>\n",
       "</div>"
      ],
      "text/plain": [
       "    timestamp eventType            contentId             personId  \\\n",
       "0  1465413032      VIEW -3499919498720038879 -8845298781299428018   \n",
       "1  1465412560      VIEW  8890720798209849691 -1032019229384696495   \n",
       "2  1465416190      VIEW   310515487419366995 -1130272294246983140   \n",
       "3  1465413895    FOLLOW   310515487419366995   344280948527967603   \n",
       "4  1465412290      VIEW -7820640624231356730  -445337111692715325   \n",
       "\n",
       "             sessionId                                          userAgent  \\\n",
       "0  1264196770339959068                                                NaN   \n",
       "1  3621737643587579081  Mozilla/5.0 (Macintosh; Intel Mac OS X 10_11_2...   \n",
       "2  2631864456530402479                                                NaN   \n",
       "3 -3167637573980064150                                                NaN   \n",
       "4  5611481178424124714                                                NaN   \n",
       "\n",
       "  userRegion userCountry            datetime  eventStrength  \n",
       "0        NaN         NaN 2016-06-08 19:10:32              1  \n",
       "1         NY          US 2016-06-08 19:02:40              1  \n",
       "2        NaN         NaN 2016-06-08 20:03:10              1  \n",
       "3        NaN         NaN 2016-06-08 19:24:55              4  \n",
       "4        NaN         NaN 2016-06-08 18:58:10              1  "
      ]
     },
     "metadata": {},
     "output_type": "display_data"
    }
   ],
   "source": [
    "event_strength = {\n",
    "   'VIEW': 1,\n",
    "   'LIKE': 2, \n",
    "   'BOOKMARK': 3, \n",
    "   'FOLLOW': 4,\n",
    "   'COMMENT CREATED': 5,  \n",
    "}\n",
    "\n",
    "uidf['eventStrength'] = uidf['eventType'].apply(lambda x: event_strength[x])\n",
    "display(uidf.head())"
   ]
  },
  {
   "cell_type": "markdown",
   "metadata": {},
   "source": [
    "Los sistemas de recomendación se enfrentan a un obstáculo bien conocido denominado \"arranque en frío del usuario\". Este fenómeno se manifiesta cuando resulta desafiante proporcionar recomendaciones personalizadas a usuarios que aún no han interactuado con la plataforma o tienen un historial de interacciones limitado. Este problema surge debido a la falta de datos suficientes para modelar con precisión las preferencias de estos usuarios. Ante esta realidad, adoptamos una estrategia específica en nuestro conjunto de datos donde solo conservamos a los usuarios que han llevado a cabo al menos 5 interacciones. Esta selección cuidadosa nos permite trabajar con usuarios que han demostrado cierto nivel de compromiso con la plataforma, lo que a su vez nos proporciona una base más sólida para ofrecer recomendaciones relevantes y personalizadas."
   ]
  },
  {
   "cell_type": "code",
   "execution_count": 71,
   "metadata": {},
   "outputs": [
    {
     "data": {
      "text/plain": [
       "'Número total de usuarios que han interactuado en la plataforma: 1895'"
      ]
     },
     "metadata": {},
     "output_type": "display_data"
    },
    {
     "data": {
      "text/plain": [
       "'Cantidad total de usuarios que han realizado al menos 5 interacciones en la plataforma: 1140'"
      ]
     },
     "metadata": {},
     "output_type": "display_data"
    }
   ],
   "source": [
    "display('Número total de usuarios que han interactuado en la plataforma: %d' % len(uidf['personId'].unique()))\n",
    "\n",
    "count_ui = uidf.groupby(['personId', 'contentId']).size().groupby('personId').size()\n",
    "users5i_df = count_ui[count_ui >= 5].reset_index()[['personId']]\n",
    "display('Cantidad total de usuarios que han realizado al menos 5 interacciones en la plataforma: %d' % len(users5i_df))"
   ]
  },
  {
   "cell_type": "markdown",
   "metadata": {},
   "source": [
    "El número total de usuarios que han interactuado en la plataforma es de 1895, mientras que la cantidad total de usuarios que han realizado al menos 5 interacciones en la plataforma es de 1140. Al limitar nuestro análisis a estos usuarios más activos, podemos asegurar que la información que utilizamos para generar recomendaciones esté respaldada por una participación significativa en la plataforma. Esto, a su vez, nos proporciona una base más sólida para ofrecer recomendaciones relevantes y personalizadas, ya que contamos con datos más sustanciales sobre las preferencias y comportamientos de estos usuarios comprometidos."
   ]
  },
  {
   "cell_type": "code",
   "execution_count": 72,
   "metadata": {},
   "outputs": [
    {
     "data": {
      "text/plain": [
       "'Número total de interacciones en la plataforma: 72312'"
      ]
     },
     "metadata": {},
     "output_type": "display_data"
    },
    {
     "data": {
      "text/plain": [
       "'Cantidad total de interacciones de usuarios que han realizado al menos 5 interacciones en la plataforma: 69868'"
      ]
     },
     "metadata": {},
     "output_type": "display_data"
    },
    {
     "data": {
      "text/html": [
       "<div>\n",
       "<style scoped>\n",
       "    .dataframe tbody tr th:only-of-type {\n",
       "        vertical-align: middle;\n",
       "    }\n",
       "\n",
       "    .dataframe tbody tr th {\n",
       "        vertical-align: top;\n",
       "    }\n",
       "\n",
       "    .dataframe thead th {\n",
       "        text-align: right;\n",
       "    }\n",
       "</style>\n",
       "<table border=\"1\" class=\"dataframe\">\n",
       "  <thead>\n",
       "    <tr style=\"text-align: right;\">\n",
       "      <th></th>\n",
       "      <th>timestamp</th>\n",
       "      <th>eventType</th>\n",
       "      <th>contentId</th>\n",
       "      <th>personId</th>\n",
       "      <th>sessionId</th>\n",
       "      <th>userAgent</th>\n",
       "      <th>userRegion</th>\n",
       "      <th>userCountry</th>\n",
       "      <th>datetime</th>\n",
       "      <th>eventStrength</th>\n",
       "    </tr>\n",
       "  </thead>\n",
       "  <tbody>\n",
       "    <tr>\n",
       "      <th>0</th>\n",
       "      <td>1465413032</td>\n",
       "      <td>VIEW</td>\n",
       "      <td>-3499919498720038879</td>\n",
       "      <td>-8845298781299428018</td>\n",
       "      <td>1264196770339959068</td>\n",
       "      <td>NaN</td>\n",
       "      <td>NaN</td>\n",
       "      <td>NaN</td>\n",
       "      <td>2016-06-08 19:10:32</td>\n",
       "      <td>1</td>\n",
       "    </tr>\n",
       "    <tr>\n",
       "      <th>1</th>\n",
       "      <td>1465412560</td>\n",
       "      <td>VIEW</td>\n",
       "      <td>8890720798209849691</td>\n",
       "      <td>-1032019229384696495</td>\n",
       "      <td>3621737643587579081</td>\n",
       "      <td>Mozilla/5.0 (Macintosh; Intel Mac OS X 10_11_2...</td>\n",
       "      <td>NY</td>\n",
       "      <td>US</td>\n",
       "      <td>2016-06-08 19:02:40</td>\n",
       "      <td>1</td>\n",
       "    </tr>\n",
       "    <tr>\n",
       "      <th>2</th>\n",
       "      <td>1465416190</td>\n",
       "      <td>VIEW</td>\n",
       "      <td>310515487419366995</td>\n",
       "      <td>-1130272294246983140</td>\n",
       "      <td>2631864456530402479</td>\n",
       "      <td>NaN</td>\n",
       "      <td>NaN</td>\n",
       "      <td>NaN</td>\n",
       "      <td>2016-06-08 20:03:10</td>\n",
       "      <td>1</td>\n",
       "    </tr>\n",
       "    <tr>\n",
       "      <th>3</th>\n",
       "      <td>1465413895</td>\n",
       "      <td>FOLLOW</td>\n",
       "      <td>310515487419366995</td>\n",
       "      <td>344280948527967603</td>\n",
       "      <td>-3167637573980064150</td>\n",
       "      <td>NaN</td>\n",
       "      <td>NaN</td>\n",
       "      <td>NaN</td>\n",
       "      <td>2016-06-08 19:24:55</td>\n",
       "      <td>4</td>\n",
       "    </tr>\n",
       "    <tr>\n",
       "      <th>4</th>\n",
       "      <td>1465412290</td>\n",
       "      <td>VIEW</td>\n",
       "      <td>-7820640624231356730</td>\n",
       "      <td>-445337111692715325</td>\n",
       "      <td>5611481178424124714</td>\n",
       "      <td>NaN</td>\n",
       "      <td>NaN</td>\n",
       "      <td>NaN</td>\n",
       "      <td>2016-06-08 18:58:10</td>\n",
       "      <td>1</td>\n",
       "    </tr>\n",
       "  </tbody>\n",
       "</table>\n",
       "</div>"
      ],
      "text/plain": [
       "    timestamp eventType            contentId             personId  \\\n",
       "0  1465413032      VIEW -3499919498720038879 -8845298781299428018   \n",
       "1  1465412560      VIEW  8890720798209849691 -1032019229384696495   \n",
       "2  1465416190      VIEW   310515487419366995 -1130272294246983140   \n",
       "3  1465413895    FOLLOW   310515487419366995   344280948527967603   \n",
       "4  1465412290      VIEW -7820640624231356730  -445337111692715325   \n",
       "\n",
       "             sessionId                                          userAgent  \\\n",
       "0  1264196770339959068                                                NaN   \n",
       "1  3621737643587579081  Mozilla/5.0 (Macintosh; Intel Mac OS X 10_11_2...   \n",
       "2  2631864456530402479                                                NaN   \n",
       "3 -3167637573980064150                                                NaN   \n",
       "4  5611481178424124714                                                NaN   \n",
       "\n",
       "  userRegion userCountry            datetime  eventStrength  \n",
       "0        NaN         NaN 2016-06-08 19:10:32              1  \n",
       "1         NY          US 2016-06-08 19:02:40              1  \n",
       "2        NaN         NaN 2016-06-08 20:03:10              1  \n",
       "3        NaN         NaN 2016-06-08 19:24:55              4  \n",
       "4        NaN         NaN 2016-06-08 18:58:10              1  "
      ]
     },
     "metadata": {},
     "output_type": "display_data"
    }
   ],
   "source": [
    "display('Número total de interacciones en la plataforma: %d' % len(uidf))\n",
    "uidf= uidf[uidf['personId'].isin(users5i_df['personId'].tolist())]\n",
    "display('Cantidad total de interacciones de usuarios que han realizado al menos 5 interacciones en la plataforma: %d' % len(uidf))\n",
    "display(uidf.head())"
   ]
  },
  {
   "cell_type": "markdown",
   "metadata": {},
   "source": [
    "El número total de interacciones en la plataforma es 72,312, mientras que la cantidad total de interacciones realizadas por usuarios con al menos 5 interacciones es 69,868.\n",
    "\n",
    "En Deskdrop, los usuarios tienen permitido ver un artículo muchas veces e interactuar con ellos de diferentes maneras. Por lo tanto, para modelar el interés del usuario en un artículo dado, agregamos todas las interacciones que el usuario ha realizado en un ítem mediante una suma ponderada de la fuerza del tipo de interacción y aplicamos una transformación logarítmica para suavizar la distribución."
   ]
  },
  {
   "cell_type": "code",
   "execution_count": 73,
   "metadata": {},
   "outputs": [
    {
     "data": {
      "text/plain": [
       "'Número de interacciones distintas entre usuario y artículo.: 39106'"
      ]
     },
     "metadata": {},
     "output_type": "display_data"
    },
    {
     "data": {
      "text/html": [
       "<div>\n",
       "<style scoped>\n",
       "    .dataframe tbody tr th:only-of-type {\n",
       "        vertical-align: middle;\n",
       "    }\n",
       "\n",
       "    .dataframe tbody tr th {\n",
       "        vertical-align: top;\n",
       "    }\n",
       "\n",
       "    .dataframe thead th {\n",
       "        text-align: right;\n",
       "    }\n",
       "</style>\n",
       "<table border=\"1\" class=\"dataframe\">\n",
       "  <thead>\n",
       "    <tr style=\"text-align: right;\">\n",
       "      <th></th>\n",
       "      <th>personId</th>\n",
       "      <th>contentId</th>\n",
       "      <th>eventStrength</th>\n",
       "    </tr>\n",
       "  </thead>\n",
       "  <tbody>\n",
       "    <tr>\n",
       "      <th>0</th>\n",
       "      <td>-9223121837663643404</td>\n",
       "      <td>-8949113594875411859</td>\n",
       "      <td>1.000000</td>\n",
       "    </tr>\n",
       "    <tr>\n",
       "      <th>1</th>\n",
       "      <td>-9223121837663643404</td>\n",
       "      <td>-8377626164558006982</td>\n",
       "      <td>1.000000</td>\n",
       "    </tr>\n",
       "    <tr>\n",
       "      <th>2</th>\n",
       "      <td>-9223121837663643404</td>\n",
       "      <td>-8208801367848627943</td>\n",
       "      <td>1.000000</td>\n",
       "    </tr>\n",
       "    <tr>\n",
       "      <th>3</th>\n",
       "      <td>-9223121837663643404</td>\n",
       "      <td>-8187220755213888616</td>\n",
       "      <td>1.000000</td>\n",
       "    </tr>\n",
       "    <tr>\n",
       "      <th>4</th>\n",
       "      <td>-9223121837663643404</td>\n",
       "      <td>-7423191370472335463</td>\n",
       "      <td>3.169925</td>\n",
       "    </tr>\n",
       "  </tbody>\n",
       "</table>\n",
       "</div>"
      ],
      "text/plain": [
       "              personId            contentId  eventStrength\n",
       "0 -9223121837663643404 -8949113594875411859       1.000000\n",
       "1 -9223121837663643404 -8377626164558006982       1.000000\n",
       "2 -9223121837663643404 -8208801367848627943       1.000000\n",
       "3 -9223121837663643404 -8187220755213888616       1.000000\n",
       "4 -9223121837663643404 -7423191370472335463       3.169925"
      ]
     },
     "metadata": {},
     "output_type": "display_data"
    }
   ],
   "source": [
    "def smooth_user_preference(x):\n",
    "    return math.log(1+x, 2)\n",
    "    \n",
    "idf = uidf.groupby(['personId', 'contentId'])['eventStrength'].sum().apply(smooth_user_preference).reset_index()\n",
    "display('Número de interacciones distintas entre usuario y artículo.: %d' % len(idf))\n",
    "display(idf.head())"
   ]
  },
  {
   "cell_type": "markdown",
   "metadata": {},
   "source": [
    "Esta parte se refiere a la cantidad de veces que los usuarios han interactuado con los artículos de la plataforma de manera única o individual. Esto implica que cada interacción se cuenta solo una vez, sin importar cuántas veces un usuario específico haya interactuado con el mismo artículo. Por lo tanto, el valor de 39106 indica que se han registrado 39106 interacciones únicas entre usuarios y artículos en la plataforma.\n",
    "\n",
    "En el proceso de construcción y evaluación de modelos, la primera etapa crucial implica dividir nuestros datos en conjuntos de entrenamiento y prueba. Esta separación nos permite entrenar nuestro modelo con un conjunto de datos y luego evaluar su rendimiento en otro conjunto independiente. El conjunto de entrenamiento se utiliza para ajustar los parámetros del modelo, mientras que el conjunto de prueba se reserva para evaluar su capacidad para generalizar a datos no vistos. Esta división garantiza que nuestro modelo no memorice los datos de entrenamiento y pueda realizar predicciones precisas sobre nuevos datos. Mantener la integridad de esta separación es fundamental para obtener resultados confiables al evaluar el rendimiento del modelo.\n",
    "\n",
    "Utilizamos el parámetro stratify para asegura que la división se realice de manera que se mantenga la misma proporción de clases en ambos conjuntos de datos de entrenamiento y prueba. Es útil utilizar este parametro cuando tenemos un conjunto de datos donde las clases están desbalanceadas, es decir, hay una cantidad significativamente mayor de instancias de una clase en comparación con otras, es importante garantizar que esta proporción se mantenga en los conjuntos de entrenamiento y prueba. De lo contrario, podríamos terminar con un conjunto de entrenamiento que contiene una cantidad desproporcionada de instancias de una clase en particular, lo que podría sesgar el entrenamiento del modelo.\n",
    "\n",
    "Este parámetro aborda este problema al dividir el conjunto de datos de manera que cada clase esté representada en proporciones similares en ambos conjuntos de entrenamiento y prueba. Esto garantiza que el modelo pueda aprender de manera equilibrada de todas las clases y que la evaluación del rendimiento del modelo sea más confiable, especialmente en casos de conjuntos de datos desbalanceados."
   ]
  },
  {
   "cell_type": "code",
   "execution_count": 74,
   "metadata": {},
   "outputs": [
    {
     "data": {
      "text/plain": [
       "(31284, 3)"
      ]
     },
     "metadata": {},
     "output_type": "display_data"
    },
    {
     "data": {
      "text/plain": [
       "(7822, 3)"
      ]
     },
     "metadata": {},
     "output_type": "display_data"
    },
    {
     "data": {
      "text/html": [
       "<div>\n",
       "<style scoped>\n",
       "    .dataframe tbody tr th:only-of-type {\n",
       "        vertical-align: middle;\n",
       "    }\n",
       "\n",
       "    .dataframe tbody tr th {\n",
       "        vertical-align: top;\n",
       "    }\n",
       "\n",
       "    .dataframe thead th {\n",
       "        text-align: right;\n",
       "    }\n",
       "</style>\n",
       "<table border=\"1\" class=\"dataframe\">\n",
       "  <thead>\n",
       "    <tr style=\"text-align: right;\">\n",
       "      <th></th>\n",
       "      <th>personId</th>\n",
       "      <th>contentId</th>\n",
       "      <th>eventStrength</th>\n",
       "    </tr>\n",
       "  </thead>\n",
       "  <tbody>\n",
       "    <tr>\n",
       "      <th>24048</th>\n",
       "      <td>1949009070102523745</td>\n",
       "      <td>5484061377044071389</td>\n",
       "      <td>1.000000</td>\n",
       "    </tr>\n",
       "    <tr>\n",
       "      <th>11918</th>\n",
       "      <td>-2979881261169775358</td>\n",
       "      <td>-986027724303592548</td>\n",
       "      <td>1.000000</td>\n",
       "    </tr>\n",
       "    <tr>\n",
       "      <th>20721</th>\n",
       "      <td>674947025087085832</td>\n",
       "      <td>-133139342397538859</td>\n",
       "      <td>2.000000</td>\n",
       "    </tr>\n",
       "    <tr>\n",
       "      <th>13220</th>\n",
       "      <td>-2626634673110551643</td>\n",
       "      <td>3547081132182529111</td>\n",
       "      <td>1.584963</td>\n",
       "    </tr>\n",
       "    <tr>\n",
       "      <th>23635</th>\n",
       "      <td>1895326251577378793</td>\n",
       "      <td>-4095842175692097942</td>\n",
       "      <td>1.000000</td>\n",
       "    </tr>\n",
       "  </tbody>\n",
       "</table>\n",
       "</div>"
      ],
      "text/plain": [
       "                  personId            contentId  eventStrength\n",
       "24048  1949009070102523745  5484061377044071389       1.000000\n",
       "11918 -2979881261169775358  -986027724303592548       1.000000\n",
       "20721   674947025087085832  -133139342397538859       2.000000\n",
       "13220 -2626634673110551643  3547081132182529111       1.584963\n",
       "23635  1895326251577378793 -4095842175692097942       1.000000"
      ]
     },
     "metadata": {},
     "output_type": "display_data"
    }
   ],
   "source": [
    "train_df, val_df = train_test_split(idf, stratify=idf['personId'], test_size=0.2, random_state=RANDOMSEED)\n",
    "\n",
    "display(train_df.shape)\n",
    "display(val_df.shape)\n",
    "display(train_df.head())"
   ]
  },
  {
   "cell_type": "markdown",
   "metadata": {},
   "source": [
    "Vamos a indexar el conjunto de datos por personId para acelerar las búsquedas durante la evaluación de los modelos. En otras palabras, el sistema puede encontrar información específica relacionada con un usuario más rápidamente durante el proceso de evaluación. Esto puede ser especialmente útil cuando se manejan grandes volúmenes de datos y se requiere una eficiencia en las consultas."
   ]
  },
  {
   "cell_type": "code",
   "execution_count": 75,
   "metadata": {},
   "outputs": [
    {
     "data": {
      "text/html": [
       "<div>\n",
       "<style scoped>\n",
       "    .dataframe tbody tr th:only-of-type {\n",
       "        vertical-align: middle;\n",
       "    }\n",
       "\n",
       "    .dataframe tbody tr th {\n",
       "        vertical-align: top;\n",
       "    }\n",
       "\n",
       "    .dataframe thead th {\n",
       "        text-align: right;\n",
       "    }\n",
       "</style>\n",
       "<table border=\"1\" class=\"dataframe\">\n",
       "  <thead>\n",
       "    <tr style=\"text-align: right;\">\n",
       "      <th></th>\n",
       "      <th>contentId</th>\n",
       "      <th>eventStrength</th>\n",
       "    </tr>\n",
       "    <tr>\n",
       "      <th>personId</th>\n",
       "      <th></th>\n",
       "      <th></th>\n",
       "    </tr>\n",
       "  </thead>\n",
       "  <tbody>\n",
       "    <tr>\n",
       "      <th>-9223121837663643404</th>\n",
       "      <td>-8949113594875411859</td>\n",
       "      <td>1.000000</td>\n",
       "    </tr>\n",
       "    <tr>\n",
       "      <th>-9223121837663643404</th>\n",
       "      <td>-8377626164558006982</td>\n",
       "      <td>1.000000</td>\n",
       "    </tr>\n",
       "    <tr>\n",
       "      <th>-9223121837663643404</th>\n",
       "      <td>-8208801367848627943</td>\n",
       "      <td>1.000000</td>\n",
       "    </tr>\n",
       "    <tr>\n",
       "      <th>-9223121837663643404</th>\n",
       "      <td>-8187220755213888616</td>\n",
       "      <td>1.000000</td>\n",
       "    </tr>\n",
       "    <tr>\n",
       "      <th>-9223121837663643404</th>\n",
       "      <td>-7423191370472335463</td>\n",
       "      <td>3.169925</td>\n",
       "    </tr>\n",
       "  </tbody>\n",
       "</table>\n",
       "</div>"
      ],
      "text/plain": [
       "                                contentId  eventStrength\n",
       "personId                                                \n",
       "-9223121837663643404 -8949113594875411859       1.000000\n",
       "-9223121837663643404 -8377626164558006982       1.000000\n",
       "-9223121837663643404 -8208801367848627943       1.000000\n",
       "-9223121837663643404 -8187220755213888616       1.000000\n",
       "-9223121837663643404 -7423191370472335463       3.169925"
      ]
     },
     "metadata": {},
     "output_type": "display_data"
    }
   ],
   "source": [
    "idf = idf.set_index('personId')\n",
    "train_df = train_df.set_index('personId')\n",
    "val_df = val_df.set_index('personId')\n",
    "display(idf.head())"
   ]
  },
  {
   "cell_type": "markdown",
   "metadata": {},
   "source": [
    "<h1>Entrenamiento de los modelos</h1>\n",
    "\n",
    "<h2>Basado en Popularidad </h2>\n",
    "\n",
    "Un sistema de recomendación basado en popularidad es un tipo básico de sistema de recomendación que utiliza la popularidad o la frecuencia de un artículo para hacer recomendaciones. En este modelo, los artículos se recomiendan a los usuarios en función de su popularidad general, es decir, aquellos que son los más consumidos o vistos por la mayoría de los usuarios en la plataforma. Este enfoque es simple de implementar y puede ser útil en situaciones donde no se dispone de información detallada sobre las preferencias individuales de los usuarios. Sin embargo, este modelo no tiene en cuenta las preferencias individuales de los usuarios y puede no ser adecuado para proporcionar recomendaciones personalizadas o relevantes para cada usuario. Es más adecuado para aplicaciones donde la popularidad general de un artículo es un indicador suficiente de su valor para la mayoría de los usuarios.\n",
    "\n",
    "Debemos identificar y calcular los elementos más populares en el conjunto de datos. Este proceso implica analizar las interacciones de los usuarios con los elementos y determinar cuáles son los más consumidos, vistos o interaccionados por la mayoría de los usuarios. Se debe calculae una métrica de popularidad para cada elemento, como el número total de interacciones. Luego, se seleccionan los elementos con las métricas de popularidad más altas como los \"más populares\".\n",
    "\n",
    "Dado que la popularidad refleja la sabiduría de las masas, generalmente ofrece buenas recomendaciones, siendo en general interesantes para la mayoría de las personas. Sin embargo, el principal objetivo de un sistema de recomendación es aprovechar los elementos de cola larga para usuarios con intereses muy específicos, lo que va mucho más allá de esta simple técnica.\n",
    "\n"
   ]
  },
  {
   "cell_type": "code",
   "execution_count": 76,
   "metadata": {},
   "outputs": [
    {
     "data": {
      "text/html": [
       "<div>\n",
       "<style scoped>\n",
       "    .dataframe tbody tr th:only-of-type {\n",
       "        vertical-align: middle;\n",
       "    }\n",
       "\n",
       "    .dataframe tbody tr th {\n",
       "        vertical-align: top;\n",
       "    }\n",
       "\n",
       "    .dataframe thead th {\n",
       "        text-align: right;\n",
       "    }\n",
       "</style>\n",
       "<table border=\"1\" class=\"dataframe\">\n",
       "  <thead>\n",
       "    <tr style=\"text-align: right;\">\n",
       "      <th></th>\n",
       "      <th>contentId</th>\n",
       "      <th>eventStrength</th>\n",
       "    </tr>\n",
       "  </thead>\n",
       "  <tbody>\n",
       "    <tr>\n",
       "      <th>0</th>\n",
       "      <td>-4029704725707465084</td>\n",
       "      <td>310.791362</td>\n",
       "    </tr>\n",
       "    <tr>\n",
       "      <th>1</th>\n",
       "      <td>-6783772548752091658</td>\n",
       "      <td>237.145410</td>\n",
       "    </tr>\n",
       "    <tr>\n",
       "      <th>2</th>\n",
       "      <td>-133139342397538859</td>\n",
       "      <td>229.089057</td>\n",
       "    </tr>\n",
       "    <tr>\n",
       "      <th>3</th>\n",
       "      <td>-8208801367848627943</td>\n",
       "      <td>199.660338</td>\n",
       "    </tr>\n",
       "    <tr>\n",
       "      <th>4</th>\n",
       "      <td>-6843047699859121724</td>\n",
       "      <td>196.174998</td>\n",
       "    </tr>\n",
       "  </tbody>\n",
       "</table>\n",
       "</div>"
      ],
      "text/plain": [
       "             contentId  eventStrength\n",
       "0 -4029704725707465084     310.791362\n",
       "1 -6783772548752091658     237.145410\n",
       "2  -133139342397538859     229.089057\n",
       "3 -8208801367848627943     199.660338\n",
       "4 -6843047699859121724     196.174998"
      ]
     },
     "execution_count": 76,
     "metadata": {},
     "output_type": "execute_result"
    }
   ],
   "source": [
    "pop_df = idf.groupby('contentId')['eventStrength'].sum().sort_values(ascending=False).reset_index()\n",
    "pop_df.head()\n",
    "    "
   ]
  },
  {
   "cell_type": "markdown",
   "metadata": {},
   "source": [
    "En los Sistemas de Recomendación, hay un conjunto de métricas comúnmente utilizadas para la evaluación. Optamos por trabajar con métricas de precisión Top-N, las cuales evalúan la precisión de las principales recomendaciones proporcionadas a un usuario, comparándolas con los elementos con los que el usuario ha interactuado realmente en el conjunto de prueba. La métrica de precisión Top-N elegida fue Recall, la cual evalúa si el elemento interactuado se encuentra entre los primeros N elementos (aciertos) en la lista clasificada de 101 recomendaciones para un usuario.\n",
    "\n",
    "El recall es una métrica importante en la evaluación de los sistemas de recomendación, ya que mide la capacidad del sistema para identificar todos los elementos relevantes para un usuario dentro de una lista de recomendaciones. En otras palabras, el recall nos dice qué tan efectivamente el sistema puede recuperar los elementos que el usuario realmente encuentra interesantes o útiles. Un alto recall indica que el sistema está identificando la mayoría de los elementos relevantes para el usuario, lo que resulta en recomendaciones más útiles y satisfactorias. Por otro lado, un bajo recall puede significar que el sistema está perdiendo elementos importantes, lo que puede llevar a recomendaciones poco acertadas y, en última instancia, a una experiencia insatisfactoria para el usuario.\n",
    "\n",
    "Vamos a desarrollar un conjunto de funciones que nos permitirá evaluar el modelo inicialmente propuesto y luego reutilizar estas mismas funciones para evaluar los diferentes modelos que desarrollaremos en este estudio. Estas funciones nos proporcionarán una manera sistemática de medir y comparar el rendimiento de los modelos en diferentes métricas de evaluación, con un enfoque particular en la métrica de Recall. En específico, mediremos el recall para los top 5 y los top 10, lo que nos permitirá evaluar la capacidad de los modelos para recomendar correctamente los elementos relevantes para los usuarios en las posiciones principales de las recomendaciones. Esto nos facilitará tomar decisiones informadas sobre qué modelo es más adecuado para nuestras necesidades, utilizando las mismas métricas de evaluación en todos los casos para una comparación coherente y precisa.\n"
   ]
  },
  {
   "cell_type": "code",
   "execution_count": 77,
   "metadata": {},
   "outputs": [],
   "source": [
    "def get_items_interacted(person_id, interactions):\n",
    "    interacted_items = interactions.loc[person_id]['contentId']\n",
    "    return set(interacted_items if type(interacted_items) == pd.Series else [interacted_items])"
   ]
  },
  {
   "cell_type": "markdown",
   "metadata": {},
   "source": [
    "La función get_items_interacted se encarga de obtener los artículos con los que un usuario ha interactuado en la plataforma. Esta función toma como entrada el identificador del usuario y el conjunto de datos de interacciones. Devuelve una lista de los artículos con los que el usuario ha interactuado."
   ]
  },
  {
   "cell_type": "code",
   "execution_count": 78,
   "metadata": {},
   "outputs": [],
   "source": [
    "def recommend_items(user_id, items_to_ignore=[], verbose=False):\n",
    "    # Recommend the more popular items that the user hasn't seen yet.\n",
    "    recommendations_df = pop_df[~pop_df['contentId'].isin(items_to_ignore)].sort_values('eventStrength', ascending = False)\n",
    "\n",
    "    if verbose:\n",
    "            recommendations_df = recommendations_df.merge(adf, how = 'left', on = 'contentId')[['eventStrength', 'contentId', 'title', 'url', 'lang']]\n",
    "            \n",
    "    return recommendations_df"
   ]
  },
  {
   "cell_type": "markdown",
   "metadata": {},
   "source": [
    "La función recommend_items está diseñada para recomendar artículos a un usuario específico utilizando un modelo de popularidad. Toma como entrada el identificador del usuario (user_id), una lista opcional de artículos que el usuario desea ignorar (items_to_ignore), y un parámetro opcional para controlar la verbosidad de la salida (verbose).\n",
    "\n",
    "La recomendación se basa en la popularidad de los artículos en general, es decir, aquellos que han sido más consumidos o interaccionados por la mayoría de los usuarios en la plataforma. La función filtra los artículos ignorados por el usuario y devuelve una lista de los artículos más populares que el usuario aún no ha interactuado."
   ]
  },
  {
   "cell_type": "code",
   "execution_count": 79,
   "metadata": {},
   "outputs": [],
   "source": [
    "def get_not_interacted_items_sample(person_id, sample_size, seed=RANDOMSEED):\n",
    "    interacted_items = get_items_interacted(person_id, idf)\n",
    "    all_items = set(adf['contentId'])\n",
    "    non_interacted_items = all_items - interacted_items\n",
    "\n",
    "    random.seed(seed)\n",
    "    non_interacted_items_sample = random.sample(non_interacted_items, sample_size)\n",
    "    return set(non_interacted_items_sample)"
   ]
  },
  {
   "cell_type": "markdown",
   "metadata": {},
   "source": [
    "La función get_not_interacted_items_sample se encarga de obtener una muestra de artículos con los que un usuario específico no ha interactuado en la plataforma. Toma como entrada el identificador del usuario y el tamaño de la muestra deseada, y devuelve una lista de identificadores de artículos que el usuario aún no ha interactuado."
   ]
  },
  {
   "cell_type": "code",
   "execution_count": 80,
   "metadata": {},
   "outputs": [],
   "source": [
    "def verify_hit_top_n(item_id, recommended_items, topn):        \n",
    "        try:\n",
    "            index = next(i for i, c in enumerate(recommended_items) if c == item_id)\n",
    "        except:\n",
    "            index = -1\n",
    "        hit = int(index in range(0, topn))\n",
    "        return hit, index"
   ]
  },
  {
   "cell_type": "markdown",
   "metadata": {},
   "source": [
    "La función verify_hit_top_n se encarga de verificar si un artículo interactuado por un usuario específico se encuentra entre las recomendaciones principales proporcionadas por un sistema de recomendación. "
   ]
  },
  {
   "cell_type": "code",
   "execution_count": 81,
   "metadata": {},
   "outputs": [],
   "source": [
    "\n",
    "def evaluate_model_for_user(person_id):\n",
    "    interacted_values_testset = val_df.loc[person_id]\n",
    "    if type(interacted_values_testset['contentId']) == pd.Series:\n",
    "        person_interacted_items_testset = set(interacted_values_testset['contentId'])\n",
    "    else:\n",
    "        person_interacted_items_testset = set([int(interacted_values_testset['contentId'])])  \n",
    "    \n",
    "    interacted_items_count_testset = len(person_interacted_items_testset) \n",
    "\n",
    "    person_recs_df = recommend_items(person_id, items_to_ignore=get_items_interacted(person_id, train_df))\n",
    "\n",
    "    hits_at_5_count = 0\n",
    "    hits_at_10_count = 0\n",
    "    for item_id in person_interacted_items_testset:\n",
    "        non_interacted_items_sample = get_not_interacted_items_sample(person_id, sample_size=100, seed=RANDOMSEED)\n",
    "\n",
    "        items_to_filter_recs = non_interacted_items_sample.union(set([item_id]))\n",
    "\n",
    "        valid_recs_df = person_recs_df[person_recs_df['contentId'].isin(items_to_filter_recs)]                    \n",
    "        valid_recs = valid_recs_df['contentId'].values\n",
    "        hit_at_5, index_at_5 = verify_hit_top_n(item_id, valid_recs, 5)\n",
    "        hits_at_5_count += hit_at_5\n",
    "        hit_at_10, index_at_10 = verify_hit_top_n(item_id, valid_recs, 10)\n",
    "        hits_at_10_count += hit_at_10\n",
    "\n",
    "    recall_at_5 = hits_at_5_count / float(interacted_items_count_testset)\n",
    "    recall_at_10 = hits_at_10_count / float(interacted_items_count_testset)\n",
    "\n",
    "    person_metrics = {'hits@5_count':hits_at_5_count, \n",
    "                        'hits@10_count':hits_at_10_count, \n",
    "                        'interacted_count': interacted_items_count_testset,\n",
    "                        'recall@5': recall_at_5,\n",
    "                        'recall@10': recall_at_10}\n",
    "    return person_metrics\n"
   ]
  },
  {
   "cell_type": "markdown",
   "metadata": {},
   "source": [
    "Hemos desarrollado una función específica para evaluar el modelo de popularidad, donde llamamos las funciones descritas anteriormente. Esta función se encarga de utilizar las herramientas proporcionadas para calcular métricas de evaluación, como el recall, para el modelo de popularidad. Al llamar a las funciones `get_items_interacted`, `get_not_interacted_items_sample` y `verify_hit_top_n`, podemos obtener las interacciones de los usuarios, una muestra de artículos no interaccionados y verificar si los artículos interactuados están entre las recomendaciones principales. Esta función nos proporciona una forma sistemática de evaluar el rendimiento del modelo de popularidad en términos de su capacidad para recomendar con precisión los elementos relevantes para los usuarios.\n",
    "\n"
   ]
  },
  {
   "cell_type": "code",
   "execution_count": 82,
   "metadata": {},
   "outputs": [
    {
     "data": {
      "text/plain": [
       "\"Métricas de evaluación del modelo de popularidad incluyen el recall para los top 5 y top 10 recomendaciones {'modelName': 'Popularity', 'recall@5': 0.24546151879314754, 'recall@10': 0.38136026591664535}\""
      ]
     },
     "metadata": {},
     "output_type": "display_data"
    },
    {
     "data": {
      "text/html": [
       "<div>\n",
       "<style scoped>\n",
       "    .dataframe tbody tr th:only-of-type {\n",
       "        vertical-align: middle;\n",
       "    }\n",
       "\n",
       "    .dataframe tbody tr th {\n",
       "        vertical-align: top;\n",
       "    }\n",
       "\n",
       "    .dataframe thead th {\n",
       "        text-align: right;\n",
       "    }\n",
       "</style>\n",
       "<table border=\"1\" class=\"dataframe\">\n",
       "  <thead>\n",
       "    <tr style=\"text-align: right;\">\n",
       "      <th></th>\n",
       "      <th>hits@5_count</th>\n",
       "      <th>hits@10_count</th>\n",
       "      <th>interacted_count</th>\n",
       "      <th>recall@5</th>\n",
       "      <th>recall@10</th>\n",
       "      <th>_person_id</th>\n",
       "    </tr>\n",
       "  </thead>\n",
       "  <tbody>\n",
       "    <tr>\n",
       "      <th>11</th>\n",
       "      <td>37</td>\n",
       "      <td>59</td>\n",
       "      <td>192</td>\n",
       "      <td>0.192708</td>\n",
       "      <td>0.307292</td>\n",
       "      <td>3609194402293569455</td>\n",
       "    </tr>\n",
       "    <tr>\n",
       "      <th>18</th>\n",
       "      <td>10</td>\n",
       "      <td>20</td>\n",
       "      <td>134</td>\n",
       "      <td>0.074627</td>\n",
       "      <td>0.149254</td>\n",
       "      <td>-2626634673110551643</td>\n",
       "    </tr>\n",
       "    <tr>\n",
       "      <th>95</th>\n",
       "      <td>6</td>\n",
       "      <td>10</td>\n",
       "      <td>130</td>\n",
       "      <td>0.046154</td>\n",
       "      <td>0.076923</td>\n",
       "      <td>-1032019229384696495</td>\n",
       "    </tr>\n",
       "    <tr>\n",
       "      <th>112</th>\n",
       "      <td>9</td>\n",
       "      <td>22</td>\n",
       "      <td>117</td>\n",
       "      <td>0.076923</td>\n",
       "      <td>0.188034</td>\n",
       "      <td>-1443636648652872475</td>\n",
       "    </tr>\n",
       "    <tr>\n",
       "      <th>22</th>\n",
       "      <td>16</td>\n",
       "      <td>31</td>\n",
       "      <td>88</td>\n",
       "      <td>0.181818</td>\n",
       "      <td>0.352273</td>\n",
       "      <td>-2979881261169775358</td>\n",
       "    </tr>\n",
       "  </tbody>\n",
       "</table>\n",
       "</div>"
      ],
      "text/plain": [
       "     hits@5_count  hits@10_count  interacted_count  recall@5  recall@10  \\\n",
       "11             37             59               192  0.192708   0.307292   \n",
       "18             10             20               134  0.074627   0.149254   \n",
       "95              6             10               130  0.046154   0.076923   \n",
       "112             9             22               117  0.076923   0.188034   \n",
       "22             16             31                88  0.181818   0.352273   \n",
       "\n",
       "              _person_id  \n",
       "11   3609194402293569455  \n",
       "18  -2626634673110551643  \n",
       "95  -1032019229384696495  \n",
       "112 -1443636648652872475  \n",
       "22  -2979881261169775358  "
      ]
     },
     "execution_count": 82,
     "metadata": {},
     "output_type": "execute_result"
    }
   ],
   "source": [
    "people_metrics = []\n",
    "for idx, person_id in enumerate(list(val_df.index.unique().values)):\n",
    "    person_metrics = evaluate_model_for_user(person_id)  \n",
    "    person_metrics['_person_id'] = person_id\n",
    "    people_metrics.append(person_metrics)\n",
    "\n",
    "popularity_df = pd.DataFrame(people_metrics).sort_values('interacted_count', ascending=False)\n",
    "\n",
    "popularity_recall_at_5 = popularity_df['hits@5_count'].sum() / float(popularity_df['interacted_count'].sum())\n",
    "popularity_recall_at_10 = popularity_df['hits@10_count'].sum() / float(popularity_df['interacted_count'].sum())\n",
    "\n",
    "popularity_metrics = {'modelName': 'Popularity',\n",
    "                    'recall@5': popularity_recall_at_5,\n",
    "                    'recall@10': popularity_recall_at_10}    \n",
    "\n",
    "display('Métricas de evaluación del modelo de popularidad incluyen el recall para los top 5 y top 10 recomendaciones %s' % popularity_metrics)\n",
    "popularity_df.head()"
   ]
  },
  {
   "cell_type": "markdown",
   "metadata": {},
   "source": [
    "Estamos calculando el recall para los top 5 y top 10 recomendaciones generadas por el modelo de popularidad. Para el recall@5, el valor obtenido es aproximadamente 0.245, lo que indica que alrededor del 24.5% de los elementos relevantes fueron recomendados en los primeros 5 elementos de la lista de recomendaciones. Para el recall@10, el valor obtenido es aproximadamente 0.381, lo que significa que alrededor del 38.1% de los elementos relevantes fueron recomendados en los primeros 10 elementos de la lista de recomendaciones.\n",
    "\n",
    "Estas métricas nos proporcionan información sobre la capacidad del modelo de popularidad para recomendar correctamente elementos relevantes para los usuarios en las posiciones principales de las recomendaciones. Cuanto más alto sea el valor de recall, mejor será el rendimiento del modelo en términos de la capacidad para identificar y recomendar elementos relevantes.\n",
    "\n",
    "Necesitamos un modelo de mayor Recall, dado que este no tiene los valores suficientes para garantizar que el sistema de recomendación pueda proporcionar recomendaciones útiles y relevantes para los usuarios.\n",
    "\n",
    "<h2>Basado en Contenido</h2>\n",
    "\n",
    "Un sistema de recomendación basado en contenido es un enfoque utilizado para generar recomendaciones personalizadas al analizar las características y atributos de los elementos recomendados y compararlos con el perfil de preferencias de un usuario. Este tipo de sistema se basa en la idea de que los usuarios tienen preferencias específicas sobre ciertos atributos de los elementos El sistema analiza los atributos de los elementos que el usuario ha consumido previamente y utiliza esta información para recomendar otros elementos con características similares que se ajusten a los intereses del usuario. Este enfoque es beneficioso porque puede ofrecer recomendaciones precisas y personalizadas incluso para usuarios nuevos o para aquellos con historiales de interacción limitados. Además, el sistema de recomendación basado en contenido es menos susceptible al problema del arranque en frío del usuario, ya que puede generar recomendaciones basadas únicamente en las características de los elementos, sin necesidad de datos de interacción del usuario. \n",
    "\n",
    "Para modelar el perfil del usuario, tomamos todos los perfiles de los elementos con los que el usuario ha interactuado y los promediamos. El promedio se pondera por la fuerza de la interacción, es decir, los artículos con los que el usuario ha interactuado más tendrán una fuerza más alta en el perfil final del usuario."
   ]
  },
  {
   "cell_type": "code",
   "execution_count": 83,
   "metadata": {},
   "outputs": [
    {
     "data": {
      "text/plain": [
       "<3047x5000 sparse matrix of type '<class 'numpy.float64'>'\n",
       "\twith 677781 stored elements in Compressed Sparse Row format>"
      ]
     },
     "metadata": {},
     "output_type": "display_data"
    }
   ],
   "source": [
    "stopwords_list = stopwords.words('english')\n",
    "\n",
    "vectorizer = TfidfVectorizer(analyzer='word',\n",
    "                     ngram_range=(1, 2),\n",
    "                     min_df=0.003,\n",
    "                     max_df=0.5,\n",
    "                     max_features=5000,\n",
    "                     stop_words=stopwords_list)\n",
    "\n",
    "item_ids = adf['contentId'].tolist()\n",
    "tfidf_matrix = vectorizer.fit_transform(adf['title'] + \"\" + adf['text'])\n",
    "tfidf_feature_names = vectorizer.get_feature_names_out()\n",
    "display(tfidf_matrix)"
   ]
  },
  {
   "cell_type": "markdown",
   "metadata": {},
   "source": [
    "En el contexto del procesamiento del lenguaje natural, es necesario excluir palabras que carecen de significado semántico y que no aportan información relevante para el análisis del texto. Estas palabras, conocidas como palabras vacías o \"stop words\", incluyen términos comunes como \"the\", \"is\", \"and\", entre otros, que se encuentran con frecuencia en el idioma pero que no transmiten significado por sí solos. Dado que nuestro conjunto de datos contiene texto en inglés, utilizamos la función stopwords.words('english') para identificar y excluir estas palabras vacías del texto durante el procesamiento.\n",
    "\n",
    "Al eliminar las palabras vacías, el modelo puede concentrarse en capturar mejor las relaciones y los significados presentes en el texto, lo que puede mejorar la calidad de las representaciones vectoriales y, en última instancia, el rendimiento del modelo en diversas tareas de procesamiento del lenguaje natural."
   ]
  },
  {
   "cell_type": "code",
   "execution_count": 84,
   "metadata": {},
   "outputs": [],
   "source": [
    "def get_item_profile(item_id):\n",
    "    idx = item_ids.index(item_id)\n",
    "    item_profile = tfidf_matrix[idx:idx+1]\n",
    "    return item_profile"
   ]
  },
  {
   "cell_type": "markdown",
   "metadata": {},
   "source": [
    "La función get_item_profile obtiene el perfil de un artículo específico en función de sus características y atributos."
   ]
  },
  {
   "cell_type": "code",
   "execution_count": 85,
   "metadata": {},
   "outputs": [],
   "source": [
    "def get_item_profiles(ids):\n",
    "    item_profiles_list = [get_item_profile(x) for x in ids]\n",
    "    item_profiles = scipy.sparse.vstack(item_profiles_list)\n",
    "    return item_profiles"
   ]
  },
  {
   "cell_type": "markdown",
   "metadata": {},
   "source": [
    "La función get_item_profiles se encarga de obtener los perfiles de múltiples artículos a la vez. Toma como entrada una lista de identificadores de artículos y devuelve los perfiles correspondientes para cada uno de ellos."
   ]
  },
  {
   "cell_type": "code",
   "execution_count": 86,
   "metadata": {},
   "outputs": [],
   "source": [
    "def build_users_profile(person_id, interactions_indexed_df):\n",
    "    interactions_person_df = interactions_indexed_df.loc[person_id]\n",
    "    user_item_profiles = get_item_profiles(interactions_person_df['contentId'])\n",
    "    \n",
    "    \n",
    "    user_item_strengths = np.array(interactions_person_df['eventStrength']).reshape(-1,1)\n",
    "    #Weighted average of item profiles by the interactions strength\n",
    "    user_item_strengths_weighted_avg = np.sum(user_item_profiles.multiply(user_item_strengths), axis=0) / np.sum(user_item_strengths)\n",
    "    user_item_strengths_weighted_avg= np.asarray(user_item_strengths_weighted_avg) #np.matrix is not supported. Please convert to a numpy array with np.asarray.\n",
    "    user_profile_norm = sklearn.preprocessing.normalize(user_item_strengths_weighted_avg)\n",
    "\n",
    "    return user_profile_norm"
   ]
  },
  {
   "cell_type": "markdown",
   "metadata": {},
   "source": [
    "La función build_users_profile construye el perfil de un usuario en función de los perfiles de los artículos con los que ha interactuado. Utiliza los perfiles de los artículos para calcular un perfil agregado que represente los intereses y preferencias del usuario en el conjunto de datos."
   ]
  },
  {
   "cell_type": "code",
   "execution_count": 87,
   "metadata": {},
   "outputs": [],
   "source": [
    "def build_users_profiles(): \n",
    "    interactions_indexed_df = train_df[train_df['contentId'].isin(adf['contentId'])]\n",
    "    user_profiles = {}\n",
    "    for person_id in interactions_indexed_df.index.unique():\n",
    "        user_profiles[person_id] = build_users_profile(person_id, interactions_indexed_df)\n",
    "    return user_profiles"
   ]
  },
  {
   "cell_type": "markdown",
   "metadata": {},
   "source": [
    "La función build_users_profiles se encarga de construir perfiles para múltiples usuarios a la vez. Toma como entrada una lista de identificadores de usuarios y utiliza los perfiles de los artículos con los que cada usuario ha interactuado para calcular perfiles agregados para cada uno de ellos."
   ]
  },
  {
   "cell_type": "code",
   "execution_count": 88,
   "metadata": {},
   "outputs": [
    {
     "data": {
      "text/plain": [
       "1140"
      ]
     },
     "execution_count": 88,
     "metadata": {},
     "output_type": "execute_result"
    }
   ],
   "source": [
    "\n",
    "user_profiles = build_users_profiles()\n",
    "len(user_profiles)"
   ]
  },
  {
   "cell_type": "markdown",
   "metadata": {},
   "source": [
    "Se crearon perfiles para un total de 1140 usuarios. \n",
    "\n",
    "Luego generamos una función que se encarga de encontrar artículos similares al perfil de un usuario en función de los perfiles de los artículos y el perfil del usuario. Utilizando técnicas de similitud, compara el perfil del usuario con los perfiles de todos los artículos disponibles en el conjunto de datos y devuelve una lista de los artículos más similares al perfil del usuario. Estos artículos similares representan recomendaciones potenciales para el usuario, ya que comparten características y atributos similares a los artículos con los que el usuario ha interactuado previamente.  "
   ]
  },
  {
   "cell_type": "code",
   "execution_count": 89,
   "metadata": {},
   "outputs": [],
   "source": [
    "def get_similar_items_to_user_profile(person_id, topn=1000):\n",
    "    #Computes the cosine similarity between the user profile and all item profiles\n",
    "    cosine_similarities = cosine_similarity(user_profiles[person_id], tfidf_matrix)\n",
    "    #Gets the top similar items\n",
    "    similar_indices = cosine_similarities.argsort().flatten()[-topn:]\n",
    "    #Sort the similar items by similarity\n",
    "    similar_items = sorted([(item_ids[i], cosine_similarities[0,i]) for i in similar_indices], key=lambda x: -x[1])\n",
    "    return similar_items"
   ]
  },
  {
   "cell_type": "markdown",
   "metadata": {},
   "source": [
    "Hemos desarrollado una función específica de recomendación para el modelo Basado en Contenido. Esta función se encarga de encontrar artículos similares al perfil de un usuario en función de los perfiles de los artículos y el perfil del usuario. Utilizando técnicas de similitud, compara el perfil del usuario con los perfiles de todos los artículos disponibles en el conjunto de datos y devuelve una lista de los artículos más similares al perfil del usuario. Estos artículos similares representan recomendaciones potenciales para el usuario, ya que comparten características y atributos similares a los artículos con los que el usuario ha interactuado previamente. "
   ]
  },
  {
   "cell_type": "code",
   "execution_count": 90,
   "metadata": {},
   "outputs": [],
   "source": [
    "def recommend_cont_items(user_id, items_to_ignore=[], verbose=False):\n",
    "    similar_items = get_similar_items_to_user_profile(user_id)\n",
    "    #Ignores items the user has already interacted\n",
    "    similar_items_filtered = list(filter(lambda x: x[0] not in items_to_ignore, similar_items))        \n",
    "    recommendations_df = pd.DataFrame(similar_items_filtered, columns=['contentId', 'recStrength'])\n",
    "\n",
    "    if verbose:\n",
    "            recommendations_df = recommendations_df.merge(adf, how = 'left', on = 'contentId')[['recStrength', 'contentId', 'title', 'url', 'lang']]\n",
    "            \n",
    "    return recommendations_df"
   ]
  },
  {
   "cell_type": "markdown",
   "metadata": {},
   "source": [
    "Hemos desarrollado una función específica para evaluar el modelo basado en contenido. Esta función se encarga de calcular métricas de evaluación, como el recall, para el modelo basado en contenido. Utilizando las herramientas proporcionadas por el modelo, la función evalúa la capacidad del modelo para generar recomendaciones precisas y relevantes para los usuarios. "
   ]
  },
  {
   "cell_type": "code",
   "execution_count": 91,
   "metadata": {},
   "outputs": [],
   "source": [
    "def evaluate_cont_model_for_user(person_id):\n",
    "    interacted_values_testset = val_df.loc[person_id]\n",
    "    if type(interacted_values_testset['contentId']) == pd.Series:\n",
    "        person_interacted_items_testset = set(interacted_values_testset['contentId'])\n",
    "    else:\n",
    "        person_interacted_items_testset = set([int(interacted_values_testset['contentId'])])  \n",
    "    \n",
    "    interacted_items_count_testset = len(person_interacted_items_testset) \n",
    "\n",
    "    person_recs_df = recommend_cont_items(person_id, items_to_ignore=get_items_interacted(person_id, train_df))\n",
    "\n",
    "    hits_at_5_count = 0\n",
    "    hits_at_10_count = 0\n",
    "    for item_id in person_interacted_items_testset:\n",
    "        non_interacted_items_sample = get_not_interacted_items_sample(person_id, sample_size=100, seed=RANDOMSEED)\n",
    "\n",
    "        items_to_filter_recs = non_interacted_items_sample.union(set([item_id]))\n",
    "\n",
    "        valid_recs_df = person_recs_df[person_recs_df['contentId'].isin(items_to_filter_recs)]                    \n",
    "        valid_recs = valid_recs_df['contentId'].values\n",
    "        hit_at_5, index_at_5 = verify_hit_top_n(item_id, valid_recs, 5)\n",
    "        hits_at_5_count += hit_at_5\n",
    "        hit_at_10, index_at_10 = verify_hit_top_n(item_id, valid_recs, 10)\n",
    "        hits_at_10_count += hit_at_10\n",
    "\n",
    "    recall_at_5 = hits_at_5_count / float(interacted_items_count_testset)\n",
    "    recall_at_10 = hits_at_10_count / float(interacted_items_count_testset)\n",
    "\n",
    "    person_metrics = {'hits@5_count':hits_at_5_count, \n",
    "                        'hits@10_count':hits_at_10_count, \n",
    "                        'interacted_count': interacted_items_count_testset,\n",
    "                        'recall@5': recall_at_5,\n",
    "                        'recall@10': recall_at_10}\n",
    "    return person_metrics"
   ]
  },
  {
   "cell_type": "code",
   "execution_count": 92,
   "metadata": {},
   "outputs": [
    {
     "name": "stdout",
     "output_type": "stream",
     "text": [
      "Métricas de evaluación del modelo de contenido incluyen el recall para los top 5 y top 10 recomendaciones {'modelName': 'Content', 'recall@5': 0.09703400664791613, 'recall@10': 0.16977755049859372}\n"
     ]
    },
    {
     "data": {
      "text/html": [
       "<div>\n",
       "<style scoped>\n",
       "    .dataframe tbody tr th:only-of-type {\n",
       "        vertical-align: middle;\n",
       "    }\n",
       "\n",
       "    .dataframe tbody tr th {\n",
       "        vertical-align: top;\n",
       "    }\n",
       "\n",
       "    .dataframe thead th {\n",
       "        text-align: right;\n",
       "    }\n",
       "</style>\n",
       "<table border=\"1\" class=\"dataframe\">\n",
       "  <thead>\n",
       "    <tr style=\"text-align: right;\">\n",
       "      <th></th>\n",
       "      <th>hits@5_count</th>\n",
       "      <th>hits@10_count</th>\n",
       "      <th>interacted_count</th>\n",
       "      <th>recall@5</th>\n",
       "      <th>recall@10</th>\n",
       "      <th>_person_id</th>\n",
       "    </tr>\n",
       "  </thead>\n",
       "  <tbody>\n",
       "    <tr>\n",
       "      <th>11</th>\n",
       "      <td>9</td>\n",
       "      <td>17</td>\n",
       "      <td>192</td>\n",
       "      <td>0.046875</td>\n",
       "      <td>0.088542</td>\n",
       "      <td>3609194402293569455</td>\n",
       "    </tr>\n",
       "    <tr>\n",
       "      <th>18</th>\n",
       "      <td>9</td>\n",
       "      <td>17</td>\n",
       "      <td>134</td>\n",
       "      <td>0.067164</td>\n",
       "      <td>0.126866</td>\n",
       "      <td>-2626634673110551643</td>\n",
       "    </tr>\n",
       "    <tr>\n",
       "      <th>95</th>\n",
       "      <td>7</td>\n",
       "      <td>21</td>\n",
       "      <td>130</td>\n",
       "      <td>0.053846</td>\n",
       "      <td>0.161538</td>\n",
       "      <td>-1032019229384696495</td>\n",
       "    </tr>\n",
       "    <tr>\n",
       "      <th>112</th>\n",
       "      <td>36</td>\n",
       "      <td>47</td>\n",
       "      <td>117</td>\n",
       "      <td>0.307692</td>\n",
       "      <td>0.401709</td>\n",
       "      <td>-1443636648652872475</td>\n",
       "    </tr>\n",
       "    <tr>\n",
       "      <th>22</th>\n",
       "      <td>1</td>\n",
       "      <td>2</td>\n",
       "      <td>88</td>\n",
       "      <td>0.011364</td>\n",
       "      <td>0.022727</td>\n",
       "      <td>-2979881261169775358</td>\n",
       "    </tr>\n",
       "  </tbody>\n",
       "</table>\n",
       "</div>"
      ],
      "text/plain": [
       "     hits@5_count  hits@10_count  interacted_count  recall@5  recall@10  \\\n",
       "11              9             17               192  0.046875   0.088542   \n",
       "18              9             17               134  0.067164   0.126866   \n",
       "95              7             21               130  0.053846   0.161538   \n",
       "112            36             47               117  0.307692   0.401709   \n",
       "22              1              2                88  0.011364   0.022727   \n",
       "\n",
       "              _person_id  \n",
       "11   3609194402293569455  \n",
       "18  -2626634673110551643  \n",
       "95  -1032019229384696495  \n",
       "112 -1443636648652872475  \n",
       "22  -2979881261169775358  "
      ]
     },
     "execution_count": 92,
     "metadata": {},
     "output_type": "execute_result"
    }
   ],
   "source": [
    "\n",
    "\n",
    "people_metrics = []\n",
    "for idx, person_id in enumerate(list(val_df.index.unique().values)):\n",
    "    person_metrics = evaluate_cont_model_for_user(person_id)  \n",
    "    person_metrics['_person_id'] = person_id\n",
    "    people_metrics.append(person_metrics)\n",
    "\n",
    "content_df = pd.DataFrame(people_metrics) \\\n",
    "                    .sort_values('interacted_count', ascending=False)\n",
    "\n",
    "content_recall_at_5 = content_df['hits@5_count'].sum() / float(content_df['interacted_count'].sum())\n",
    "content_recall_at_10 = content_df['hits@10_count'].sum() / float(content_df['interacted_count'].sum())\n",
    "\n",
    "content_metrics = {'modelName': 'Content',\n",
    "                    'recall@5': content_recall_at_5,\n",
    "                    'recall@10': content_recall_at_10}    \n",
    "\n",
    "print('Métricas de evaluación del modelo de contenido incluyen el recall para los top 5 y top 10 recomendaciones %s' % content_metrics)\n",
    "content_df.head()"
   ]
  },
  {
   "cell_type": "markdown",
   "metadata": {},
   "source": [
    "Calculamos el recall para las mejores 5 y 10 recomendaciones generadas por el modelo de contenido. Para el recall@5, el valor obtenido es aproximadamente 0.097, lo que indica que alrededor del 9.7% de los elementos relevantes fueron recomendados en los primeros 5 elementos de la lista de recomendaciones. Para el recall@10, el valor obtenido es aproximadamente 0.169, lo que significa que alrededor del 16.9% de los elementos relevantes fueron recomendados en los primeros 10 elementos de la lista de recomendaciones. Estas métricas continúan mostrando niveles bajos, lo que sugiere que el sistema de recomendación basado en contenido aún no está agregando suficiente valor para los usuarios.\n",
    "\n",
    "<h2>Colaborativo</h2>\n",
    "\n",
    "Un sistema de recomendación basado en filtrado colaborativo es un enfoque que utiliza las interacciones de los usuarios con los elementos para realizar recomendaciones. La idea fundamental es encontrar similitudes entre usuarios o entre elementos para predecir la preferencia de un usuario por un elemento no interactuado previamente. Esto se logra mediante el análisis de patrones de comportamiento de usuarios similares o la comparación de características de elementos similares.\n",
    "\n",
    "El filtrado colaborativo es efectivo para capturar gustos y preferencias individuales, así como para recomendar elementos nuevos y relevantes en función de patrones de comportamiento colectivo. Sin embargo, puede enfrentar desafíos en escenarios con datos escasos o dispersos y puede sufrir de problemas como el arranque en frío del usuario y el arranque en frío del ítem.\n",
    "\n",
    "En nuestra implementación utilizamos los modelos de factores latentes para comprimir una matriz usuario-elemento en una representación de baja dimensionalidad en términos de factores latentes. Una ventaja de este enfoque es que, en lugar de tener una matriz de alta dimensionalidad con una gran cantidad de valores faltantes, estaremos trabajando con una matriz mucho más pequeña en un espacio de baja dimensionalidad. Esta presentación reducida puede ser utilizada tanto para algoritmos de vecindario basados en usuarios como en elementos. Hay varias ventajas con este paradigma. Maneja mejor la dispersión de la matriz original que los métodos basados en memoria. Además, comparar la similitud en la matriz resultante es mucho más escalable, especialmente al tratar con conjuntos de datos grandes y dispersos.\n",
    "\n",
    "Aquí utilizamos un modelo de factor latente popular llamado Descomposición en Valores Singulares (SVD). Una decisión importante es el número de factores para factorizar la matriz usuario-elemento. Cuantos más factores, más precisa es la factorización en las reconstrucciones originales de la matriz. Por lo tanto, si el modelo puede memorizar demasiados detalles de la matriz original, es posible que no generalice bien para datos en los que no fue entrenado. Reducir el número de factores aumenta la generalización del modelo.\n",
    "\n",
    "En los siguientes pasos, podemos observar la construcción de la matriz."
   ]
  },
  {
   "cell_type": "code",
   "execution_count": 93,
   "metadata": {},
   "outputs": [
    {
     "data": {
      "text/html": [
       "<div>\n",
       "<style scoped>\n",
       "    .dataframe tbody tr th:only-of-type {\n",
       "        vertical-align: middle;\n",
       "    }\n",
       "\n",
       "    .dataframe tbody tr th {\n",
       "        vertical-align: top;\n",
       "    }\n",
       "\n",
       "    .dataframe thead th {\n",
       "        text-align: right;\n",
       "    }\n",
       "</style>\n",
       "<table border=\"1\" class=\"dataframe\">\n",
       "  <thead>\n",
       "    <tr style=\"text-align: right;\">\n",
       "      <th>contentId</th>\n",
       "      <th>-9222795471790223670</th>\n",
       "      <th>-9216926795620865886</th>\n",
       "      <th>-9194572880052200111</th>\n",
       "      <th>-9192549002213406534</th>\n",
       "      <th>-9190737901804729417</th>\n",
       "      <th>-9189659052158407108</th>\n",
       "      <th>-9176143510534135851</th>\n",
       "      <th>-9172673334835262304</th>\n",
       "      <th>-9171475473795142532</th>\n",
       "      <th>-9166778629773133902</th>\n",
       "      <th>...</th>\n",
       "      <th>9191014301634017491</th>\n",
       "      <th>9207286802575546269</th>\n",
       "      <th>9208127165664287660</th>\n",
       "      <th>9209629151177723638</th>\n",
       "      <th>9209886322932807692</th>\n",
       "      <th>9213260650272029784</th>\n",
       "      <th>9215261273565326920</th>\n",
       "      <th>9217155070834564627</th>\n",
       "      <th>9220445660318725468</th>\n",
       "      <th>9222265156747237864</th>\n",
       "    </tr>\n",
       "    <tr>\n",
       "      <th>personId</th>\n",
       "      <th></th>\n",
       "      <th></th>\n",
       "      <th></th>\n",
       "      <th></th>\n",
       "      <th></th>\n",
       "      <th></th>\n",
       "      <th></th>\n",
       "      <th></th>\n",
       "      <th></th>\n",
       "      <th></th>\n",
       "      <th></th>\n",
       "      <th></th>\n",
       "      <th></th>\n",
       "      <th></th>\n",
       "      <th></th>\n",
       "      <th></th>\n",
       "      <th></th>\n",
       "      <th></th>\n",
       "      <th></th>\n",
       "      <th></th>\n",
       "      <th></th>\n",
       "    </tr>\n",
       "  </thead>\n",
       "  <tbody>\n",
       "    <tr>\n",
       "      <th>-9223121837663643404</th>\n",
       "      <td>0.0</td>\n",
       "      <td>0.0</td>\n",
       "      <td>0.0</td>\n",
       "      <td>0.0</td>\n",
       "      <td>0.0</td>\n",
       "      <td>0.0</td>\n",
       "      <td>0.0</td>\n",
       "      <td>0.0</td>\n",
       "      <td>0.0</td>\n",
       "      <td>0.0</td>\n",
       "      <td>...</td>\n",
       "      <td>0.0</td>\n",
       "      <td>0.0</td>\n",
       "      <td>0.0</td>\n",
       "      <td>0.0</td>\n",
       "      <td>0.0</td>\n",
       "      <td>0.0</td>\n",
       "      <td>0.0</td>\n",
       "      <td>0.0</td>\n",
       "      <td>0.0</td>\n",
       "      <td>0.0</td>\n",
       "    </tr>\n",
       "    <tr>\n",
       "      <th>-9212075797126931087</th>\n",
       "      <td>0.0</td>\n",
       "      <td>0.0</td>\n",
       "      <td>0.0</td>\n",
       "      <td>0.0</td>\n",
       "      <td>0.0</td>\n",
       "      <td>0.0</td>\n",
       "      <td>0.0</td>\n",
       "      <td>0.0</td>\n",
       "      <td>0.0</td>\n",
       "      <td>0.0</td>\n",
       "      <td>...</td>\n",
       "      <td>0.0</td>\n",
       "      <td>0.0</td>\n",
       "      <td>0.0</td>\n",
       "      <td>0.0</td>\n",
       "      <td>0.0</td>\n",
       "      <td>0.0</td>\n",
       "      <td>0.0</td>\n",
       "      <td>0.0</td>\n",
       "      <td>0.0</td>\n",
       "      <td>0.0</td>\n",
       "    </tr>\n",
       "    <tr>\n",
       "      <th>-9207251133131336884</th>\n",
       "      <td>0.0</td>\n",
       "      <td>2.0</td>\n",
       "      <td>0.0</td>\n",
       "      <td>0.0</td>\n",
       "      <td>0.0</td>\n",
       "      <td>0.0</td>\n",
       "      <td>0.0</td>\n",
       "      <td>0.0</td>\n",
       "      <td>0.0</td>\n",
       "      <td>0.0</td>\n",
       "      <td>...</td>\n",
       "      <td>0.0</td>\n",
       "      <td>0.0</td>\n",
       "      <td>0.0</td>\n",
       "      <td>0.0</td>\n",
       "      <td>0.0</td>\n",
       "      <td>0.0</td>\n",
       "      <td>0.0</td>\n",
       "      <td>0.0</td>\n",
       "      <td>0.0</td>\n",
       "      <td>0.0</td>\n",
       "    </tr>\n",
       "    <tr>\n",
       "      <th>-9199575329909162940</th>\n",
       "      <td>0.0</td>\n",
       "      <td>0.0</td>\n",
       "      <td>0.0</td>\n",
       "      <td>0.0</td>\n",
       "      <td>0.0</td>\n",
       "      <td>0.0</td>\n",
       "      <td>0.0</td>\n",
       "      <td>0.0</td>\n",
       "      <td>0.0</td>\n",
       "      <td>0.0</td>\n",
       "      <td>...</td>\n",
       "      <td>0.0</td>\n",
       "      <td>0.0</td>\n",
       "      <td>0.0</td>\n",
       "      <td>0.0</td>\n",
       "      <td>0.0</td>\n",
       "      <td>0.0</td>\n",
       "      <td>0.0</td>\n",
       "      <td>0.0</td>\n",
       "      <td>0.0</td>\n",
       "      <td>0.0</td>\n",
       "    </tr>\n",
       "    <tr>\n",
       "      <th>-9196668942822132778</th>\n",
       "      <td>0.0</td>\n",
       "      <td>0.0</td>\n",
       "      <td>0.0</td>\n",
       "      <td>0.0</td>\n",
       "      <td>0.0</td>\n",
       "      <td>0.0</td>\n",
       "      <td>0.0</td>\n",
       "      <td>0.0</td>\n",
       "      <td>0.0</td>\n",
       "      <td>0.0</td>\n",
       "      <td>...</td>\n",
       "      <td>0.0</td>\n",
       "      <td>0.0</td>\n",
       "      <td>0.0</td>\n",
       "      <td>0.0</td>\n",
       "      <td>0.0</td>\n",
       "      <td>0.0</td>\n",
       "      <td>0.0</td>\n",
       "      <td>0.0</td>\n",
       "      <td>0.0</td>\n",
       "      <td>0.0</td>\n",
       "    </tr>\n",
       "  </tbody>\n",
       "</table>\n",
       "<p>5 rows × 2933 columns</p>\n",
       "</div>"
      ],
      "text/plain": [
       "contentId             -9222795471790223670  -9216926795620865886  \\\n",
       "personId                                                           \n",
       "-9223121837663643404                   0.0                   0.0   \n",
       "-9212075797126931087                   0.0                   0.0   \n",
       "-9207251133131336884                   0.0                   2.0   \n",
       "-9199575329909162940                   0.0                   0.0   \n",
       "-9196668942822132778                   0.0                   0.0   \n",
       "\n",
       "contentId             -9194572880052200111  -9192549002213406534  \\\n",
       "personId                                                           \n",
       "-9223121837663643404                   0.0                   0.0   \n",
       "-9212075797126931087                   0.0                   0.0   \n",
       "-9207251133131336884                   0.0                   0.0   \n",
       "-9199575329909162940                   0.0                   0.0   \n",
       "-9196668942822132778                   0.0                   0.0   \n",
       "\n",
       "contentId             -9190737901804729417  -9189659052158407108  \\\n",
       "personId                                                           \n",
       "-9223121837663643404                   0.0                   0.0   \n",
       "-9212075797126931087                   0.0                   0.0   \n",
       "-9207251133131336884                   0.0                   0.0   \n",
       "-9199575329909162940                   0.0                   0.0   \n",
       "-9196668942822132778                   0.0                   0.0   \n",
       "\n",
       "contentId             -9176143510534135851  -9172673334835262304  \\\n",
       "personId                                                           \n",
       "-9223121837663643404                   0.0                   0.0   \n",
       "-9212075797126931087                   0.0                   0.0   \n",
       "-9207251133131336884                   0.0                   0.0   \n",
       "-9199575329909162940                   0.0                   0.0   \n",
       "-9196668942822132778                   0.0                   0.0   \n",
       "\n",
       "contentId             -9171475473795142532  -9166778629773133902  ...  \\\n",
       "personId                                                          ...   \n",
       "-9223121837663643404                   0.0                   0.0  ...   \n",
       "-9212075797126931087                   0.0                   0.0  ...   \n",
       "-9207251133131336884                   0.0                   0.0  ...   \n",
       "-9199575329909162940                   0.0                   0.0  ...   \n",
       "-9196668942822132778                   0.0                   0.0  ...   \n",
       "\n",
       "contentId              9191014301634017491   9207286802575546269  \\\n",
       "personId                                                           \n",
       "-9223121837663643404                   0.0                   0.0   \n",
       "-9212075797126931087                   0.0                   0.0   \n",
       "-9207251133131336884                   0.0                   0.0   \n",
       "-9199575329909162940                   0.0                   0.0   \n",
       "-9196668942822132778                   0.0                   0.0   \n",
       "\n",
       "contentId              9208127165664287660   9209629151177723638  \\\n",
       "personId                                                           \n",
       "-9223121837663643404                   0.0                   0.0   \n",
       "-9212075797126931087                   0.0                   0.0   \n",
       "-9207251133131336884                   0.0                   0.0   \n",
       "-9199575329909162940                   0.0                   0.0   \n",
       "-9196668942822132778                   0.0                   0.0   \n",
       "\n",
       "contentId              9209886322932807692   9213260650272029784  \\\n",
       "personId                                                           \n",
       "-9223121837663643404                   0.0                   0.0   \n",
       "-9212075797126931087                   0.0                   0.0   \n",
       "-9207251133131336884                   0.0                   0.0   \n",
       "-9199575329909162940                   0.0                   0.0   \n",
       "-9196668942822132778                   0.0                   0.0   \n",
       "\n",
       "contentId              9215261273565326920   9217155070834564627  \\\n",
       "personId                                                           \n",
       "-9223121837663643404                   0.0                   0.0   \n",
       "-9212075797126931087                   0.0                   0.0   \n",
       "-9207251133131336884                   0.0                   0.0   \n",
       "-9199575329909162940                   0.0                   0.0   \n",
       "-9196668942822132778                   0.0                   0.0   \n",
       "\n",
       "contentId              9220445660318725468   9222265156747237864  \n",
       "personId                                                          \n",
       "-9223121837663643404                   0.0                   0.0  \n",
       "-9212075797126931087                   0.0                   0.0  \n",
       "-9207251133131336884                   0.0                   0.0  \n",
       "-9199575329909162940                   0.0                   0.0  \n",
       "-9196668942822132778                   0.0                   0.0  \n",
       "\n",
       "[5 rows x 2933 columns]"
      ]
     },
     "execution_count": 93,
     "metadata": {},
     "output_type": "execute_result"
    }
   ],
   "source": [
    "users_items_pivot_matrix_df = train_df.pivot(columns='contentId', values='eventStrength').fillna(0)\n",
    "users_items_pivot_matrix_df.head()"
   ]
  },
  {
   "cell_type": "code",
   "execution_count": 94,
   "metadata": {},
   "outputs": [
    {
     "data": {
      "text/plain": [
       "array([[0., 0., 0., ..., 0., 0., 0.],\n",
       "       [0., 0., 0., ..., 0., 0., 0.],\n",
       "       [0., 2., 0., ..., 0., 0., 0.],\n",
       "       ...,\n",
       "       [0., 0., 0., ..., 0., 0., 0.],\n",
       "       [0., 0., 0., ..., 0., 0., 0.],\n",
       "       [0., 0., 0., ..., 0., 0., 0.]])"
      ]
     },
     "execution_count": 94,
     "metadata": {},
     "output_type": "execute_result"
    }
   ],
   "source": [
    "users_items_pivot_matrix = users_items_pivot_matrix_df.values\n",
    "users_items_pivot_matrix[:10]"
   ]
  },
  {
   "cell_type": "code",
   "execution_count": 95,
   "metadata": {},
   "outputs": [
    {
     "data": {
      "text/plain": [
       "[-9223121837663643404,\n",
       " -9212075797126931087,\n",
       " -9207251133131336884,\n",
       " -9199575329909162940,\n",
       " -9196668942822132778,\n",
       " -9188188261933657343,\n",
       " -9172914609055320039,\n",
       " -9156344805277471150,\n",
       " -9120685872592674274,\n",
       " -9109785559521267180]"
      ]
     },
     "execution_count": 95,
     "metadata": {},
     "output_type": "execute_result"
    }
   ],
   "source": [
    "users_ids = list(users_items_pivot_matrix_df.index)\n",
    "users_ids[:10]"
   ]
  },
  {
   "cell_type": "code",
   "execution_count": 96,
   "metadata": {},
   "outputs": [
    {
     "data": {
      "text/plain": [
       "<1140x2933 sparse matrix of type '<class 'numpy.float64'>'\n",
       "\twith 31284 stored elements in Compressed Sparse Row format>"
      ]
     },
     "execution_count": 96,
     "metadata": {},
     "output_type": "execute_result"
    }
   ],
   "source": [
    "users_items_pivot_sparse_matrix = csr_matrix(users_items_pivot_matrix)\n",
    "users_items_pivot_sparse_matrix"
   ]
  },
  {
   "cell_type": "markdown",
   "metadata": {},
   "source": [
    "Con la matriz usuario-elemento.  ya creada, podemos definir el número de factores en 15 para entrenar el modelo SVD. "
   ]
  },
  {
   "cell_type": "code",
   "execution_count": 97,
   "metadata": {},
   "outputs": [
    {
     "data": {
      "text/plain": [
       "(1140, 15)"
      ]
     },
     "metadata": {},
     "output_type": "display_data"
    },
    {
     "data": {
      "text/plain": [
       "(15, 15)"
      ]
     },
     "metadata": {},
     "output_type": "display_data"
    },
    {
     "data": {
      "text/plain": [
       "(15, 2933)"
      ]
     },
     "metadata": {},
     "output_type": "display_data"
    }
   ],
   "source": [
    "\n",
    "NUMBER_OF_FACTORS_MF = 15\n",
    "\n",
    "U, sigma, Vt = svds(users_items_pivot_sparse_matrix, k = NUMBER_OF_FACTORS_MF)\n",
    "sigma = np.diag(sigma)\n",
    "\n",
    "display(U.shape)\n",
    "display(sigma.shape)\n",
    "display(Vt.shape)"
   ]
  },
  {
   "cell_type": "markdown",
   "metadata": {},
   "source": [
    "Después de la factorización, intentamos reconstruir la matriz original multiplicando sus factores. La matriz resultante ya no es dispersa. Se generaron predicciones para los elementos con los que el usuario aún no ha interactuado, lo que aprovecharemos para hacer recomendaciones."
   ]
  },
  {
   "cell_type": "code",
   "execution_count": 98,
   "metadata": {},
   "outputs": [
    {
     "data": {
      "text/plain": [
       "array([[ 2.94667020e-02,  4.93885526e-03,  1.28018121e-03, ...,\n",
       "        -9.09729040e-03,  5.99877754e-03,  1.40575945e-02],\n",
       "       [-4.44632455e-03, -2.18388164e-05,  9.59987173e-04, ...,\n",
       "        -1.41047651e-03,  3.20689876e-03, -2.00091676e-03],\n",
       "       [ 4.90513076e-04,  4.03790972e-03, -9.40657964e-03, ...,\n",
       "        -1.01333661e-02, -6.93933329e-03,  8.44187360e-03],\n",
       "       ...,\n",
       "       [-4.60828857e-03,  4.77904709e-03, -1.90762688e-02, ...,\n",
       "        -1.53475351e-02,  1.10353188e-02,  8.00425652e-03],\n",
       "       [ 3.28790777e-03,  6.72707320e-03,  3.04986211e-02, ...,\n",
       "         4.37526695e-03,  1.59733025e-02, -8.99730900e-03],\n",
       "       [-1.15786832e-02,  3.72401824e-03,  1.35237401e-01, ...,\n",
       "        -2.41099795e-02,  7.05812331e-02,  2.19330186e-02]])"
      ]
     },
     "execution_count": 98,
     "metadata": {},
     "output_type": "execute_result"
    }
   ],
   "source": [
    "all_user_predicted_ratings = np.dot(np.dot(U, sigma), Vt) \n",
    "all_user_predicted_ratings_norm = (all_user_predicted_ratings - all_user_predicted_ratings.min()) / (all_user_predicted_ratings.max() - all_user_predicted_ratings.min())\n",
    "\n",
    "all_user_predicted_ratings"
   ]
  },
  {
   "cell_type": "markdown",
   "metadata": {},
   "source": [
    "Luego, llevamos la matriz a un dataframe para continuar con su procesamiento."
   ]
  },
  {
   "cell_type": "code",
   "execution_count": 99,
   "metadata": {},
   "outputs": [
    {
     "data": {
      "text/html": [
       "<div>\n",
       "<style scoped>\n",
       "    .dataframe tbody tr th:only-of-type {\n",
       "        vertical-align: middle;\n",
       "    }\n",
       "\n",
       "    .dataframe tbody tr th {\n",
       "        vertical-align: top;\n",
       "    }\n",
       "\n",
       "    .dataframe thead th {\n",
       "        text-align: right;\n",
       "    }\n",
       "</style>\n",
       "<table border=\"1\" class=\"dataframe\">\n",
       "  <thead>\n",
       "    <tr style=\"text-align: right;\">\n",
       "      <th></th>\n",
       "      <th>-9223121837663643404</th>\n",
       "      <th>-9212075797126931087</th>\n",
       "      <th>-9207251133131336884</th>\n",
       "      <th>-9199575329909162940</th>\n",
       "      <th>-9196668942822132778</th>\n",
       "      <th>-9188188261933657343</th>\n",
       "      <th>-9172914609055320039</th>\n",
       "      <th>-9156344805277471150</th>\n",
       "      <th>-9120685872592674274</th>\n",
       "      <th>-9109785559521267180</th>\n",
       "      <th>...</th>\n",
       "      <th>9105269044962898535</th>\n",
       "      <th>9109075639526981934</th>\n",
       "      <th>9135582630122950040</th>\n",
       "      <th>9137372837662939523</th>\n",
       "      <th>9148269800512008413</th>\n",
       "      <th>9165571805999894845</th>\n",
       "      <th>9187866633451383747</th>\n",
       "      <th>9191849144618614467</th>\n",
       "      <th>9199170757466086545</th>\n",
       "      <th>9210530975708218054</th>\n",
       "    </tr>\n",
       "    <tr>\n",
       "      <th>contentId</th>\n",
       "      <th></th>\n",
       "      <th></th>\n",
       "      <th></th>\n",
       "      <th></th>\n",
       "      <th></th>\n",
       "      <th></th>\n",
       "      <th></th>\n",
       "      <th></th>\n",
       "      <th></th>\n",
       "      <th></th>\n",
       "      <th></th>\n",
       "      <th></th>\n",
       "      <th></th>\n",
       "      <th></th>\n",
       "      <th></th>\n",
       "      <th></th>\n",
       "      <th></th>\n",
       "      <th></th>\n",
       "      <th></th>\n",
       "      <th></th>\n",
       "      <th></th>\n",
       "    </tr>\n",
       "  </thead>\n",
       "  <tbody>\n",
       "    <tr>\n",
       "      <th>-9222795471790223670</th>\n",
       "      <td>0.150212</td>\n",
       "      <td>0.146560</td>\n",
       "      <td>0.147092</td>\n",
       "      <td>0.148337</td>\n",
       "      <td>0.146601</td>\n",
       "      <td>0.146878</td>\n",
       "      <td>0.149151</td>\n",
       "      <td>0.152615</td>\n",
       "      <td>0.146305</td>\n",
       "      <td>0.149143</td>\n",
       "      <td>...</td>\n",
       "      <td>0.147453</td>\n",
       "      <td>0.146457</td>\n",
       "      <td>0.146902</td>\n",
       "      <td>0.147245</td>\n",
       "      <td>0.140211</td>\n",
       "      <td>0.146613</td>\n",
       "      <td>0.145355</td>\n",
       "      <td>0.146543</td>\n",
       "      <td>0.147393</td>\n",
       "      <td>0.145792</td>\n",
       "    </tr>\n",
       "    <tr>\n",
       "      <th>-9216926795620865886</th>\n",
       "      <td>0.147571</td>\n",
       "      <td>0.147036</td>\n",
       "      <td>0.147474</td>\n",
       "      <td>0.146918</td>\n",
       "      <td>0.147145</td>\n",
       "      <td>0.147098</td>\n",
       "      <td>0.147006</td>\n",
       "      <td>0.147136</td>\n",
       "      <td>0.146675</td>\n",
       "      <td>0.147360</td>\n",
       "      <td>...</td>\n",
       "      <td>0.147466</td>\n",
       "      <td>0.148529</td>\n",
       "      <td>0.147079</td>\n",
       "      <td>0.147081</td>\n",
       "      <td>0.149282</td>\n",
       "      <td>0.147250</td>\n",
       "      <td>0.147412</td>\n",
       "      <td>0.147553</td>\n",
       "      <td>0.147763</td>\n",
       "      <td>0.147440</td>\n",
       "    </tr>\n",
       "    <tr>\n",
       "      <th>-9194572880052200111</th>\n",
       "      <td>0.147177</td>\n",
       "      <td>0.147142</td>\n",
       "      <td>0.146026</td>\n",
       "      <td>0.146708</td>\n",
       "      <td>0.149429</td>\n",
       "      <td>0.146783</td>\n",
       "      <td>0.148570</td>\n",
       "      <td>0.146120</td>\n",
       "      <td>0.147407</td>\n",
       "      <td>0.147783</td>\n",
       "      <td>...</td>\n",
       "      <td>0.148641</td>\n",
       "      <td>0.157407</td>\n",
       "      <td>0.148216</td>\n",
       "      <td>0.149137</td>\n",
       "      <td>0.164455</td>\n",
       "      <td>0.149320</td>\n",
       "      <td>0.149914</td>\n",
       "      <td>0.144985</td>\n",
       "      <td>0.150323</td>\n",
       "      <td>0.161600</td>\n",
       "    </tr>\n",
       "    <tr>\n",
       "      <th>-9192549002213406534</th>\n",
       "      <td>0.150169</td>\n",
       "      <td>0.146726</td>\n",
       "      <td>0.143489</td>\n",
       "      <td>0.145918</td>\n",
       "      <td>0.149082</td>\n",
       "      <td>0.147483</td>\n",
       "      <td>0.149271</td>\n",
       "      <td>0.153545</td>\n",
       "      <td>0.152539</td>\n",
       "      <td>0.145243</td>\n",
       "      <td>...</td>\n",
       "      <td>0.147883</td>\n",
       "      <td>0.164908</td>\n",
       "      <td>0.147310</td>\n",
       "      <td>0.146395</td>\n",
       "      <td>0.154094</td>\n",
       "      <td>0.149431</td>\n",
       "      <td>0.147372</td>\n",
       "      <td>0.144608</td>\n",
       "      <td>0.149699</td>\n",
       "      <td>0.163114</td>\n",
       "    </tr>\n",
       "    <tr>\n",
       "      <th>-9190737901804729417</th>\n",
       "      <td>0.148437</td>\n",
       "      <td>0.146959</td>\n",
       "      <td>0.148570</td>\n",
       "      <td>0.146945</td>\n",
       "      <td>0.146948</td>\n",
       "      <td>0.147318</td>\n",
       "      <td>0.146940</td>\n",
       "      <td>0.147133</td>\n",
       "      <td>0.145162</td>\n",
       "      <td>0.148536</td>\n",
       "      <td>...</td>\n",
       "      <td>0.148110</td>\n",
       "      <td>0.149376</td>\n",
       "      <td>0.147177</td>\n",
       "      <td>0.147030</td>\n",
       "      <td>0.145854</td>\n",
       "      <td>0.147096</td>\n",
       "      <td>0.147297</td>\n",
       "      <td>0.148634</td>\n",
       "      <td>0.148909</td>\n",
       "      <td>0.146765</td>\n",
       "    </tr>\n",
       "  </tbody>\n",
       "</table>\n",
       "<p>5 rows × 1140 columns</p>\n",
       "</div>"
      ],
      "text/plain": [
       "                      -9223121837663643404  -9212075797126931087  \\\n",
       "contentId                                                          \n",
       "-9222795471790223670              0.150212              0.146560   \n",
       "-9216926795620865886              0.147571              0.147036   \n",
       "-9194572880052200111              0.147177              0.147142   \n",
       "-9192549002213406534              0.150169              0.146726   \n",
       "-9190737901804729417              0.148437              0.146959   \n",
       "\n",
       "                      -9207251133131336884  -9199575329909162940  \\\n",
       "contentId                                                          \n",
       "-9222795471790223670              0.147092              0.148337   \n",
       "-9216926795620865886              0.147474              0.146918   \n",
       "-9194572880052200111              0.146026              0.146708   \n",
       "-9192549002213406534              0.143489              0.145918   \n",
       "-9190737901804729417              0.148570              0.146945   \n",
       "\n",
       "                      -9196668942822132778  -9188188261933657343  \\\n",
       "contentId                                                          \n",
       "-9222795471790223670              0.146601              0.146878   \n",
       "-9216926795620865886              0.147145              0.147098   \n",
       "-9194572880052200111              0.149429              0.146783   \n",
       "-9192549002213406534              0.149082              0.147483   \n",
       "-9190737901804729417              0.146948              0.147318   \n",
       "\n",
       "                      -9172914609055320039  -9156344805277471150  \\\n",
       "contentId                                                          \n",
       "-9222795471790223670              0.149151              0.152615   \n",
       "-9216926795620865886              0.147006              0.147136   \n",
       "-9194572880052200111              0.148570              0.146120   \n",
       "-9192549002213406534              0.149271              0.153545   \n",
       "-9190737901804729417              0.146940              0.147133   \n",
       "\n",
       "                      -9120685872592674274  -9109785559521267180  ...  \\\n",
       "contentId                                                         ...   \n",
       "-9222795471790223670              0.146305              0.149143  ...   \n",
       "-9216926795620865886              0.146675              0.147360  ...   \n",
       "-9194572880052200111              0.147407              0.147783  ...   \n",
       "-9192549002213406534              0.152539              0.145243  ...   \n",
       "-9190737901804729417              0.145162              0.148536  ...   \n",
       "\n",
       "                       9105269044962898535   9109075639526981934  \\\n",
       "contentId                                                          \n",
       "-9222795471790223670              0.147453              0.146457   \n",
       "-9216926795620865886              0.147466              0.148529   \n",
       "-9194572880052200111              0.148641              0.157407   \n",
       "-9192549002213406534              0.147883              0.164908   \n",
       "-9190737901804729417              0.148110              0.149376   \n",
       "\n",
       "                       9135582630122950040   9137372837662939523  \\\n",
       "contentId                                                          \n",
       "-9222795471790223670              0.146902              0.147245   \n",
       "-9216926795620865886              0.147079              0.147081   \n",
       "-9194572880052200111              0.148216              0.149137   \n",
       "-9192549002213406534              0.147310              0.146395   \n",
       "-9190737901804729417              0.147177              0.147030   \n",
       "\n",
       "                       9148269800512008413   9165571805999894845  \\\n",
       "contentId                                                          \n",
       "-9222795471790223670              0.140211              0.146613   \n",
       "-9216926795620865886              0.149282              0.147250   \n",
       "-9194572880052200111              0.164455              0.149320   \n",
       "-9192549002213406534              0.154094              0.149431   \n",
       "-9190737901804729417              0.145854              0.147096   \n",
       "\n",
       "                       9187866633451383747   9191849144618614467  \\\n",
       "contentId                                                          \n",
       "-9222795471790223670              0.145355              0.146543   \n",
       "-9216926795620865886              0.147412              0.147553   \n",
       "-9194572880052200111              0.149914              0.144985   \n",
       "-9192549002213406534              0.147372              0.144608   \n",
       "-9190737901804729417              0.147297              0.148634   \n",
       "\n",
       "                       9199170757466086545   9210530975708218054  \n",
       "contentId                                                         \n",
       "-9222795471790223670              0.147393              0.145792  \n",
       "-9216926795620865886              0.147763              0.147440  \n",
       "-9194572880052200111              0.150323              0.161600  \n",
       "-9192549002213406534              0.149699              0.163114  \n",
       "-9190737901804729417              0.148909              0.146765  \n",
       "\n",
       "[5 rows x 1140 columns]"
      ]
     },
     "execution_count": 99,
     "metadata": {},
     "output_type": "execute_result"
    }
   ],
   "source": [
    "cf_preds_df = pd.DataFrame(all_user_predicted_ratings_norm, columns = users_items_pivot_matrix_df.columns, index=users_ids).transpose()\n",
    "cf_preds_df.head()"
   ]
  },
  {
   "cell_type": "markdown",
   "metadata": {},
   "source": [
    "Igual que en los modelos anteriores, desarrollamos una función específica para la recomendación del modelo colaborativo. Además, hemos modificado para incluir una función de evaluación del modelo de manera similar."
   ]
  },
  {
   "cell_type": "code",
   "execution_count": 100,
   "metadata": {},
   "outputs": [],
   "source": [
    "def recommend_collab_items(user_id, items_to_ignore=[], verbose=False):\n",
    "        # Get and sort the user's predictions\n",
    "        sorted_user_predictions = cf_preds_df[user_id].sort_values(ascending=False).reset_index().rename(columns={user_id: 'recStrength'})\n",
    "\n",
    "        # Recommend the highest predicted rating movies that the user hasn't seen yet.\n",
    "        recommendations_df = sorted_user_predictions[~sorted_user_predictions['contentId'].isin(items_to_ignore)].sort_values('recStrength', ascending = False)\n",
    "\n",
    "        if verbose:\n",
    "            recommendations_df = recommendations_df.merge(adf, how = 'left', on = 'contentId')[['recStrength', 'contentId', 'title', 'url', 'lang']]\n",
    "\n",
    "\n",
    "        return recommendations_df"
   ]
  },
  {
   "cell_type": "code",
   "execution_count": 101,
   "metadata": {},
   "outputs": [],
   "source": [
    "def evaluate_collab_model_for_user(person_id):\n",
    "    interacted_values_testset = val_df.loc[person_id]\n",
    "    if type(interacted_values_testset['contentId']) == pd.Series:\n",
    "        person_interacted_items_testset = set(interacted_values_testset['contentId'])\n",
    "    else:\n",
    "        person_interacted_items_testset = set([int(interacted_values_testset['contentId'])])  \n",
    "    \n",
    "    interacted_items_count_testset = len(person_interacted_items_testset) \n",
    "\n",
    "    person_recs_df = recommend_collab_items(person_id, items_to_ignore=get_items_interacted(person_id, train_df))\n",
    "\n",
    "    hits_at_5_count = 0\n",
    "    hits_at_10_count = 0\n",
    "\n",
    "    for item_id in person_interacted_items_testset:\n",
    "        non_interacted_items_sample = get_not_interacted_items_sample(person_id, sample_size=100, seed=RANDOMSEED)\n",
    "\n",
    "        items_to_filter_recs = non_interacted_items_sample.union(set([item_id]))\n",
    "\n",
    "        valid_recs_df = person_recs_df[person_recs_df['contentId'].isin(items_to_filter_recs)]                    \n",
    "        valid_recs = valid_recs_df['contentId'].values\n",
    "        hit_at_5, index_at_5 = verify_hit_top_n(item_id, valid_recs, 5)\n",
    "        hits_at_5_count += hit_at_5\n",
    "        hit_at_10, index_at_10 = verify_hit_top_n(item_id, valid_recs, 10)\n",
    "        hits_at_10_count += hit_at_10\n",
    "\n",
    "    recall_at_5 = hits_at_5_count / float(interacted_items_count_testset)\n",
    "    recall_at_10 = hits_at_10_count / float(interacted_items_count_testset)\n",
    "\n",
    "    person_metrics = {'hits@5_count':hits_at_5_count, \n",
    "                        'hits@10_count':hits_at_10_count, \n",
    "                        'interacted_count': interacted_items_count_testset,\n",
    "                        'recall@5': recall_at_5,\n",
    "                        'recall@10': recall_at_10}\n",
    "    return person_metrics"
   ]
  },
  {
   "cell_type": "code",
   "execution_count": 102,
   "metadata": {},
   "outputs": [
    {
     "name": "stdout",
     "output_type": "stream",
     "text": [
      "Métricas de evaluación del modelo colaborativo incluyen el recall para los top 5 y top 10 recomendaciones {'modelName': 'Collaborative', 'recall@5': 0.31667092815136794, 'recall@10': 0.45525441063666583}\n"
     ]
    },
    {
     "data": {
      "text/html": [
       "<div>\n",
       "<style scoped>\n",
       "    .dataframe tbody tr th:only-of-type {\n",
       "        vertical-align: middle;\n",
       "    }\n",
       "\n",
       "    .dataframe tbody tr th {\n",
       "        vertical-align: top;\n",
       "    }\n",
       "\n",
       "    .dataframe thead th {\n",
       "        text-align: right;\n",
       "    }\n",
       "</style>\n",
       "<table border=\"1\" class=\"dataframe\">\n",
       "  <thead>\n",
       "    <tr style=\"text-align: right;\">\n",
       "      <th></th>\n",
       "      <th>hits@5_count</th>\n",
       "      <th>hits@10_count</th>\n",
       "      <th>interacted_count</th>\n",
       "      <th>recall@5</th>\n",
       "      <th>recall@10</th>\n",
       "      <th>_person_id</th>\n",
       "    </tr>\n",
       "  </thead>\n",
       "  <tbody>\n",
       "    <tr>\n",
       "      <th>11</th>\n",
       "      <td>34</td>\n",
       "      <td>61</td>\n",
       "      <td>192</td>\n",
       "      <td>0.177083</td>\n",
       "      <td>0.317708</td>\n",
       "      <td>3609194402293569455</td>\n",
       "    </tr>\n",
       "    <tr>\n",
       "      <th>18</th>\n",
       "      <td>17</td>\n",
       "      <td>45</td>\n",
       "      <td>134</td>\n",
       "      <td>0.126866</td>\n",
       "      <td>0.335821</td>\n",
       "      <td>-2626634673110551643</td>\n",
       "    </tr>\n",
       "    <tr>\n",
       "      <th>95</th>\n",
       "      <td>12</td>\n",
       "      <td>26</td>\n",
       "      <td>130</td>\n",
       "      <td>0.092308</td>\n",
       "      <td>0.200000</td>\n",
       "      <td>-1032019229384696495</td>\n",
       "    </tr>\n",
       "    <tr>\n",
       "      <th>112</th>\n",
       "      <td>32</td>\n",
       "      <td>36</td>\n",
       "      <td>117</td>\n",
       "      <td>0.273504</td>\n",
       "      <td>0.307692</td>\n",
       "      <td>-1443636648652872475</td>\n",
       "    </tr>\n",
       "    <tr>\n",
       "      <th>22</th>\n",
       "      <td>25</td>\n",
       "      <td>36</td>\n",
       "      <td>88</td>\n",
       "      <td>0.284091</td>\n",
       "      <td>0.409091</td>\n",
       "      <td>-2979881261169775358</td>\n",
       "    </tr>\n",
       "  </tbody>\n",
       "</table>\n",
       "</div>"
      ],
      "text/plain": [
       "     hits@5_count  hits@10_count  interacted_count  recall@5  recall@10  \\\n",
       "11             34             61               192  0.177083   0.317708   \n",
       "18             17             45               134  0.126866   0.335821   \n",
       "95             12             26               130  0.092308   0.200000   \n",
       "112            32             36               117  0.273504   0.307692   \n",
       "22             25             36                88  0.284091   0.409091   \n",
       "\n",
       "              _person_id  \n",
       "11   3609194402293569455  \n",
       "18  -2626634673110551643  \n",
       "95  -1032019229384696495  \n",
       "112 -1443636648652872475  \n",
       "22  -2979881261169775358  "
      ]
     },
     "execution_count": 102,
     "metadata": {},
     "output_type": "execute_result"
    }
   ],
   "source": [
    "people_metrics = []\n",
    "for idx, person_id in enumerate(list(val_df.index.unique().values)):\n",
    "    person_metrics = evaluate_collab_model_for_user(person_id)  \n",
    "    person_metrics['_person_id'] = person_id\n",
    "    people_metrics.append(person_metrics)\n",
    "\n",
    "collaborative_df = pd.DataFrame(people_metrics).sort_values('interacted_count', ascending=False)\n",
    "\n",
    "collaborative_recall_at_5 = collaborative_df['hits@5_count'].sum() / float(collaborative_df['interacted_count'].sum())\n",
    "collaborative_recall_at_10 = collaborative_df['hits@10_count'].sum() / float(collaborative_df['interacted_count'].sum())\n",
    "\n",
    "collaborative_metrics = {'modelName': 'Collaborative',\n",
    "                    'recall@5': collaborative_recall_at_5,\n",
    "                    'recall@10': collaborative_recall_at_10}    \n",
    "\n",
    "print('Métricas de evaluación del modelo colaborativo incluyen el recall para los top 5 y top 10 recomendaciones %s' % collaborative_metrics)\n",
    "collaborative_df.head()"
   ]
  },
  {
   "cell_type": "markdown",
   "metadata": {},
   "source": [
    "Para el recall@5, el valor obtenido es aproximadamente 0.317, lo que indica que alrededor del 31.7% de los elementos relevantes fueron recomendados en los primeros 5 elementos de la lista de recomendaciones. Para el recall@10, el valor obtenido es aproximadamente 0.455, lo que significa que alrededor del 45.5% de los elementos relevantes fueron recomendados en los primeros 10 elementos de la lista de recomendaciones.\n",
    "\n",
    "Las métricas de evaluación del modelo colaborativo muestran una mejora en comparación con los modelos anteriores, ya que el recall para las mejores 5 y 10 recomendaciones es más alto. Sin embargo, aunque estas métricas son mejores, aún indican que hay margen para mejorar la capacidad del modelo para recomendar elementos relevantes para los usuarios. Esto sugiere que, si bien el modelo colaborativo está generando recomendaciones más precisas en comparación con los modelos anteriores, todavía existen áreas en las que se puede trabajar para optimizar aún más su rendimiento y proporcionar recomendaciones más relevantes y personalizadas a los usuarios.\n",
    "\n",
    "<h2>Métodos Híbridos</h2>\n",
    "\n",
    "Los sistemas de recomendación híbridos combinan múltiples enfoques o técnicas de recomendación para mejorar la precisión y la relevancia de las recomendaciones. Estos métodos aprovechan las fortalezas de diferentes enfoques para compensar las debilidades de cada uno. Por ejemplo, un sistema híbrido puede combinar el filtrado colaborativo con el filtrado basado en contenido o incorporar técnicas de aprendizaje profundo junto con enfoques tradicionales de filtrado. La idea es utilizar la información de diversas fuentes, como las preferencias de los usuarios, las características de los elementos y el contexto de la recomendación, para generar recomendaciones más precisas y personalizadas. Los sistemas de recomendación híbridos son ampliamente utilizados en aplicaciones del mundo real debido a su capacidad para abordar los desafíos inherentes a los enfoques individuales y proporcionar recomendaciones más efectivas y adaptables a diversas situaciones y preferencias de los usuarios.\n",
    "\n",
    "En nuestro sistema, hemos desarrollado un método de recomendación híbrido que aprovecha las recomendaciones generadas por los modelos anteriores para mejorar la precisión y la relevancia de las recomendaciones del nuevo modelo. Este enfoque combina las fortalezas de los modelos colaborativo, basado en contenido y de factores latentes, utilizando sus resultados como entrada para el modelo híbrido. Al integrar las recomendaciones de los modelos anteriores, nuestro sistema puede capitalizar el conocimiento adquirido y las perspectivas generadas por cada enfoque individual, proporcionando así recomendaciones más completas y efectivas para los usuarios. Este enfoque híbrido nos permite aprovechar al máximo la información disponible y ofrecer recomendaciones más precisas y personalizadas en nuestro sistema de recomendación.\n"
   ]
  },
  {
   "cell_type": "code",
   "execution_count": 103,
   "metadata": {},
   "outputs": [],
   "source": [
    "def recommend_hybrid_items(person_id, items_to_ignore=[], cb_ensemble_weight=1, cf_ensemble_weight=100, verbose=False):\n",
    "        cb_recs_df = recommend_cont_items(person_id, items_to_ignore=items_to_ignore).rename(columns={'recStrength': 'recStrengthCB'})\n",
    "        cf_recs_df = recommend_collab_items(person_id, items_to_ignore=items_to_ignore).rename(columns={'recStrength': 'recStrengthCF'})\n",
    "        recs_df = cb_recs_df.merge(cf_recs_df, how = 'outer', on = 'contentId').fillna(0.0)\n",
    "        \n",
    "        recs_df['recStrengthHybrid'] = (recs_df['recStrengthCB'] * cb_ensemble_weight) + (recs_df['recStrengthCF'] * cf_ensemble_weight)\n",
    "        \n",
    "        recommendations_df = recs_df.sort_values('recStrengthHybrid', ascending=False)\n",
    "\n",
    "        if verbose:\n",
    "            recommendations_df = recommendations_df.merge(adf, how = 'left', on = 'contentId')[['recStrengthHybrid', 'contentId', 'title', 'url', 'lang']]\n",
    "\n",
    "        return recommendations_df"
   ]
  },
  {
   "cell_type": "markdown",
   "metadata": {},
   "source": [
    "Desarrollamos una función de evaluación adaptada específicamente al modelo híbrido. Esta función evalúa el rendimiento del sistema híbrido utilizando métricas relevantes, como el recall para las mejores 5 y 10 recomendaciones. Al adaptar la función de evaluación al modelo híbrido, podemos medir con precisión su capacidad para generar recomendaciones relevantes y personalizadas para los usuarios. Esto nos permite comprender mejor el rendimiento del sistema y realizar ajustes necesarios para mejorar su efectividad en la generación de recomendaciones."
   ]
  },
  {
   "cell_type": "code",
   "execution_count": 104,
   "metadata": {},
   "outputs": [],
   "source": [
    "def evaluate_hybrid_model_for_user(person_id):\n",
    "    interacted_values_testset = val_df.loc[person_id]\n",
    "    if type(interacted_values_testset['contentId']) == pd.Series:\n",
    "        person_interacted_items_testset = set(interacted_values_testset['contentId'])\n",
    "    else:\n",
    "        person_interacted_items_testset = set([int(interacted_values_testset['contentId'])])  \n",
    "    \n",
    "    interacted_items_count_testset = len(person_interacted_items_testset) \n",
    "    person_recs_df = recommend_hybrid_items(person_id, items_to_ignore=get_items_interacted(person_id, train_df))\n",
    "\n",
    "    hits_at_5_count = 0\n",
    "    hits_at_10_count = 0\n",
    "    for item_id in person_interacted_items_testset:\n",
    "        non_interacted_items_sample = get_not_interacted_items_sample(person_id, sample_size=100, seed=RANDOMSEED)\n",
    "\n",
    "        items_to_filter_recs = non_interacted_items_sample.union(set([item_id]))\n",
    "\n",
    "        valid_recs_df = person_recs_df[person_recs_df['contentId'].isin(items_to_filter_recs)]                    \n",
    "        valid_recs = valid_recs_df['contentId'].values\n",
    "        hit_at_5, index_at_5 = verify_hit_top_n(item_id, valid_recs, 5)\n",
    "        hits_at_5_count += hit_at_5\n",
    "        hit_at_10, index_at_10 = verify_hit_top_n(item_id, valid_recs, 10)\n",
    "        hits_at_10_count += hit_at_10\n",
    "\n",
    "    recall_at_5 = hits_at_5_count / float(interacted_items_count_testset)\n",
    "    recall_at_10 = hits_at_10_count / float(interacted_items_count_testset)\n",
    "\n",
    "    person_metrics = {'hits@5_count':hits_at_5_count, \n",
    "                        'hits@10_count':hits_at_10_count, \n",
    "                        'interacted_count': interacted_items_count_testset,\n",
    "                        'recall@5': recall_at_5,\n",
    "                        'recall@10': recall_at_10}\n",
    "    return person_metrics"
   ]
  },
  {
   "cell_type": "code",
   "execution_count": 105,
   "metadata": {},
   "outputs": [
    {
     "name": "stdout",
     "output_type": "stream",
     "text": [
      "Métricas de evaluación del modelo hibrido incluyen el recall para los top 5 y top 10 recomendaciones {'modelName': 'Hybrid', 'recall@5': 0.32459728969573, 'recall@10': 0.45998465865507543}\n"
     ]
    },
    {
     "data": {
      "text/html": [
       "<div>\n",
       "<style scoped>\n",
       "    .dataframe tbody tr th:only-of-type {\n",
       "        vertical-align: middle;\n",
       "    }\n",
       "\n",
       "    .dataframe tbody tr th {\n",
       "        vertical-align: top;\n",
       "    }\n",
       "\n",
       "    .dataframe thead th {\n",
       "        text-align: right;\n",
       "    }\n",
       "</style>\n",
       "<table border=\"1\" class=\"dataframe\">\n",
       "  <thead>\n",
       "    <tr style=\"text-align: right;\">\n",
       "      <th></th>\n",
       "      <th>hits@5_count</th>\n",
       "      <th>hits@10_count</th>\n",
       "      <th>interacted_count</th>\n",
       "      <th>recall@5</th>\n",
       "      <th>recall@10</th>\n",
       "      <th>_person_id</th>\n",
       "    </tr>\n",
       "  </thead>\n",
       "  <tbody>\n",
       "    <tr>\n",
       "      <th>11</th>\n",
       "      <td>30</td>\n",
       "      <td>59</td>\n",
       "      <td>192</td>\n",
       "      <td>0.156250</td>\n",
       "      <td>0.307292</td>\n",
       "      <td>3609194402293569455</td>\n",
       "    </tr>\n",
       "    <tr>\n",
       "      <th>18</th>\n",
       "      <td>17</td>\n",
       "      <td>44</td>\n",
       "      <td>134</td>\n",
       "      <td>0.126866</td>\n",
       "      <td>0.328358</td>\n",
       "      <td>-2626634673110551643</td>\n",
       "    </tr>\n",
       "    <tr>\n",
       "      <th>95</th>\n",
       "      <td>15</td>\n",
       "      <td>24</td>\n",
       "      <td>130</td>\n",
       "      <td>0.115385</td>\n",
       "      <td>0.184615</td>\n",
       "      <td>-1032019229384696495</td>\n",
       "    </tr>\n",
       "    <tr>\n",
       "      <th>112</th>\n",
       "      <td>30</td>\n",
       "      <td>37</td>\n",
       "      <td>117</td>\n",
       "      <td>0.256410</td>\n",
       "      <td>0.316239</td>\n",
       "      <td>-1443636648652872475</td>\n",
       "    </tr>\n",
       "    <tr>\n",
       "      <th>22</th>\n",
       "      <td>23</td>\n",
       "      <td>37</td>\n",
       "      <td>88</td>\n",
       "      <td>0.261364</td>\n",
       "      <td>0.420455</td>\n",
       "      <td>-2979881261169775358</td>\n",
       "    </tr>\n",
       "  </tbody>\n",
       "</table>\n",
       "</div>"
      ],
      "text/plain": [
       "     hits@5_count  hits@10_count  interacted_count  recall@5  recall@10  \\\n",
       "11             30             59               192  0.156250   0.307292   \n",
       "18             17             44               134  0.126866   0.328358   \n",
       "95             15             24               130  0.115385   0.184615   \n",
       "112            30             37               117  0.256410   0.316239   \n",
       "22             23             37                88  0.261364   0.420455   \n",
       "\n",
       "              _person_id  \n",
       "11   3609194402293569455  \n",
       "18  -2626634673110551643  \n",
       "95  -1032019229384696495  \n",
       "112 -1443636648652872475  \n",
       "22  -2979881261169775358  "
      ]
     },
     "execution_count": 105,
     "metadata": {},
     "output_type": "execute_result"
    }
   ],
   "source": [
    "people_metrics = []\n",
    "for idx, person_id in enumerate(list(val_df.index.unique().values)):\n",
    "    #if idx % 100 == 0 and idx > 0:\n",
    "    #    print('%d users processed' % idx)\n",
    "    person_metrics = evaluate_hybrid_model_for_user(person_id)  \n",
    "    person_metrics['_person_id'] = person_id\n",
    "    people_metrics.append(person_metrics)\n",
    "\n",
    "hybrid_df = pd.DataFrame(people_metrics).sort_values('interacted_count', ascending=False)\n",
    "\n",
    "hybrid_recall_at_5 = hybrid_df['hits@5_count'].sum() / float(hybrid_df['interacted_count'].sum())\n",
    "hybrid_recall_at_10 = hybrid_df['hits@10_count'].sum() / float(hybrid_df['interacted_count'].sum())\n",
    "\n",
    "hybrid_metrics = {'modelName': 'Hybrid',\n",
    "                    'recall@5': hybrid_recall_at_5,\n",
    "                    'recall@10': hybrid_recall_at_10}    \n",
    "\n",
    "print('Métricas de evaluación del modelo hibrido incluyen el recall para los top 5 y top 10 recomendaciones %s' % hybrid_metrics)\n",
    "hybrid_df.head()"
   ]
  },
  {
   "cell_type": "markdown",
   "metadata": {},
   "source": [
    "Las métricas de evaluación del modelo híbrido incluyen el recall para las mejores 5 y 10 recomendaciones. Para el recall@5, el valor obtenido es aproximadamente 0.325, lo que indica que alrededor del 32.5% de los elementos relevantes fueron recomendados en los primeros 5 elementos de la lista de recomendaciones. Para el recall@10, el valor obtenido es aproximadamente 0.460, lo que significa que alrededor del 46.0% de los elementos relevantes fueron recomendados en los primeros 10 elementos de la lista de recomendaciones. Estas métricas proporcionan una evaluación del rendimiento del modelo híbrido en términos de su capacidad para recomendar elementos relevantes para los usuarios en las posiciones principales de las recomendaciones.\n",
    "\n",
    "<h1>Resultado</h1>\n",
    "\n",
    "Deseamos comparar los modelos y determinar si existe alguna diferencia significativa entre ellos. Esta comparación nos permitirá evaluar la efectividad relativa de cada modelo en términos de su capacidad para generar recomendaciones relevantes y personalizadas para los usuarios. Al analizar las diferencias entre los modelos, podemos identificar qué enfoques son más efectivos en diferentes situaciones y contextos de recomendación. Esto nos proporciona información valiosa para tomar decisiones informadas sobre qué modelo implementar en nuestro sistema de recomendación y cómo mejorar su rendimiento en el futuro."
   ]
  },
  {
   "cell_type": "code",
   "execution_count": 106,
   "metadata": {},
   "outputs": [
    {
     "data": {
      "text/html": [
       "<div>\n",
       "<style scoped>\n",
       "    .dataframe tbody tr th:only-of-type {\n",
       "        vertical-align: middle;\n",
       "    }\n",
       "\n",
       "    .dataframe tbody tr th {\n",
       "        vertical-align: top;\n",
       "    }\n",
       "\n",
       "    .dataframe thead th {\n",
       "        text-align: right;\n",
       "    }\n",
       "</style>\n",
       "<table border=\"1\" class=\"dataframe\">\n",
       "  <thead>\n",
       "    <tr style=\"text-align: right;\">\n",
       "      <th></th>\n",
       "      <th>modelName</th>\n",
       "      <th>recall@5</th>\n",
       "      <th>recall@10</th>\n",
       "    </tr>\n",
       "  </thead>\n",
       "  <tbody>\n",
       "    <tr>\n",
       "      <th>0</th>\n",
       "      <td>Popularity</td>\n",
       "      <td>0.245462</td>\n",
       "      <td>0.381360</td>\n",
       "    </tr>\n",
       "    <tr>\n",
       "      <th>1</th>\n",
       "      <td>Content</td>\n",
       "      <td>0.097034</td>\n",
       "      <td>0.169778</td>\n",
       "    </tr>\n",
       "    <tr>\n",
       "      <th>2</th>\n",
       "      <td>Collaborative</td>\n",
       "      <td>0.316671</td>\n",
       "      <td>0.455254</td>\n",
       "    </tr>\n",
       "    <tr>\n",
       "      <th>3</th>\n",
       "      <td>Hybrid</td>\n",
       "      <td>0.324597</td>\n",
       "      <td>0.459985</td>\n",
       "    </tr>\n",
       "  </tbody>\n",
       "</table>\n",
       "</div>"
      ],
      "text/plain": [
       "       modelName  recall@5  recall@10\n",
       "0     Popularity  0.245462   0.381360\n",
       "1        Content  0.097034   0.169778\n",
       "2  Collaborative  0.316671   0.455254\n",
       "3         Hybrid  0.324597   0.459985"
      ]
     },
     "execution_count": 106,
     "metadata": {},
     "output_type": "execute_result"
    }
   ],
   "source": [
    "metrics = pd.DataFrame([popularity_metrics, content_metrics, collaborative_metrics, hybrid_metrics])\n",
    "metrics"
   ]
  },
  {
   "cell_type": "code",
   "execution_count": 107,
   "metadata": {},
   "outputs": [
    {
     "data": {
      "text/plain": [
       "<Axes: xlabel='modelName', ylabel='values'>"
      ]
     },
     "execution_count": 107,
     "metadata": {},
     "output_type": "execute_result"
    },
    {
     "data": {
      "image/png": "[encoded data removed]",
      "text/plain": [
       "<Figure size 600x400 with 1 Axes>"
      ]
     },
     "metadata": {},
     "output_type": "display_data"
    }
   ],
   "source": [
    "dfm = metrics.melt('modelName', var_name='recall', value_name='values')\n",
    "\n",
    "sns.set_theme(style='whitegrid', rc={'figure.figsize':(6, 4)})  #  elige la apariencia\n",
    "sns.barplot(dfm, x=\"modelName\", y=\"values\", hue='recall', palette='bone')"
   ]
  },
  {
   "cell_type": "markdown",
   "metadata": {},
   "source": [
    "Estas métricas proporcionan una comparación del rendimiento de los diferentes modelos de recomendación en cuanto a su capacidad para sugerir elementos relevantes para los usuarios en las posiciones principales de las recomendaciones. El modelo de popularidad tiene un recall@5 de aproximadamente 0.245 y un recall@10 de alrededor de 0.381. Esto indica que alrededor del 24.5% de los elementos relevantes fueron recomendados en los primeros 5 elementos, y aproximadamente el 38.1% en los primeros 10 elementos de la lista de recomendaciones.\n",
    "\n",
    "Para el modelo basado en contenido, los valores de recall son más bajos, con un recall@5 de aproximadamente 0.097 y un recall@10 de alrededor de 0.170. Esto sugiere que este modelo recomendó menos elementos relevantes en las primeras posiciones de la lista de recomendaciones. Por otro lado, el modelo colaborativo muestra un recall@5 de alrededor de 0.317 y un recall@10 de aproximadamente 0.455, lo que indica que recomendó un mayor número de elementos relevantes en comparación con el modelo basado en contenido. Finalmente, el modelo híbrido tiene un recall@5 de aproximadamente 0.325 y un recall@10 de alrededor de 0.460, mostrando un desempeño ligeramente mejor que el modelo colaborativo en términos de recomendaciones relevantes en las primeras posiciones.\n",
    "\n",
    "<h2>Pruebas</h2>\n",
    "\n",
    "Realizamos pruebas del sistema de recomendación simulando ser un usuario específico. En este caso, seleccionamos al usuario con el identificador -1479311724257856983 para evaluar las recomendaciones de cada modelo. Esto nos permite obtener una perspectiva práctica de cómo cada modelo se desempeña al recomendar elementos para un usuario en particular, lo que nos ayuda a comprender mejor sus fortalezas y debilidades en un escenario de uso real."
   ]
  },
  {
   "cell_type": "code",
   "execution_count": 108,
   "metadata": {},
   "outputs": [],
   "source": [
    "def inspect_interactions(person_id, test_set=True):\n",
    "    if test_set:\n",
    "        interactions_df = val_df\n",
    "    else:\n",
    "        interactions_df = train_df\n",
    "    \n",
    "    return interactions_df.loc[person_id].merge(adf, how = 'left', on = 'contentId') .sort_values('eventStrength', ascending = False)[['eventStrength', 'contentId','title', 'url', 'lang']]"
   ]
  },
  {
   "cell_type": "code",
   "execution_count": 109,
   "metadata": {},
   "outputs": [
    {
     "data": {
      "text/html": [
       "<div>\n",
       "<style scoped>\n",
       "    .dataframe tbody tr th:only-of-type {\n",
       "        vertical-align: middle;\n",
       "    }\n",
       "\n",
       "    .dataframe tbody tr th {\n",
       "        vertical-align: top;\n",
       "    }\n",
       "\n",
       "    .dataframe thead th {\n",
       "        text-align: right;\n",
       "    }\n",
       "</style>\n",
       "<table border=\"1\" class=\"dataframe\">\n",
       "  <thead>\n",
       "    <tr style=\"text-align: right;\">\n",
       "      <th></th>\n",
       "      <th>eventStrength</th>\n",
       "      <th>contentId</th>\n",
       "      <th>title</th>\n",
       "      <th>url</th>\n",
       "      <th>lang</th>\n",
       "    </tr>\n",
       "  </thead>\n",
       "  <tbody>\n",
       "    <tr>\n",
       "      <th>8</th>\n",
       "      <td>4.459432</td>\n",
       "      <td>7342707578347442862</td>\n",
       "      <td>At eBay, Machine Learning is Driving Innovativ...</td>\n",
       "      <td>https://www.ebayinc.com/stories/news/at-ebay-m...</td>\n",
       "      <td>en</td>\n",
       "    </tr>\n",
       "    <tr>\n",
       "      <th>86</th>\n",
       "      <td>4.169925</td>\n",
       "      <td>2589533162305407436</td>\n",
       "      <td>6 reasons why I like KeystoneML</td>\n",
       "      <td>http://radar.oreilly.com/2015/07/6-reasons-why...</td>\n",
       "      <td>en</td>\n",
       "    </tr>\n",
       "    <tr>\n",
       "      <th>65</th>\n",
       "      <td>4.169925</td>\n",
       "      <td>621816023396605502</td>\n",
       "      <td>AI Is Here to Help You Write Emails People Wil...</td>\n",
       "      <td>http://www.wired.com/2016/08/boomerang-using-a...</td>\n",
       "      <td>en</td>\n",
       "    </tr>\n",
       "    <tr>\n",
       "      <th>114</th>\n",
       "      <td>4.087463</td>\n",
       "      <td>-4460374799273064357</td>\n",
       "      <td>Deep Learning for Chatbots, Part 1 - Introduction</td>\n",
       "      <td>http://www.wildml.com/2016/04/deep-learning-fo...</td>\n",
       "      <td>en</td>\n",
       "    </tr>\n",
       "    <tr>\n",
       "      <th>84</th>\n",
       "      <td>4.000000</td>\n",
       "      <td>-7959318068735027467</td>\n",
       "      <td>Auto-scaling scikit-learn with Spark</td>\n",
       "      <td>https://databricks.com/blog/2016/02/08/auto-sc...</td>\n",
       "      <td>en</td>\n",
       "    </tr>\n",
       "  </tbody>\n",
       "</table>\n",
       "</div>"
      ],
      "text/plain": [
       "     eventStrength            contentId  \\\n",
       "8         4.459432  7342707578347442862   \n",
       "86        4.169925  2589533162305407436   \n",
       "65        4.169925   621816023396605502   \n",
       "114       4.087463 -4460374799273064357   \n",
       "84        4.000000 -7959318068735027467   \n",
       "\n",
       "                                                 title  \\\n",
       "8    At eBay, Machine Learning is Driving Innovativ...   \n",
       "86                     6 reasons why I like KeystoneML   \n",
       "65   AI Is Here to Help You Write Emails People Wil...   \n",
       "114  Deep Learning for Chatbots, Part 1 - Introduction   \n",
       "84                Auto-scaling scikit-learn with Spark   \n",
       "\n",
       "                                                   url lang  \n",
       "8    https://www.ebayinc.com/stories/news/at-ebay-m...   en  \n",
       "86   http://radar.oreilly.com/2015/07/6-reasons-why...   en  \n",
       "65   http://www.wired.com/2016/08/boomerang-using-a...   en  \n",
       "114  http://www.wildml.com/2016/04/deep-learning-fo...   en  \n",
       "84   https://databricks.com/blog/2016/02/08/auto-sc...   en  "
      ]
     },
     "execution_count": 109,
     "metadata": {},
     "output_type": "execute_result"
    }
   ],
   "source": [
    "inspect_interactions(-1479311724257856983, test_set=False).head()"
   ]
  },
  {
   "cell_type": "code",
   "execution_count": 110,
   "metadata": {},
   "outputs": [
    {
     "data": {
      "text/html": [
       "<div>\n",
       "<style scoped>\n",
       "    .dataframe tbody tr th:only-of-type {\n",
       "        vertical-align: middle;\n",
       "    }\n",
       "\n",
       "    .dataframe tbody tr th {\n",
       "        vertical-align: top;\n",
       "    }\n",
       "\n",
       "    .dataframe thead th {\n",
       "        text-align: right;\n",
       "    }\n",
       "</style>\n",
       "<table border=\"1\" class=\"dataframe\">\n",
       "  <thead>\n",
       "    <tr style=\"text-align: right;\">\n",
       "      <th></th>\n",
       "      <th>eventStrength</th>\n",
       "      <th>contentId</th>\n",
       "      <th>title</th>\n",
       "      <th>url</th>\n",
       "      <th>lang</th>\n",
       "    </tr>\n",
       "  </thead>\n",
       "  <tbody>\n",
       "    <tr>\n",
       "      <th>0</th>\n",
       "      <td>310.791362</td>\n",
       "      <td>-4029704725707465084</td>\n",
       "      <td>Former Google career coach shares a visual tri...</td>\n",
       "      <td>http://www.cnbc.com/2016/12/21/former-google-c...</td>\n",
       "      <td>en</td>\n",
       "    </tr>\n",
       "    <tr>\n",
       "      <th>1</th>\n",
       "      <td>237.145410</td>\n",
       "      <td>-6783772548752091658</td>\n",
       "      <td>Livro: Retrospectivas Divertidas</td>\n",
       "      <td>http://www.caroli.org/livro-retrospectivas-div...</td>\n",
       "      <td>pt</td>\n",
       "    </tr>\n",
       "    <tr>\n",
       "      <th>2</th>\n",
       "      <td>229.089057</td>\n",
       "      <td>-133139342397538859</td>\n",
       "      <td>Novo workaholic trabalha, pratica esportes e t...</td>\n",
       "      <td>http://gq.globo.com/Prazeres/Poder/Carreira/no...</td>\n",
       "      <td>pt</td>\n",
       "    </tr>\n",
       "    <tr>\n",
       "      <th>3</th>\n",
       "      <td>199.660338</td>\n",
       "      <td>-8208801367848627943</td>\n",
       "      <td>Ray Kurzweil: The world isn't getting worse - ...</td>\n",
       "      <td>http://www.geekwire.com/2016/ray-kurzweil-worl...</td>\n",
       "      <td>en</td>\n",
       "    </tr>\n",
       "    <tr>\n",
       "      <th>4</th>\n",
       "      <td>196.174998</td>\n",
       "      <td>-6843047699859121724</td>\n",
       "      <td>Ganhe 6 meses de acesso ao Pluralsight, maior ...</td>\n",
       "      <td>https://medium.com/@jeffersoncn/ganhe-6-meses-...</td>\n",
       "      <td>pt</td>\n",
       "    </tr>\n",
       "  </tbody>\n",
       "</table>\n",
       "</div>"
      ],
      "text/plain": [
       "   eventStrength            contentId  \\\n",
       "0     310.791362 -4029704725707465084   \n",
       "1     237.145410 -6783772548752091658   \n",
       "2     229.089057  -133139342397538859   \n",
       "3     199.660338 -8208801367848627943   \n",
       "4     196.174998 -6843047699859121724   \n",
       "\n",
       "                                               title  \\\n",
       "0  Former Google career coach shares a visual tri...   \n",
       "1                   Livro: Retrospectivas Divertidas   \n",
       "2  Novo workaholic trabalha, pratica esportes e t...   \n",
       "3  Ray Kurzweil: The world isn't getting worse - ...   \n",
       "4  Ganhe 6 meses de acesso ao Pluralsight, maior ...   \n",
       "\n",
       "                                                 url lang  \n",
       "0  http://www.cnbc.com/2016/12/21/former-google-c...   en  \n",
       "1  http://www.caroli.org/livro-retrospectivas-div...   pt  \n",
       "2  http://gq.globo.com/Prazeres/Poder/Carreira/no...   pt  \n",
       "3  http://www.geekwire.com/2016/ray-kurzweil-worl...   en  \n",
       "4  https://medium.com/@jeffersoncn/ganhe-6-meses-...   pt  "
      ]
     },
     "execution_count": 110,
     "metadata": {},
     "output_type": "execute_result"
    }
   ],
   "source": [
    "recommend_items(-1479311724257856983, verbose=True).head()"
   ]
  },
  {
   "cell_type": "code",
   "execution_count": 111,
   "metadata": {},
   "outputs": [
    {
     "data": {
      "text/html": [
       "<div>\n",
       "<style scoped>\n",
       "    .dataframe tbody tr th:only-of-type {\n",
       "        vertical-align: middle;\n",
       "    }\n",
       "\n",
       "    .dataframe tbody tr th {\n",
       "        vertical-align: top;\n",
       "    }\n",
       "\n",
       "    .dataframe thead th {\n",
       "        text-align: right;\n",
       "    }\n",
       "</style>\n",
       "<table border=\"1\" class=\"dataframe\">\n",
       "  <thead>\n",
       "    <tr style=\"text-align: right;\">\n",
       "      <th></th>\n",
       "      <th>recStrength</th>\n",
       "      <th>contentId</th>\n",
       "      <th>title</th>\n",
       "      <th>url</th>\n",
       "      <th>lang</th>\n",
       "    </tr>\n",
       "  </thead>\n",
       "  <tbody>\n",
       "    <tr>\n",
       "      <th>0</th>\n",
       "      <td>0.639575</td>\n",
       "      <td>5250363310227021277</td>\n",
       "      <td>How Google is Remaking Itself as a \"Machine Le...</td>\n",
       "      <td>https://backchannel.com/how-google-is-remaking...</td>\n",
       "      <td>en</td>\n",
       "    </tr>\n",
       "    <tr>\n",
       "      <th>1</th>\n",
       "      <td>0.637343</td>\n",
       "      <td>-7126520323752764957</td>\n",
       "      <td>How Google is Remaking Itself as a \"Machine Le...</td>\n",
       "      <td>https://backchannel.com/how-google-is-remaking...</td>\n",
       "      <td>en</td>\n",
       "    </tr>\n",
       "    <tr>\n",
       "      <th>2</th>\n",
       "      <td>0.596787</td>\n",
       "      <td>638282658987724754</td>\n",
       "      <td>Machine Learning for Designers</td>\n",
       "      <td>https://www.oreilly.com/learning/machine-learn...</td>\n",
       "      <td>en</td>\n",
       "    </tr>\n",
       "    <tr>\n",
       "      <th>3</th>\n",
       "      <td>0.548772</td>\n",
       "      <td>-229081393244987789</td>\n",
       "      <td>Building AI Is Hard-So Facebook Is Building AI...</td>\n",
       "      <td>http://www.wired.com/2016/05/facebook-trying-c...</td>\n",
       "      <td>en</td>\n",
       "    </tr>\n",
       "    <tr>\n",
       "      <th>4</th>\n",
       "      <td>0.540678</td>\n",
       "      <td>-4571929941432664145</td>\n",
       "      <td>Machine Learning as a Service: How Data Scienc...</td>\n",
       "      <td>http://www.huffingtonpost.com/laura-dambrosio/...</td>\n",
       "      <td>en</td>\n",
       "    </tr>\n",
       "  </tbody>\n",
       "</table>\n",
       "</div>"
      ],
      "text/plain": [
       "   recStrength            contentId  \\\n",
       "0     0.639575  5250363310227021277   \n",
       "1     0.637343 -7126520323752764957   \n",
       "2     0.596787   638282658987724754   \n",
       "3     0.548772  -229081393244987789   \n",
       "4     0.540678 -4571929941432664145   \n",
       "\n",
       "                                               title  \\\n",
       "0  How Google is Remaking Itself as a \"Machine Le...   \n",
       "1  How Google is Remaking Itself as a \"Machine Le...   \n",
       "2                     Machine Learning for Designers   \n",
       "3  Building AI Is Hard-So Facebook Is Building AI...   \n",
       "4  Machine Learning as a Service: How Data Scienc...   \n",
       "\n",
       "                                                 url lang  \n",
       "0  https://backchannel.com/how-google-is-remaking...   en  \n",
       "1  https://backchannel.com/how-google-is-remaking...   en  \n",
       "2  https://www.oreilly.com/learning/machine-learn...   en  \n",
       "3  http://www.wired.com/2016/05/facebook-trying-c...   en  \n",
       "4  http://www.huffingtonpost.com/laura-dambrosio/...   en  "
      ]
     },
     "execution_count": 111,
     "metadata": {},
     "output_type": "execute_result"
    }
   ],
   "source": [
    "recommend_cont_items(-1479311724257856983, verbose=True).head()"
   ]
  },
  {
   "cell_type": "code",
   "execution_count": 112,
   "metadata": {},
   "outputs": [
    {
     "data": {
      "text/html": [
       "<div>\n",
       "<style scoped>\n",
       "    .dataframe tbody tr th:only-of-type {\n",
       "        vertical-align: middle;\n",
       "    }\n",
       "\n",
       "    .dataframe tbody tr th {\n",
       "        vertical-align: top;\n",
       "    }\n",
       "\n",
       "    .dataframe thead th {\n",
       "        text-align: right;\n",
       "    }\n",
       "</style>\n",
       "<table border=\"1\" class=\"dataframe\">\n",
       "  <thead>\n",
       "    <tr style=\"text-align: right;\">\n",
       "      <th></th>\n",
       "      <th>recStrength</th>\n",
       "      <th>contentId</th>\n",
       "      <th>title</th>\n",
       "      <th>url</th>\n",
       "      <th>lang</th>\n",
       "    </tr>\n",
       "  </thead>\n",
       "  <tbody>\n",
       "    <tr>\n",
       "      <th>0</th>\n",
       "      <td>0.264316</td>\n",
       "      <td>-8085935119790093311</td>\n",
       "      <td>Graph Capabilities with the Elastic Stack</td>\n",
       "      <td>https://www.elastic.co/webinars/sneak-peek-of-...</td>\n",
       "      <td>en</td>\n",
       "    </tr>\n",
       "    <tr>\n",
       "      <th>1</th>\n",
       "      <td>0.253769</td>\n",
       "      <td>-7986975759046428357</td>\n",
       "      <td>It's The Future</td>\n",
       "      <td>https://circleci.com/blog/its-the-future/</td>\n",
       "      <td>en</td>\n",
       "    </tr>\n",
       "    <tr>\n",
       "      <th>2</th>\n",
       "      <td>0.250950</td>\n",
       "      <td>-1901742495252324928</td>\n",
       "      <td>Designing smart notifications</td>\n",
       "      <td>https://medium.com/@intercom/designing-smart-n...</td>\n",
       "      <td>en</td>\n",
       "    </tr>\n",
       "    <tr>\n",
       "      <th>3</th>\n",
       "      <td>0.248407</td>\n",
       "      <td>-4228415104574264137</td>\n",
       "      <td>Up your app's sharing game with DirectShare - ...</td>\n",
       "      <td>https://medium.com/google-developers/up-your-a...</td>\n",
       "      <td>en</td>\n",
       "    </tr>\n",
       "    <tr>\n",
       "      <th>4</th>\n",
       "      <td>0.247311</td>\n",
       "      <td>7395435905985567130</td>\n",
       "      <td>The AI business landscape</td>\n",
       "      <td>https://www.oreilly.com/ideas/the-ai-business-...</td>\n",
       "      <td>en</td>\n",
       "    </tr>\n",
       "  </tbody>\n",
       "</table>\n",
       "</div>"
      ],
      "text/plain": [
       "   recStrength            contentId  \\\n",
       "0     0.264316 -8085935119790093311   \n",
       "1     0.253769 -7986975759046428357   \n",
       "2     0.250950 -1901742495252324928   \n",
       "3     0.248407 -4228415104574264137   \n",
       "4     0.247311  7395435905985567130   \n",
       "\n",
       "                                               title  \\\n",
       "0          Graph Capabilities with the Elastic Stack   \n",
       "1                                    It's The Future   \n",
       "2                      Designing smart notifications   \n",
       "3  Up your app's sharing game with DirectShare - ...   \n",
       "4                          The AI business landscape   \n",
       "\n",
       "                                                 url lang  \n",
       "0  https://www.elastic.co/webinars/sneak-peek-of-...   en  \n",
       "1          https://circleci.com/blog/its-the-future/   en  \n",
       "2  https://medium.com/@intercom/designing-smart-n...   en  \n",
       "3  https://medium.com/google-developers/up-your-a...   en  \n",
       "4  https://www.oreilly.com/ideas/the-ai-business-...   en  "
      ]
     },
     "execution_count": 112,
     "metadata": {},
     "output_type": "execute_result"
    }
   ],
   "source": [
    "recommend_collab_items(-1479311724257856983, verbose=True).head()"
   ]
  },
  {
   "cell_type": "code",
   "execution_count": 113,
   "metadata": {},
   "outputs": [
    {
     "data": {
      "text/html": [
       "<div>\n",
       "<style scoped>\n",
       "    .dataframe tbody tr th:only-of-type {\n",
       "        vertical-align: middle;\n",
       "    }\n",
       "\n",
       "    .dataframe tbody tr th {\n",
       "        vertical-align: top;\n",
       "    }\n",
       "\n",
       "    .dataframe thead th {\n",
       "        text-align: right;\n",
       "    }\n",
       "</style>\n",
       "<table border=\"1\" class=\"dataframe\">\n",
       "  <thead>\n",
       "    <tr style=\"text-align: right;\">\n",
       "      <th></th>\n",
       "      <th>recStrengthHybrid</th>\n",
       "      <th>contentId</th>\n",
       "      <th>title</th>\n",
       "      <th>url</th>\n",
       "      <th>lang</th>\n",
       "    </tr>\n",
       "  </thead>\n",
       "  <tbody>\n",
       "    <tr>\n",
       "      <th>0</th>\n",
       "      <td>26.431612</td>\n",
       "      <td>-8085935119790093311</td>\n",
       "      <td>Graph Capabilities with the Elastic Stack</td>\n",
       "      <td>https://www.elastic.co/webinars/sneak-peek-of-...</td>\n",
       "      <td>en</td>\n",
       "    </tr>\n",
       "    <tr>\n",
       "      <th>1</th>\n",
       "      <td>25.387432</td>\n",
       "      <td>-1901742495252324928</td>\n",
       "      <td>Designing smart notifications</td>\n",
       "      <td>https://medium.com/@intercom/designing-smart-n...</td>\n",
       "      <td>en</td>\n",
       "    </tr>\n",
       "    <tr>\n",
       "      <th>2</th>\n",
       "      <td>25.376931</td>\n",
       "      <td>-7986975759046428357</td>\n",
       "      <td>It's The Future</td>\n",
       "      <td>https://circleci.com/blog/its-the-future/</td>\n",
       "      <td>en</td>\n",
       "    </tr>\n",
       "    <tr>\n",
       "      <th>3</th>\n",
       "      <td>25.071517</td>\n",
       "      <td>7395435905985567130</td>\n",
       "      <td>The AI business landscape</td>\n",
       "      <td>https://www.oreilly.com/ideas/the-ai-business-...</td>\n",
       "      <td>en</td>\n",
       "    </tr>\n",
       "    <tr>\n",
       "      <th>4</th>\n",
       "      <td>24.960855</td>\n",
       "      <td>2589533162305407436</td>\n",
       "      <td>6 reasons why I like KeystoneML</td>\n",
       "      <td>http://radar.oreilly.com/2015/07/6-reasons-why...</td>\n",
       "      <td>en</td>\n",
       "    </tr>\n",
       "  </tbody>\n",
       "</table>\n",
       "</div>"
      ],
      "text/plain": [
       "   recStrengthHybrid            contentId  \\\n",
       "0          26.431612 -8085935119790093311   \n",
       "1          25.387432 -1901742495252324928   \n",
       "2          25.376931 -7986975759046428357   \n",
       "3          25.071517  7395435905985567130   \n",
       "4          24.960855  2589533162305407436   \n",
       "\n",
       "                                       title  \\\n",
       "0  Graph Capabilities with the Elastic Stack   \n",
       "1              Designing smart notifications   \n",
       "2                            It's The Future   \n",
       "3                  The AI business landscape   \n",
       "4            6 reasons why I like KeystoneML   \n",
       "\n",
       "                                                 url lang  \n",
       "0  https://www.elastic.co/webinars/sneak-peek-of-...   en  \n",
       "1  https://medium.com/@intercom/designing-smart-n...   en  \n",
       "2          https://circleci.com/blog/its-the-future/   en  \n",
       "3  https://www.oreilly.com/ideas/the-ai-business-...   en  \n",
       "4  http://radar.oreilly.com/2015/07/6-reasons-why...   en  "
      ]
     },
     "execution_count": 113,
     "metadata": {},
     "output_type": "execute_result"
    }
   ],
   "source": [
    "recommend_hybrid_items(-1479311724257856983, verbose=True).head()"
   ]
  },
  {
   "cell_type": "markdown",
   "metadata": {},
   "source": [
    "Al realizar la evaluación de los modelos, observamos los títulos recomendados por cada uno y notamos que algunos de ellos se repiten entre los diferentes modelos. Esta observación nos brinda una visión más detallada de cómo cada modelo selecciona y prioriza los elementos para recomendar. Para evaluar la efectividad de estas recomendaciones, comparamos los títulos sugeridos con los datos de prueba de interacciones del usuario seleccionado. Utilizamos esta comparación para calcular el recall, una métrica que nos indica qué tan bien cada modelo logra recomendar los artículos con los que el usuario ha interactuado previamente. De esta manera, podemos medir y comparar la capacidad de cada modelo para sugerir elementos relevantes para el usuario en cuestión.\n",
    "\n",
    "<h1>Discusión</h1>\n",
    "\n",
    "La comparación de las métricas de recall para los diferentes modelos de recomendación proporciona una visión completa de su desempeño en la generación de recomendaciones relevantes. Los resultados muestran que el modelo de popularidad obtiene un recall relativamente alto tanto para las mejores 5 como para las mejores 10 recomendaciones, lo que indica que es capaz de sugerir una cantidad significativa de elementos relevantes para los usuarios. Por otro lado, el modelo basado en contenido muestra un rendimiento inferior en términos de recall, lo que sugiere que sus recomendaciones pueden no ser tan relevantes para los usuarios en comparación con los otros modelos.\n",
    "\n",
    "El modelo colaborativo supera al modelo basado en contenido en términos de recall, lo que indica que es más efectivo para recomendar elementos relevantes para los usuarios. Sin embargo, el modelo híbrido muestra un rendimiento ligeramente mejor que el modelo colaborativo, lo que sugiere que la combinación de diferentes enfoques de recomendación puede ser más efectiva para proporcionar recomendaciones personalizadas y relevantes.\n",
    "\n",
    "Estos resultados tienen importantes implicaciones para los sistemas de recomendación. Por ejemplo, sugieren que la popularidad puede ser un indicador útil para generar recomendaciones iniciales, pero que modelos más avanzados, como los basados en contenido y colaborativos, pueden mejorar significativamente la calidad de las recomendaciones al tener en cuenta información más detallada sobre los usuarios y los elementos. Además, el modelo híbrido demuestra que la combinación de diferentes enfoques puede conducir a un rendimiento aún mejor, lo que destaca la importancia de la diversidad en la selección de modelos de recomendación.\n",
    "\n",
    "Además de evaluar los modelos de recomendación, es crucial abordar el desafío del \"cold start\", que dificulta proporcionar recomendaciones precisas para usuarios nuevos o con poca actividad. Para abordar este problema, se pueden implementar varias estrategias. En primer lugar, la recolección de información adicional durante el registro, como información demográfica o preferencias iniciales, puede ayudar a personalizar las recomendaciones desde el principio. Además, el uso de recomendaciones basadas en contenido, que se centran en características de los elementos en lugar del comportamiento del usuario, puede ser efectivo para usuarios nuevos. Los modelos híbridos que combinan múltiples enfoques de recomendación también pueden adaptarse al cold start, utilizando recomendaciones basadas en popularidad para usuarios nuevos y cambiando a enfoques más personalizados a medida que se recopila más información sobre el usuario. Asimismo, aumentar la diversidad de contenido inicial y ofrecer incentivos para la interacción temprana pueden fomentar la participación de los usuarios y proporcionar datos útiles para mejorar las recomendaciones. Estas estrategias pueden ayudar a mejorar la experiencia de los usuarios nuevos y abordar el desafío del cold start en los sistemas de recomendación.\n",
    "\n",
    "<h1>Conclusión</h1>\n",
    "\n",
    "En este estudio, hemos diseñado, implementado y evaluado varios modelos de sistemas de recomendación para la plataforma Deskdrop, una herramienta clave en el intercambio de información dentro de las organizaciones. Nuestro objetivo era mejorar la experiencia del usuario y la utilidad de Deskdrop mediante la generación de recomendaciones personalizadas y relevantes para cada empleado.\n",
    "\n",
    "Hemos explorado diferentes enfoques de recomendación, incluyendo modelos de popularidad, basados en contenido, colaborativos y híbridos. Nuestra evaluación se centró en métricas de recall para las mejores 5 y 10 recomendaciones, que proporcionan una medida de la capacidad de los modelos para sugerir elementos relevantes para los usuarios.\n",
    "\n",
    "Los resultados muestran que, si bien el modelo de popularidad puede ser útil para generar recomendaciones iniciales, los modelos más avanzados, como los basados en contenido, colaborativos y híbridos, pueden mejorar significativamente la calidad de las recomendaciones al tener en cuenta información más detallada sobre los usuarios y los elementos. Específicamente, observamos que el modelo híbrido, que combina diferentes enfoques de recomendación, mostró un rendimiento ligeramente mejor en términos de recall para las mejores 5 y 10 recomendaciones.\n",
    "\n",
    "Estos hallazgos destacan la importancia de la diversidad en la selección de modelos de recomendación y la necesidad de adaptarse al contexto específico de la plataforma y los usuarios. Además, identificamos el desafío del \"cold start\" como un aspecto crucial a abordar, ya que dificulta proporcionar recomendaciones precisas para usuarios nuevos o con poca actividad. Para mitigar este desafío, sugerimos estrategias como la recolección de información adicional durante el registro, el uso de recomendaciones basadas en contenido y la implementación de modelos híbridos que puedan adaptarse a diferentes escenarios."
   ]
  }
 ],
 "metadata": {
  "kernelspec": {
   "display_name": "Python 3",
   "language": "python",
   "name": "python3"
  },
  "language_info": {
   "codemirror_mode": {
    "name": "ipython",
    "version": 3
   },
   "file_extension": ".py",
   "mimetype": "text/x-python",
   "name": "python",
   "nbconvert_exporter": "python",
   "pygments_lexer": "ipython3",
   "version": "3.8.2"
  }
 },
 "nbformat": 4,
 "nbformat_minor": 2
}
